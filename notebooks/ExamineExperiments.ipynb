{
 "cells": [
  {
   "cell_type": "code",
   "execution_count": 1,
   "metadata": {},
   "outputs": [],
   "source": [
    "import numpy as np\n",
    "import pandas as pd\n",
    "import matplotlib.pyplot as plt\n",
    "import os\n",
    "import yaml\n",
    "import json"
   ]
  },
  {
   "cell_type": "code",
   "execution_count": 2,
   "metadata": {},
   "outputs": [
    {
     "data": {
      "text/html": [
       "<style>.container { width:100% !important; }</style>"
      ],
      "text/plain": [
       "<IPython.core.display.HTML object>"
      ]
     },
     "metadata": {},
     "output_type": "display_data"
    }
   ],
   "source": [
    "from IPython.core.display import display, HTML\n",
    "display(HTML(\"<style>.container { width:100% !important; }</style>\"))"
   ]
  },
  {
   "cell_type": "code",
   "execution_count": 3,
   "metadata": {},
   "outputs": [],
   "source": [
    "def load_yaml(path):\n",
    "    with open(path, 'r') as f:\n",
    "        return yaml.safe_load(f)\n",
    "def load_json(path):\n",
    "    with open(path, 'r') as f:\n",
    "        return json.load(f)"
   ]
  },
  {
   "cell_type": "code",
   "execution_count": 4,
   "metadata": {},
   "outputs": [],
   "source": [
    "model_path = '../models/'"
   ]
  },
  {
   "cell_type": "code",
   "execution_count": 5,
   "metadata": {},
   "outputs": [],
   "source": [
    "config_list = []\n",
    "metric_list = []\n",
    "\n",
    "for f in os.listdir(model_path):\n",
    "    subdir = model_path + f + '/'\n",
    "    config_path = subdir + 'config.yaml'\n",
    "    metrics_path = subdir + 'metrics.json'\n",
    "    if not (os.path.exists(config_path) and os.path.exists(metrics_path)):\n",
    "        continue\n",
    "    config_list.append(load_yaml(config_path))\n",
    "    metric_list.append(load_json(metrics_path))"
   ]
  },
  {
   "cell_type": "code",
   "execution_count": 6,
   "metadata": {},
   "outputs": [],
   "source": [
    "def expand_config_item(config_item):\n",
    "    expanded = {}\n",
    "    expanded['input_padding'] = config_item['data']['input_padding']\n",
    "    expanded['train_batch_size'] = config_item['loader']['train']['batch_size']\n",
    "    expanded['n_beams'] = config_item['metrics']['n_beams']\n",
    "    for k, v in config_item['model_args'].items():\n",
    "        expanded[k] = v\n",
    "    expanded['optimizer'] = config_item['optimizer']['type']\n",
    "    for k, v in config_item['optimizer']['opt_args'].items():\n",
    "        expanded[k] = v\n",
    "#     handle all model args\n",
    "#     handle all opt args\n",
    "    expanded['n_warmup_steps'] = config_item['scheduler']['n_warmup_steps']\n",
    "    expanded['nb_epochs'] = config_item['scheduler']['nb_epochs']\n",
    "    return expanded"
   ]
  },
  {
   "cell_type": "code",
   "execution_count": 7,
   "metadata": {},
   "outputs": [],
   "source": [
    "config_list = [expand_config_item(c) for c in config_list]\n",
    "config_df = pd.DataFrame.from_dict(config_list)\n",
    "drop_cols = []\n",
    "for c in list(config_df):\n",
    "    if config_df[c].nunique()==1:\n",
    "        drop_cols.append(c)\n",
    "config_df.drop(drop_cols, axis=1, inplace=True)"
   ]
  },
  {
   "cell_type": "code",
   "execution_count": 8,
   "metadata": {},
   "outputs": [],
   "source": [
    "def get_nice_metrics(metric_list):\n",
    "    correct = pd.DataFrame.from_dict([l['correct'] for l in metric_list])\n",
    "    beam = pd.DataFrame.from_dict([{\n",
    "        'beam_0_product' : l['beam_accuracy']['correct_product']['0'],\n",
    "        'beam_0_factorization' : l['beam_accuracy']['correct_factorization']['0'],\n",
    "        'beam_1_product' : l['beam_accuracy']['correct_product']['1'],\n",
    "        'beam_1_factorization' : l['beam_accuracy']['correct_factorization']['1']\n",
    "    } for l in metric_list])\n",
    "    \n",
    "    return [correct, beam]"
   ]
  },
  {
   "cell_type": "code",
   "execution_count": 9,
   "metadata": {},
   "outputs": [],
   "source": [
    "# metric_list[0]"
   ]
  },
  {
   "cell_type": "code",
   "execution_count": 10,
   "metadata": {},
   "outputs": [],
   "source": [
    "merged = pd.concat([config_df] + get_nice_metrics(metric_list), axis=1)"
   ]
  },
  {
   "cell_type": "code",
   "execution_count": 11,
   "metadata": {},
   "outputs": [
    {
     "data": {
      "text/html": [
       "<div>\n",
       "<style scoped>\n",
       "    .dataframe tbody tr th:only-of-type {\n",
       "        vertical-align: middle;\n",
       "    }\n",
       "\n",
       "    .dataframe tbody tr th {\n",
       "        vertical-align: top;\n",
       "    }\n",
       "\n",
       "    .dataframe thead th {\n",
       "        text-align: right;\n",
       "    }\n",
       "</style>\n",
       "<table border=\"1\" class=\"dataframe\">\n",
       "  <thead>\n",
       "    <tr style=\"text-align: right;\">\n",
       "      <th></th>\n",
       "      <th>input_padding</th>\n",
       "      <th>shared_embeddings</th>\n",
       "      <th>correct_product</th>\n",
       "      <th>correct_factorization</th>\n",
       "      <th>beam_0_product</th>\n",
       "      <th>beam_0_factorization</th>\n",
       "      <th>beam_1_product</th>\n",
       "      <th>beam_1_factorization</th>\n",
       "    </tr>\n",
       "  </thead>\n",
       "  <tbody>\n",
       "    <tr>\n",
       "      <th>0</th>\n",
       "      <td>pad</td>\n",
       "      <td>True</td>\n",
       "      <td>0.999923</td>\n",
       "      <td>0.283706</td>\n",
       "      <td>0.999846</td>\n",
       "      <td>0.215718</td>\n",
       "      <td>0.272797</td>\n",
       "      <td>0.067988</td>\n",
       "    </tr>\n",
       "    <tr>\n",
       "      <th>1</th>\n",
       "      <td>pad</td>\n",
       "      <td>False</td>\n",
       "      <td>0.999923</td>\n",
       "      <td>0.280633</td>\n",
       "      <td>0.999770</td>\n",
       "      <td>0.215487</td>\n",
       "      <td>0.262887</td>\n",
       "      <td>0.065146</td>\n",
       "    </tr>\n",
       "    <tr>\n",
       "      <th>2</th>\n",
       "      <td>zeros</td>\n",
       "      <td>True</td>\n",
       "      <td>0.999770</td>\n",
       "      <td>0.279097</td>\n",
       "      <td>0.999616</td>\n",
       "      <td>0.215564</td>\n",
       "      <td>0.257740</td>\n",
       "      <td>0.063532</td>\n",
       "    </tr>\n",
       "    <tr>\n",
       "      <th>3</th>\n",
       "      <td>zeros</td>\n",
       "      <td>False</td>\n",
       "      <td>0.999846</td>\n",
       "      <td>0.277406</td>\n",
       "      <td>0.999616</td>\n",
       "      <td>0.215487</td>\n",
       "      <td>0.254590</td>\n",
       "      <td>0.061919</td>\n",
       "    </tr>\n",
       "  </tbody>\n",
       "</table>\n",
       "</div>"
      ],
      "text/plain": [
       "  input_padding  shared_embeddings  correct_product  correct_factorization  \\\n",
       "0           pad               True         0.999923               0.283706   \n",
       "1           pad              False         0.999923               0.280633   \n",
       "2         zeros               True         0.999770               0.279097   \n",
       "3         zeros              False         0.999846               0.277406   \n",
       "\n",
       "   beam_0_product  beam_0_factorization  beam_1_product  beam_1_factorization  \n",
       "0        0.999846              0.215718        0.272797              0.067988  \n",
       "1        0.999770              0.215487        0.262887              0.065146  \n",
       "2        0.999616              0.215564        0.257740              0.063532  \n",
       "3        0.999616              0.215487        0.254590              0.061919  "
      ]
     },
     "execution_count": 11,
     "metadata": {},
     "output_type": "execute_result"
    }
   ],
   "source": [
    "merged"
   ]
  },
  {
   "cell_type": "code",
   "execution_count": null,
   "metadata": {},
   "outputs": [],
   "source": []
  }
 ],
 "metadata": {
  "kernelspec": {
   "display_name": "Python 3",
   "language": "python",
   "name": "python3"
  },
  "language_info": {
   "codemirror_mode": {
    "name": "ipython",
    "version": 3
   },
   "file_extension": ".py",
   "mimetype": "text/x-python",
   "name": "python",
   "nbconvert_exporter": "python",
   "pygments_lexer": "ipython3",
   "version": "3.8.7"
  }
 },
 "nbformat": 4,
 "nbformat_minor": 4
}
