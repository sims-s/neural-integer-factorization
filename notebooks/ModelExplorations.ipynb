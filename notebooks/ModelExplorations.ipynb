{
 "cells": [
  {
   "cell_type": "code",
   "execution_count": 1,
   "metadata": {},
   "outputs": [],
   "source": [
    "import numpy as np\n",
    "import pandas as pd\n",
    "import torch\n",
    "import torch.nn as nn\n",
    "import matplotlib.pyplot as plt\n",
    "import os\n",
    "import sys\n",
    "sys.path.append('../src/')\n",
    "import models\n",
    "import generation_utils\n",
    "import metrics_utils\n",
    "import tokenizer\n",
    "import data_utils\n",
    "from utils import get_best_checkpoint"
   ]
  },
  {
   "cell_type": "code",
   "execution_count": 2,
   "metadata": {},
   "outputs": [
    {
     "data": {
      "text/html": [
       "<style>.container { width:100% !important; }</style>"
      ],
      "text/plain": [
       "<IPython.core.display.HTML object>"
      ]
     },
     "metadata": {},
     "output_type": "display_data"
    }
   ],
   "source": [
    "from IPython.core.display import display, HTML\n",
    "display(HTML(\"<style>.container { width:100% !important; }</style>\"))"
   ]
  },
  {
   "cell_type": "code",
   "execution_count": 3,
   "metadata": {},
   "outputs": [],
   "source": [
    "pd.set_option('display.max_colwidth', 999)\n",
    "pd.set_option('display.max_rows', 9999)"
   ]
  },
  {
   "cell_type": "code",
   "execution_count": 4,
   "metadata": {},
   "outputs": [],
   "source": [
    "device = torch.device('cuda')"
   ]
  },
  {
   "cell_type": "code",
   "execution_count": 5,
   "metadata": {},
   "outputs": [],
   "source": [
    "base_path = '../models/base_24_2^18/'"
   ]
  },
  {
   "cell_type": "code",
   "execution_count": 6,
   "metadata": {},
   "outputs": [
    {
     "name": "stdout",
     "output_type": "stream",
     "text": [
      "Loading model at ../models/base_24_2^18/checkpoints/730000_0.1004.pt\n"
     ]
    }
   ],
   "source": [
    "checkpoint = get_best_checkpoint(base_path)"
   ]
  },
  {
   "cell_type": "code",
   "execution_count": 7,
   "metadata": {},
   "outputs": [],
   "source": [
    "args = checkpoint['args']"
   ]
  },
  {
   "cell_type": "code",
   "execution_count": 9,
   "metadata": {},
   "outputs": [],
   "source": [
    "t = tokenizer.Tokenizer(base = args['data']['base'])"
   ]
  },
  {
   "cell_type": "code",
   "execution_count": 10,
   "metadata": {
    "scrolled": true
   },
   "outputs": [
    {
     "data": {
      "text/plain": [
       "dict_keys(['data', 'model_args', 'optimizer', 'scheduler', 'loader', 'io', 'metrics', 'multi_gpu', 'verbose', 'tokenizer'])"
      ]
     },
     "execution_count": 10,
     "metadata": {},
     "output_type": "execute_result"
    }
   ],
   "source": [
    "args.keys()"
   ]
  },
  {
   "cell_type": "code",
   "execution_count": 11,
   "metadata": {},
   "outputs": [
    {
     "data": {
      "text/plain": [
       "Factorizer(\n",
       "  (embedding): TransformerEmbedding(\n",
       "    (embedding): Embedding(28, 128)\n",
       "    (pe): PositionalEncoding(\n",
       "      (dropout): Dropout(p=0.05, inplace=False)\n",
       "    )\n",
       "  )\n",
       "  (transformer): Transformer(\n",
       "    (encoder): TransformerEncoder(\n",
       "      (layers): ModuleList(\n",
       "        (0): TransformerEncoderLayer(\n",
       "          (self_attn): MultiheadAttention(\n",
       "            (out_proj): _LinearWithBias(in_features=128, out_features=128, bias=True)\n",
       "          )\n",
       "          (linear1): Linear(in_features=128, out_features=512, bias=True)\n",
       "          (dropout): Dropout(p=0.05, inplace=False)\n",
       "          (linear2): Linear(in_features=512, out_features=128, bias=True)\n",
       "          (norm1): LayerNorm((128,), eps=1e-05, elementwise_affine=True)\n",
       "          (norm2): LayerNorm((128,), eps=1e-05, elementwise_affine=True)\n",
       "          (dropout1): Dropout(p=0.05, inplace=False)\n",
       "          (dropout2): Dropout(p=0.05, inplace=False)\n",
       "        )\n",
       "        (1): TransformerEncoderLayer(\n",
       "          (self_attn): MultiheadAttention(\n",
       "            (out_proj): _LinearWithBias(in_features=128, out_features=128, bias=True)\n",
       "          )\n",
       "          (linear1): Linear(in_features=128, out_features=512, bias=True)\n",
       "          (dropout): Dropout(p=0.05, inplace=False)\n",
       "          (linear2): Linear(in_features=512, out_features=128, bias=True)\n",
       "          (norm1): LayerNorm((128,), eps=1e-05, elementwise_affine=True)\n",
       "          (norm2): LayerNorm((128,), eps=1e-05, elementwise_affine=True)\n",
       "          (dropout1): Dropout(p=0.05, inplace=False)\n",
       "          (dropout2): Dropout(p=0.05, inplace=False)\n",
       "        )\n",
       "        (2): TransformerEncoderLayer(\n",
       "          (self_attn): MultiheadAttention(\n",
       "            (out_proj): _LinearWithBias(in_features=128, out_features=128, bias=True)\n",
       "          )\n",
       "          (linear1): Linear(in_features=128, out_features=512, bias=True)\n",
       "          (dropout): Dropout(p=0.05, inplace=False)\n",
       "          (linear2): Linear(in_features=512, out_features=128, bias=True)\n",
       "          (norm1): LayerNorm((128,), eps=1e-05, elementwise_affine=True)\n",
       "          (norm2): LayerNorm((128,), eps=1e-05, elementwise_affine=True)\n",
       "          (dropout1): Dropout(p=0.05, inplace=False)\n",
       "          (dropout2): Dropout(p=0.05, inplace=False)\n",
       "        )\n",
       "        (3): TransformerEncoderLayer(\n",
       "          (self_attn): MultiheadAttention(\n",
       "            (out_proj): _LinearWithBias(in_features=128, out_features=128, bias=True)\n",
       "          )\n",
       "          (linear1): Linear(in_features=128, out_features=512, bias=True)\n",
       "          (dropout): Dropout(p=0.05, inplace=False)\n",
       "          (linear2): Linear(in_features=512, out_features=128, bias=True)\n",
       "          (norm1): LayerNorm((128,), eps=1e-05, elementwise_affine=True)\n",
       "          (norm2): LayerNorm((128,), eps=1e-05, elementwise_affine=True)\n",
       "          (dropout1): Dropout(p=0.05, inplace=False)\n",
       "          (dropout2): Dropout(p=0.05, inplace=False)\n",
       "        )\n",
       "        (4): TransformerEncoderLayer(\n",
       "          (self_attn): MultiheadAttention(\n",
       "            (out_proj): _LinearWithBias(in_features=128, out_features=128, bias=True)\n",
       "          )\n",
       "          (linear1): Linear(in_features=128, out_features=512, bias=True)\n",
       "          (dropout): Dropout(p=0.05, inplace=False)\n",
       "          (linear2): Linear(in_features=512, out_features=128, bias=True)\n",
       "          (norm1): LayerNorm((128,), eps=1e-05, elementwise_affine=True)\n",
       "          (norm2): LayerNorm((128,), eps=1e-05, elementwise_affine=True)\n",
       "          (dropout1): Dropout(p=0.05, inplace=False)\n",
       "          (dropout2): Dropout(p=0.05, inplace=False)\n",
       "        )\n",
       "        (5): TransformerEncoderLayer(\n",
       "          (self_attn): MultiheadAttention(\n",
       "            (out_proj): _LinearWithBias(in_features=128, out_features=128, bias=True)\n",
       "          )\n",
       "          (linear1): Linear(in_features=128, out_features=512, bias=True)\n",
       "          (dropout): Dropout(p=0.05, inplace=False)\n",
       "          (linear2): Linear(in_features=512, out_features=128, bias=True)\n",
       "          (norm1): LayerNorm((128,), eps=1e-05, elementwise_affine=True)\n",
       "          (norm2): LayerNorm((128,), eps=1e-05, elementwise_affine=True)\n",
       "          (dropout1): Dropout(p=0.05, inplace=False)\n",
       "          (dropout2): Dropout(p=0.05, inplace=False)\n",
       "        )\n",
       "      )\n",
       "      (norm): LayerNorm((128,), eps=1e-05, elementwise_affine=True)\n",
       "    )\n",
       "    (decoder): TransformerDecoder(\n",
       "      (layers): ModuleList(\n",
       "        (0): TransformerDecoderLayer(\n",
       "          (self_attn): MultiheadAttentionAllHeads(\n",
       "            (out_proj): _LinearWithBias(in_features=128, out_features=128, bias=True)\n",
       "          )\n",
       "          (multihead_attn): MultiheadAttentionAllHeads(\n",
       "            (out_proj): _LinearWithBias(in_features=128, out_features=128, bias=True)\n",
       "          )\n",
       "          (linear1): Linear(in_features=128, out_features=512, bias=True)\n",
       "          (dropout): Dropout(p=0.05, inplace=False)\n",
       "          (linear2): Linear(in_features=512, out_features=128, bias=True)\n",
       "          (norm1): LayerNorm((128,), eps=1e-05, elementwise_affine=True)\n",
       "          (norm2): LayerNorm((128,), eps=1e-05, elementwise_affine=True)\n",
       "          (norm3): LayerNorm((128,), eps=1e-05, elementwise_affine=True)\n",
       "          (dropout1): Dropout(p=0.05, inplace=False)\n",
       "          (dropout2): Dropout(p=0.05, inplace=False)\n",
       "          (dropout3): Dropout(p=0.05, inplace=False)\n",
       "        )\n",
       "        (1): TransformerDecoderLayer(\n",
       "          (self_attn): MultiheadAttentionAllHeads(\n",
       "            (out_proj): _LinearWithBias(in_features=128, out_features=128, bias=True)\n",
       "          )\n",
       "          (multihead_attn): MultiheadAttentionAllHeads(\n",
       "            (out_proj): _LinearWithBias(in_features=128, out_features=128, bias=True)\n",
       "          )\n",
       "          (linear1): Linear(in_features=128, out_features=512, bias=True)\n",
       "          (dropout): Dropout(p=0.05, inplace=False)\n",
       "          (linear2): Linear(in_features=512, out_features=128, bias=True)\n",
       "          (norm1): LayerNorm((128,), eps=1e-05, elementwise_affine=True)\n",
       "          (norm2): LayerNorm((128,), eps=1e-05, elementwise_affine=True)\n",
       "          (norm3): LayerNorm((128,), eps=1e-05, elementwise_affine=True)\n",
       "          (dropout1): Dropout(p=0.05, inplace=False)\n",
       "          (dropout2): Dropout(p=0.05, inplace=False)\n",
       "          (dropout3): Dropout(p=0.05, inplace=False)\n",
       "        )\n",
       "        (2): TransformerDecoderLayer(\n",
       "          (self_attn): MultiheadAttentionAllHeads(\n",
       "            (out_proj): _LinearWithBias(in_features=128, out_features=128, bias=True)\n",
       "          )\n",
       "          (multihead_attn): MultiheadAttentionAllHeads(\n",
       "            (out_proj): _LinearWithBias(in_features=128, out_features=128, bias=True)\n",
       "          )\n",
       "          (linear1): Linear(in_features=128, out_features=512, bias=True)\n",
       "          (dropout): Dropout(p=0.05, inplace=False)\n",
       "          (linear2): Linear(in_features=512, out_features=128, bias=True)\n",
       "          (norm1): LayerNorm((128,), eps=1e-05, elementwise_affine=True)\n",
       "          (norm2): LayerNorm((128,), eps=1e-05, elementwise_affine=True)\n",
       "          (norm3): LayerNorm((128,), eps=1e-05, elementwise_affine=True)\n",
       "          (dropout1): Dropout(p=0.05, inplace=False)\n",
       "          (dropout2): Dropout(p=0.05, inplace=False)\n",
       "          (dropout3): Dropout(p=0.05, inplace=False)\n",
       "        )\n",
       "        (3): TransformerDecoderLayer(\n",
       "          (self_attn): MultiheadAttentionAllHeads(\n",
       "            (out_proj): _LinearWithBias(in_features=128, out_features=128, bias=True)\n",
       "          )\n",
       "          (multihead_attn): MultiheadAttentionAllHeads(\n",
       "            (out_proj): _LinearWithBias(in_features=128, out_features=128, bias=True)\n",
       "          )\n",
       "          (linear1): Linear(in_features=128, out_features=512, bias=True)\n",
       "          (dropout): Dropout(p=0.05, inplace=False)\n",
       "          (linear2): Linear(in_features=512, out_features=128, bias=True)\n",
       "          (norm1): LayerNorm((128,), eps=1e-05, elementwise_affine=True)\n",
       "          (norm2): LayerNorm((128,), eps=1e-05, elementwise_affine=True)\n",
       "          (norm3): LayerNorm((128,), eps=1e-05, elementwise_affine=True)\n",
       "          (dropout1): Dropout(p=0.05, inplace=False)\n",
       "          (dropout2): Dropout(p=0.05, inplace=False)\n",
       "          (dropout3): Dropout(p=0.05, inplace=False)\n",
       "        )\n",
       "        (4): TransformerDecoderLayer(\n",
       "          (self_attn): MultiheadAttentionAllHeads(\n",
       "            (out_proj): _LinearWithBias(in_features=128, out_features=128, bias=True)\n",
       "          )\n",
       "          (multihead_attn): MultiheadAttentionAllHeads(\n",
       "            (out_proj): _LinearWithBias(in_features=128, out_features=128, bias=True)\n",
       "          )\n",
       "          (linear1): Linear(in_features=128, out_features=512, bias=True)\n",
       "          (dropout): Dropout(p=0.05, inplace=False)\n",
       "          (linear2): Linear(in_features=512, out_features=128, bias=True)\n",
       "          (norm1): LayerNorm((128,), eps=1e-05, elementwise_affine=True)\n",
       "          (norm2): LayerNorm((128,), eps=1e-05, elementwise_affine=True)\n",
       "          (norm3): LayerNorm((128,), eps=1e-05, elementwise_affine=True)\n",
       "          (dropout1): Dropout(p=0.05, inplace=False)\n",
       "          (dropout2): Dropout(p=0.05, inplace=False)\n",
       "          (dropout3): Dropout(p=0.05, inplace=False)\n",
       "        )\n",
       "        (5): TransformerDecoderLayer(\n",
       "          (self_attn): MultiheadAttentionAllHeads(\n",
       "            (out_proj): _LinearWithBias(in_features=128, out_features=128, bias=True)\n",
       "          )\n",
       "          (multihead_attn): MultiheadAttentionAllHeads(\n",
       "            (out_proj): _LinearWithBias(in_features=128, out_features=128, bias=True)\n",
       "          )\n",
       "          (linear1): Linear(in_features=128, out_features=512, bias=True)\n",
       "          (dropout): Dropout(p=0.05, inplace=False)\n",
       "          (linear2): Linear(in_features=512, out_features=128, bias=True)\n",
       "          (norm1): LayerNorm((128,), eps=1e-05, elementwise_affine=True)\n",
       "          (norm2): LayerNorm((128,), eps=1e-05, elementwise_affine=True)\n",
       "          (norm3): LayerNorm((128,), eps=1e-05, elementwise_affine=True)\n",
       "          (dropout1): Dropout(p=0.05, inplace=False)\n",
       "          (dropout2): Dropout(p=0.05, inplace=False)\n",
       "          (dropout3): Dropout(p=0.05, inplace=False)\n",
       "        )\n",
       "      )\n",
       "      (norm): LayerNorm((128,), eps=1e-05, elementwise_affine=True)\n",
       "    )\n",
       "  )\n",
       "  (tokens_out): Linear(in_features=128, out_features=28, bias=True)\n",
       ")"
      ]
     },
     "execution_count": 11,
     "metadata": {},
     "output_type": "execute_result"
    }
   ],
   "source": [
    "model = models.Factorizer(n_tokens = args['tokenizer']['n_tokens'], \n",
    "                          pad_token_id = args['tokenizer']['pad_token_id'],\n",
    "                          **args['model_args'])\n",
    "model.load_state_dict(checkpoint['model_state_dict'])\n",
    "model.to(device)\n",
    "model.eval()"
   ]
  },
  {
   "cell_type": "markdown",
   "metadata": {},
   "source": [
    "# Visualize Embeddings"
   ]
  },
  {
   "cell_type": "code",
   "execution_count": 12,
   "metadata": {},
   "outputs": [],
   "source": [
    "embeddings = model.embedding.embedding.weight.data.cpu().numpy()"
   ]
  },
  {
   "cell_type": "code",
   "execution_count": 13,
   "metadata": {},
   "outputs": [],
   "source": [
    "tokens = [''.join(t.decode([i], decode_special=True)) for i in range(len(t))]\n",
    "special_tokens = set(['x', '_', '>', '.'])\n",
    "tokens = np.array([tok if tok in special_tokens else data_utils.base2dec([int(tok)], args['data']['base']) for tok in tokens])"
   ]
  },
  {
   "cell_type": "code",
   "execution_count": 14,
   "metadata": {},
   "outputs": [
    {
     "data": {
      "text/plain": [
       "(28, 128)"
      ]
     },
     "execution_count": 14,
     "metadata": {},
     "output_type": "execute_result"
    }
   ],
   "source": [
    "embeddings.shape"
   ]
  },
  {
   "cell_type": "code",
   "execution_count": 15,
   "metadata": {},
   "outputs": [
    {
     "data": {
      "text/plain": [
       "(28,)"
      ]
     },
     "execution_count": 15,
     "metadata": {},
     "output_type": "execute_result"
    }
   ],
   "source": [
    "tokens.shape"
   ]
  },
  {
   "cell_type": "code",
   "execution_count": 16,
   "metadata": {},
   "outputs": [
    {
     "data": {
      "text/plain": [
       "array(['0', '1', '2', '3', '4', '5', '6', '7', '8', '9', '10', '11', '12',\n",
       "       '13', '14', '15', '16', '17', '18', '19', '20', '21', '22', '23',\n",
       "       'x', '_', '.', '>'], dtype='<U11')"
      ]
     },
     "execution_count": 16,
     "metadata": {},
     "output_type": "execute_result"
    }
   ],
   "source": [
    "tokens"
   ]
  },
  {
   "cell_type": "markdown",
   "metadata": {},
   "source": [
    "## TSNE\n",
    "* Doesn't seem to be super interesting"
   ]
  },
  {
   "cell_type": "code",
   "execution_count": 17,
   "metadata": {},
   "outputs": [],
   "source": [
    "from sklearn.manifold import TSNE"
   ]
  },
  {
   "cell_type": "code",
   "execution_count": 18,
   "metadata": {},
   "outputs": [],
   "source": [
    "tsne = TSNE(perplexity=30, learning_rate=200, n_iter=1000)\n",
    "embeddings_for_plot = tsne.fit_transform(embeddings)"
   ]
  },
  {
   "cell_type": "code",
   "execution_count": 19,
   "metadata": {
    "scrolled": false
   },
   "outputs": [
    {
     "data": {
      "image/png": "[encoded data removed]",
      "text/plain": [
       "<Figure size 432x288 with 1 Axes>"
      ]
     },
     "metadata": {
      "needs_background": "light"
     },
     "output_type": "display_data"
    }
   ],
   "source": [
    "plt.scatter(embeddings_for_plot[:,0], embeddings_for_plot[:,1])\n",
    "ax = plt.gca()\n",
    "for tok, (x,y) in zip(tokens, embeddings_for_plot):\n",
    "    fontsize = 12 if not tok in ['.', '_'] else 24\n",
    "    ax.annotate(tok, (x+.3,y), fontsize=fontsize)\n",
    "plt.show()"
   ]
  },
  {
   "cell_type": "markdown",
   "metadata": {},
   "source": [
    "## Cosine Similarity\n",
    "* Some embeddings have relatively simlar cosine similarities"
   ]
  },
  {
   "cell_type": "code",
   "execution_count": 41,
   "metadata": {},
   "outputs": [],
   "source": [
    "from sklearn.metrics.pairwise import cosine_similarity"
   ]
  },
  {
   "cell_type": "code",
   "execution_count": 45,
   "metadata": {},
   "outputs": [],
   "source": [
    "cs_sim_mat = cosine_similarity(embeddings)\n",
    "cs_sims = np.triu(cs_sim_mat, 1).ravel()\n",
    "cs_sims = cs_sims[~np.isclose(cs_sims, 0)]"
   ]
  },
  {
   "cell_type": "code",
   "execution_count": 46,
   "metadata": {},
   "outputs": [
    {
     "data": {
      "image/png": "[encoded data removed]",
      "text/plain": [
       "<Figure size 432x288 with 1 Axes>"
      ]
     },
     "metadata": {
      "needs_background": "light"
     },
     "output_type": "display_data"
    }
   ],
   "source": [
    "plt.title('cosine simiarlty of embeddings')\n",
    "pd.Series(cs_sims).hist()\n",
    "plt.show()"
   ]
  },
  {
   "cell_type": "code",
   "execution_count": 47,
   "metadata": {},
   "outputs": [
    {
     "data": {
      "text/plain": [
       "(28, 28)"
      ]
     },
     "execution_count": 47,
     "metadata": {},
     "output_type": "execute_result"
    }
   ],
   "source": [
    "cs_sim_mat.shape"
   ]
  },
  {
   "cell_type": "code",
   "execution_count": 51,
   "metadata": {
    "scrolled": false
   },
   "outputs": [
    {
     "data": {
      "text/plain": [
       "array([[ 1.0000001 ,  0.20947157,  0.12409612,  0.09352618,  0.14274287,\n",
       "         0.1483083 ,  0.25185296,  0.1967082 ,  0.09906537,  0.07954345,\n",
       "         0.24456161,  0.07309192,  0.24926093,  0.12558152,  0.09385978,\n",
       "        -0.01023844,  0.19143035,  0.09078324,  0.14960185,  0.15796833,\n",
       "         0.06624856,  0.21853077,  0.22200237,  0.0095817 ,  0.28712404,\n",
       "         0.01520046,  0.20431857,  0.23378865],\n",
       "       [ 0.20947157,  1.        ,  0.40349138,  0.2897607 ,  0.30031124,\n",
       "         0.3908712 ,  0.28289518,  0.41249555,  0.23237519,  0.17732228,\n",
       "         0.22023821,  0.25866315,  0.14750424,  0.3370837 ,  0.14793764,\n",
       "         0.2015448 ,  0.24701005,  0.30432042,  0.16685933,  0.17232986,\n",
       "         0.08069484,  0.3746502 ,  0.21636525,  0.21139815,  0.6191268 ,\n",
       "        -0.04172302,  0.48982775,  0.53016627],\n",
       "       [ 0.12409612,  0.40349138,  1.        ,  0.27189764,  0.10707545,\n",
       "         0.26574343,  0.14032036,  0.22256562,  0.09540227,  0.1540948 ,\n",
       "         0.15306129,  0.20488922,  0.12852323,  0.18972673,  0.20910439,\n",
       "         0.04408801,  0.14129885,  0.17338112,  0.14713901,  0.1640355 ,\n",
       "         0.03825084,  0.22870564,  0.08927051,  0.13609731,  0.43899453,\n",
       "         0.02761384,  0.31527936,  0.33706266],\n",
       "       [ 0.09352618,  0.2897607 ,  0.27189764,  1.        ,  0.19526474,\n",
       "         0.23446918,  0.1117919 ,  0.18274307,  0.10250018,  0.09431785,\n",
       "         0.17850931,  0.20874752,  0.08699354,  0.183396  ,  0.08725149,\n",
       "         0.07307315,  0.10202339,  0.16966046,  0.08499385,  0.1946918 ,\n",
       "         0.09950116,  0.17844416,  0.10297389,  0.11138918,  0.33669603,\n",
       "         0.12185474,  0.21948026,  0.26621434],\n",
       "       [ 0.14274287,  0.30031124,  0.10707545,  0.19526474,  0.9999999 ,\n",
       "         0.12286445,  0.14147976,  0.12402454,  0.06708802,  0.0116087 ,\n",
       "         0.11932708,  0.04250678,  0.03530895,  0.1399392 ,  0.08931457,\n",
       "         0.04621067,  0.13974383,  0.16260181,  0.0208268 , -0.02701467,\n",
       "         0.18183126,  0.10837617,  0.17735282,  0.08469234,  0.21898068,\n",
       "         0.02466346,  0.23688842,  0.20740552],\n",
       "       [ 0.1483083 ,  0.3908712 ,  0.26574343,  0.23446918,  0.12286445,\n",
       "         1.        ,  0.14840992,  0.26597962,  0.08582522,  0.08686334,\n",
       "         0.184078  ,  0.222776  ,  0.06050637,  0.25910887,  0.15600479,\n",
       "         0.07982249,  0.06813941,  0.27807465,  0.13731773,  0.11784767,\n",
       "        -0.0359689 ,  0.18375   ,  0.05034522,  0.12839618,  0.40003356,\n",
       "        -0.00538185,  0.28363562,  0.33249944],\n",
       "       [ 0.25185296,  0.28289518,  0.14032036,  0.1117919 ,  0.14147976,\n",
       "         0.14840992,  1.0000002 ,  0.19305585,  0.16183843,  0.1106097 ,\n",
       "         0.21385732,  0.17951098,  0.12607014,  0.11845329,  0.08567219,\n",
       "         0.1332639 ,  0.1534951 ,  0.13563514,  0.15803812,  0.065749  ,\n",
       "         0.08174513,  0.26472902,  0.14901769,  0.02461082,  0.24340203,\n",
       "        -0.1176398 ,  0.17348135,  0.23697512],\n",
       "       [ 0.1967082 ,  0.41249555,  0.22256562,  0.18274307,  0.12402454,\n",
       "         0.26597962,  0.19305585,  0.9999999 ,  0.05569057,  0.08431202,\n",
       "         0.20835154,  0.2602974 ,  0.16770735,  0.33650774,  0.07610771,\n",
       "         0.14423075,  0.15584262,  0.19789109,  0.14418638,  0.3065075 ,\n",
       "         0.04238791,  0.23613745,  0.11006624,  0.15094781,  0.37706512,\n",
       "        -0.04354885,  0.2903532 ,  0.36218962],\n",
       "       [ 0.09906537,  0.23237519,  0.09540227,  0.10250018,  0.06708802,\n",
       "         0.08582522,  0.16183843,  0.05569057,  0.99999964,  0.13137235,\n",
       "         0.09950217,  0.17884837,  0.111536  ,  0.10812847,  0.03781361,\n",
       "        -0.07162542,  0.2007436 ,  0.06519639,  0.08465089, -0.04075289,\n",
       "         0.13838005,  0.06670558,  0.00965252,  0.01360961,  0.2067768 ,\n",
       "         0.01164979,  0.19709404,  0.20789756],\n",
       "       [ 0.07954345,  0.17732228,  0.1540948 ,  0.09431785,  0.0116087 ,\n",
       "         0.08686334,  0.1106097 ,  0.08431202,  0.13137235,  0.99999994,\n",
       "         0.11229281,  0.15543209,  0.06064254,  0.10045186,  0.05967433,\n",
       "         0.23512354,  0.04982447,  0.07547863,  0.1658694 ,  0.12090158,\n",
       "        -0.00736789,  0.24643523,  0.04914093,  0.03197335,  0.26110983,\n",
       "         0.04759899,  0.22873901,  0.17147088],\n",
       "       [ 0.24456161,  0.22023821,  0.15306129,  0.17850931,  0.11932708,\n",
       "         0.184078  ,  0.21385732,  0.20835154,  0.09950217,  0.11229281,\n",
       "         1.0000002 ,  0.1368713 ,  0.166891  ,  0.19278656,  0.14693728,\n",
       "         0.1412825 ,  0.22864833,  0.12393504,  0.20556879,  0.14397797,\n",
       "         0.0098139 ,  0.13655159,  0.33932188,  0.07421035,  0.2624838 ,\n",
       "         0.03380999,  0.25268927,  0.18289994],\n",
       "       [ 0.07309192,  0.25866315,  0.20488922,  0.20874752,  0.04250678,\n",
       "         0.222776  ,  0.17951098,  0.2602974 ,  0.17884837,  0.15543209,\n",
       "         0.1368713 ,  1.0000001 ,  0.10029259,  0.20891313,  0.01491767,\n",
       "         0.1421955 ,  0.13237838,  0.21695578,  0.11525924,  0.23946172,\n",
       "        -0.0686678 ,  0.17473496,  0.07760565,  0.12676865,  0.29953182,\n",
       "         0.04081982,  0.26955405,  0.26787513],\n",
       "       [ 0.24926093,  0.14750424,  0.12852323,  0.08699354,  0.03530895,\n",
       "         0.06050637,  0.12607014,  0.16770735,  0.111536  ,  0.06064254,\n",
       "         0.166891  ,  0.10029259,  1.0000002 ,  0.19949026,  0.08474524,\n",
       "         0.08712251,  0.1845557 ,  0.10013866,  0.12175778,  0.07118213,\n",
       "         0.06826428,  0.09519367,  0.12657034,  0.03634037,  0.14793953,\n",
       "         0.02574844,  0.20426327,  0.09683776],\n",
       "       [ 0.12558152,  0.3370837 ,  0.18972673,  0.183396  ,  0.1399392 ,\n",
       "         0.25910887,  0.11845329,  0.33650774,  0.10812847,  0.10045186,\n",
       "         0.19278656,  0.20891313,  0.19949026,  1.        ,  0.08803908,\n",
       "         0.17350395,  0.20095788,  0.16535644,  0.12546937,  0.24885693,\n",
       "         0.01956956,  0.24487764,  0.20760037,  0.18911634,  0.41761228,\n",
       "        -0.04800564,  0.32866627,  0.37237516],\n",
       "       [ 0.09385978,  0.14793764,  0.20910439,  0.08725149,  0.08931457,\n",
       "         0.15600479,  0.08567219,  0.07610771,  0.03781361,  0.05967433,\n",
       "         0.14693728,  0.01491767,  0.08474524,  0.08803908,  1.0000001 ,\n",
       "         0.0858279 ,  0.13037182,  0.00379227,  0.20022035,  0.02919539,\n",
       "         0.1241031 ,  0.14658716,  0.11117861, -0.01923   ,  0.1915569 ,\n",
       "        -0.05340821,  0.17601697,  0.15600637],\n",
       "       [-0.01023844,  0.2015448 ,  0.04408801,  0.07307315,  0.04621067,\n",
       "         0.07982249,  0.1332639 ,  0.14423075, -0.07162542,  0.23512354,\n",
       "         0.1412825 ,  0.1421955 ,  0.08712251,  0.17350395,  0.0858279 ,\n",
       "         1.0000001 ,  0.19111015,  0.14457151,  0.13526133,  0.12557417,\n",
       "        -0.02806742,  0.27281424,  0.14533767,  0.05411454,  0.23093116,\n",
       "        -0.14585204,  0.18624312,  0.1587582 ],\n",
       "       [ 0.19143035,  0.24701005,  0.14129885,  0.10202339,  0.13974383,\n",
       "         0.06813941,  0.1534951 ,  0.15584262,  0.2007436 ,  0.04982447,\n",
       "         0.22864833,  0.13237838,  0.1845557 ,  0.20095788,  0.13037182,\n",
       "         0.19111015,  1.0000001 ,  0.10585708,  0.14554696,  0.13499673,\n",
       "         0.13677709,  0.18138091,  0.23970072,  0.0852356 ,  0.2972509 ,\n",
       "         0.0054539 ,  0.27746713,  0.27140749],\n",
       "       [ 0.09078324,  0.30432042,  0.17338112,  0.16966046,  0.16260181,\n",
       "         0.27807465,  0.13563514,  0.19789109,  0.06519639,  0.07547863,\n",
       "         0.12393504,  0.21695578,  0.10013866,  0.16535644,  0.00379227,\n",
       "         0.14457151,  0.10585708,  1.        ,  0.10457897,  0.18654618,\n",
       "         0.03996856,  0.1787034 ,  0.10610088,  0.15286629,  0.2888998 ,\n",
       "        -0.05961173,  0.22942047,  0.23266558],\n",
       "       [ 0.14960185,  0.16685933,  0.14713901,  0.08499385,  0.0208268 ,\n",
       "         0.13731773,  0.15803812,  0.14418638,  0.08465089,  0.1658694 ,\n",
       "         0.20556879,  0.11525924,  0.12175778,  0.12546937,  0.20022035,\n",
       "         0.13526133,  0.14554696,  0.10457897,  1.0000001 ,  0.16297933,\n",
       "         0.09375498,  0.18285021,  0.30821404,  0.06989716,  0.3142658 ,\n",
       "         0.01600098,  0.27858981,  0.23312119],\n",
       "       [ 0.15796833,  0.17232986,  0.1640355 ,  0.1946918 , -0.02701467,\n",
       "         0.11784767,  0.065749  ,  0.3065075 , -0.04075289,  0.12090158,\n",
       "         0.14397797,  0.23946172,  0.07118213,  0.24885693,  0.02919539,\n",
       "         0.12557417,  0.13499673,  0.18654618,  0.16297933,  0.9999999 ,\n",
       "        -0.04774092,  0.14226677,  0.02932017,  0.15893044,  0.28173926,\n",
       "        -0.04623825,  0.24166335,  0.2530193 ],\n",
       "       [ 0.06624856,  0.08069484,  0.03825084,  0.09950116,  0.18183126,\n",
       "        -0.0359689 ,  0.08174513,  0.04238791,  0.13838005, -0.00736789,\n",
       "         0.0098139 , -0.0686678 ,  0.06826428,  0.01956956,  0.1241031 ,\n",
       "        -0.02806742,  0.13677709,  0.03996856,  0.09375498, -0.04774092,\n",
       "         1.        ,  0.17083758,  0.21948084, -0.01311875,  0.10349505,\n",
       "         0.0059579 ,  0.1293372 ,  0.11549101],\n",
       "       [ 0.21853077,  0.3746502 ,  0.22870564,  0.17844416,  0.10837617,\n",
       "         0.18375   ,  0.26472902,  0.23613745,  0.06670558,  0.24643523,\n",
       "         0.13655159,  0.17473496,  0.09519367,  0.24487764,  0.14658716,\n",
       "         0.27281424,  0.18138091,  0.1787034 ,  0.18285021,  0.14226677,\n",
       "         0.17083758,  1.0000001 ,  0.24657509,  0.20730998,  0.4916681 ,\n",
       "        -0.00562446,  0.49127892,  0.5260643 ],\n",
       "       [ 0.22200237,  0.21636525,  0.08927051,  0.10297389,  0.17735282,\n",
       "         0.05034522,  0.14901769,  0.11006624,  0.00965252,  0.04914093,\n",
       "         0.33932188,  0.07760565,  0.12657034,  0.20760037,  0.11117861,\n",
       "         0.14533767,  0.23970072,  0.10610088,  0.30821404,  0.02932017,\n",
       "         0.21948084,  0.24657509,  0.9999999 ,  0.14676544,  0.2556912 ,\n",
       "        -0.04085009,  0.2613053 ,  0.21206565],\n",
       "       [ 0.0095817 ,  0.21139815,  0.13609731,  0.11138918,  0.08469234,\n",
       "         0.12839618,  0.02461082,  0.15094781,  0.01360961,  0.03197335,\n",
       "         0.07421035,  0.12676865,  0.03634037,  0.18911634, -0.01923   ,\n",
       "         0.05411454,  0.0852356 ,  0.15286629,  0.06989716,  0.15893044,\n",
       "        -0.01311875,  0.20730998,  0.14676544,  0.99999994,  0.18196984,\n",
       "        -0.13177478,  0.18756601,  0.17891267],\n",
       "       [ 0.28712404,  0.6191268 ,  0.43899453,  0.33669603,  0.21898068,\n",
       "         0.40003356,  0.24340203,  0.37706512,  0.2067768 ,  0.26110983,\n",
       "         0.2624838 ,  0.29953182,  0.14793953,  0.41761228,  0.1915569 ,\n",
       "         0.23093116,  0.2972509 ,  0.2888998 ,  0.3142658 ,  0.28173926,\n",
       "         0.10349505,  0.4916681 ,  0.2556912 ,  0.18196984,  0.9999998 ,\n",
       "         0.08932981,  0.74765915,  0.73432213],\n",
       "       [ 0.01520046, -0.04172302,  0.02761384,  0.12185474,  0.02466346,\n",
       "        -0.00538185, -0.1176398 , -0.04354885,  0.01164979,  0.04759899,\n",
       "         0.03380999,  0.04081982,  0.02574844, -0.04800564, -0.05340821,\n",
       "        -0.14585204,  0.0054539 , -0.05961173,  0.01600098, -0.04623825,\n",
       "         0.0059579 , -0.00562446, -0.04085009, -0.13177478,  0.08932981,\n",
       "         1.        ,  0.26140115,  0.0486665 ],\n",
       "       [ 0.20431857,  0.48982775,  0.31527936,  0.21948026,  0.23688842,\n",
       "         0.28363562,  0.17348135,  0.2903532 ,  0.19709404,  0.22873901,\n",
       "         0.25268927,  0.26955405,  0.20426327,  0.32866627,  0.17601697,\n",
       "         0.18624312,  0.27746713,  0.22942047,  0.27858981,  0.24166335,\n",
       "         0.1293372 ,  0.49127892,  0.2613053 ,  0.18756601,  0.74765915,\n",
       "         0.26140115,  1.        ,  0.6637792 ],\n",
       "       [ 0.23378865,  0.53016627,  0.33706266,  0.26621434,  0.20740552,\n",
       "         0.33249944,  0.23697512,  0.36218962,  0.20789756,  0.17147088,\n",
       "         0.18289994,  0.26787513,  0.09683776,  0.37237516,  0.15600637,\n",
       "         0.1587582 ,  0.27140749,  0.23266558,  0.23312119,  0.2530193 ,\n",
       "         0.11549101,  0.5260643 ,  0.21206565,  0.17891267,  0.73432213,\n",
       "         0.0486665 ,  0.6637792 ,  0.9999999 ]], dtype=float32)"
      ]
     },
     "execution_count": 51,
     "metadata": {},
     "output_type": "execute_result"
    }
   ],
   "source": [
    "cs_sim_mat"
   ]
  },
  {
   "cell_type": "code",
   "execution_count": 70,
   "metadata": {},
   "outputs": [
    {
     "data": {
      "text/plain": [
       "0.41249555"
      ]
     },
     "execution_count": 70,
     "metadata": {},
     "output_type": "execute_result"
    }
   ],
   "source": [
    "mat_show_mat[mat_show_mat<.99].max()"
   ]
  },
  {
   "cell_type": "code",
   "execution_count": 71,
   "metadata": {},
   "outputs": [
    {
     "data": {
      "image/png": "[encoded data removed]",
      "text/plain": [
       "<Figure size 1440x1440 with 2 Axes>"
      ]
     },
     "metadata": {
      "needs_background": "light"
     },
     "output_type": "display_data"
    }
   ],
   "source": [
    "mat_show_mat = cs_sim_mat[:-4,:-4]\n",
    "\n",
    "fig = plt.gcf()\n",
    "fig.set_size_inches(20, 20)\n",
    "ax = plt.gca()\n",
    "plt.colorbar(ax.matshow(np.clip(mat_show_mat, a_min=-1, a_max=mat_show_mat[mat_show_mat<.99].max()*1.1)), ax=ax)\n",
    "ax.set_xticks(np.arange(mat_show_mat.shape[0]))\n",
    "ax.set_yticks(np.arange(mat_show_mat.shape[0]))\n",
    "ax.set_xticklabels(tokens[:mat_show_mat.shape[0]])\n",
    "ax.set_yticklabels(tokens[:mat_show_mat.shape[0]])\n",
    "plt.show()"
   ]
  },
  {
   "cell_type": "code",
   "execution_count": 62,
   "metadata": {},
   "outputs": [
    {
     "data": {
      "text/plain": [
       "1.0999999344348907"
      ]
     },
     "execution_count": 62,
     "metadata": {},
     "output_type": "execute_result"
    }
   ],
   "source": [
    "cs_sim_mat[cs_sim_mat<1].max()*1.1"
   ]
  },
  {
   "cell_type": "code",
   "execution_count": null,
   "metadata": {},
   "outputs": [],
   "source": []
  },
  {
   "cell_type": "code",
   "execution_count": null,
   "metadata": {},
   "outputs": [],
   "source": []
  },
  {
   "cell_type": "code",
   "execution_count": null,
   "metadata": {},
   "outputs": [],
   "source": []
  },
  {
   "cell_type": "code",
   "execution_count": null,
   "metadata": {},
   "outputs": [],
   "source": []
  },
  {
   "cell_type": "code",
   "execution_count": 23,
   "metadata": {},
   "outputs": [],
   "source": [
    "from sklearn.linear_model import LogisticRegression\n",
    "from sklearn.svm import SVC"
   ]
  },
  {
   "cell_type": "code",
   "execution_count": 24,
   "metadata": {},
   "outputs": [],
   "source": [
    "logreg = LogisticRegression(C = .1, penalty='l1', solver='liblinear')\n",
    "# logreg = SVC()"
   ]
  },
  {
   "cell_type": "code",
   "execution_count": 25,
   "metadata": {},
   "outputs": [
    {
     "data": {
      "text/plain": [
       "((28, 128), (28,))"
      ]
     },
     "execution_count": 25,
     "metadata": {},
     "output_type": "execute_result"
    }
   ],
   "source": [
    "embeddings.shape, tokens.shape"
   ]
  },
  {
   "cell_type": "code",
   "execution_count": 26,
   "metadata": {},
   "outputs": [],
   "source": [
    "logreg_x = embeddings[:-4]\n",
    "logreg_y = tokens[:-4].astype(int) % 2"
   ]
  },
  {
   "cell_type": "code",
   "execution_count": 27,
   "metadata": {},
   "outputs": [],
   "source": [
    "train_indexer = np.random.rand(logreg_x.shape[0]) < .8\n",
    "logreg_x_train = logreg_x[train_indexer]\n",
    "logreg_x_test = logreg_x[~train_indexer]\n",
    "\n",
    "logreg_y_train = logreg_y[train_indexer]\n",
    "logreg_y_test = logreg_y[~train_indexer]"
   ]
  },
  {
   "cell_type": "code",
   "execution_count": 28,
   "metadata": {},
   "outputs": [
    {
     "data": {
      "text/plain": [
       "((17, 128), (17,))"
      ]
     },
     "execution_count": 28,
     "metadata": {},
     "output_type": "execute_result"
    }
   ],
   "source": [
    "logreg_x_train.shape, logreg_y_train.shape"
   ]
  },
  {
   "cell_type": "code",
   "execution_count": 29,
   "metadata": {},
   "outputs": [
    {
     "data": {
      "text/plain": [
       "((7, 128), (7,))"
      ]
     },
     "execution_count": 29,
     "metadata": {},
     "output_type": "execute_result"
    }
   ],
   "source": [
    "logreg_x_test.shape, logreg_y_test.shape"
   ]
  },
  {
   "cell_type": "code",
   "execution_count": 30,
   "metadata": {},
   "outputs": [
    {
     "data": {
      "text/plain": [
       "LogisticRegression(C=0.1, penalty='l1', solver='liblinear')"
      ]
     },
     "execution_count": 30,
     "metadata": {},
     "output_type": "execute_result"
    }
   ],
   "source": [
    "logreg.fit(logreg_x_train, logreg_y_train)"
   ]
  },
  {
   "cell_type": "code",
   "execution_count": 31,
   "metadata": {},
   "outputs": [
    {
     "data": {
      "text/plain": [
       "0.7142857142857143"
      ]
     },
     "execution_count": 31,
     "metadata": {},
     "output_type": "execute_result"
    }
   ],
   "source": [
    "logreg.score(logreg_x_test, logreg_y_test)"
   ]
  },
  {
   "cell_type": "markdown",
   "metadata": {},
   "source": [
    "# How well does the model do on numbers higher than what it was trained on?"
   ]
  },
  {
   "cell_type": "code",
   "execution_count": 32,
   "metadata": {},
   "outputs": [],
   "source": [
    "start = 2**18\n",
    "length = 4096\n",
    "numbers = np.arange(start, start + length)"
   ]
  },
  {
   "cell_type": "code",
   "execution_count": 33,
   "metadata": {},
   "outputs": [
    {
     "data": {
      "text/plain": [
       "<module 'generation_utils' from '../src\\\\generation_utils.py'>"
      ]
     },
     "execution_count": 33,
     "metadata": {},
     "output_type": "execute_result"
    }
   ],
   "source": [
    "import importlib\n",
    "importlib.reload(metrics_utils)\n",
    "importlib.reload(generation_utils)"
   ]
  },
  {
   "cell_type": "code",
   "execution_count": 34,
   "metadata": {},
   "outputs": [
    {
     "data": {
      "text/plain": [
       "<tokenizer.Tokenizer at 0x2cb5a1daf70>"
      ]
     },
     "execution_count": 34,
     "metadata": {},
     "output_type": "execute_result"
    }
   ],
   "source": [
    "t"
   ]
  },
  {
   "cell_type": "code",
   "execution_count": 36,
   "metadata": {},
   "outputs": [
    {
     "data": {
      "application/vnd.jupyter.widget-view+json": {
       "model_id": "",
       "version_major": 2,
       "version_minor": 0
      },
      "text/plain": [
       "HBox(children=(FloatProgress(value=0.0, max=4096.0), HTML(value='')))"
      ]
     },
     "metadata": {},
     "output_type": "display_data"
    }
   ],
   "source": [
    "larger_df = metrics_utils.form_factor_df(model, t, device, args['data']['base'], numbers, args['model_args']['max_decode_size'], postprocess_minimal=True, n_beams = 10)"
   ]
  },
  {
   "cell_type": "code",
   "execution_count": 37,
   "metadata": {},
   "outputs": [
    {
     "data": {
      "text/plain": [
       "(40960, 7)"
      ]
     },
     "execution_count": 37,
     "metadata": {},
     "output_type": "execute_result"
    }
   ],
   "source": [
    "larger_df.shape"
   ]
  },
  {
   "cell_type": "code",
   "execution_count": 38,
   "metadata": {},
   "outputs": [
    {
     "data": {
      "text/html": [
       "<div>\n",
       "<style scoped>\n",
       "    .dataframe tbody tr th:only-of-type {\n",
       "        vertical-align: middle;\n",
       "    }\n",
       "\n",
       "    .dataframe tbody tr th {\n",
       "        vertical-align: top;\n",
       "    }\n",
       "\n",
       "    .dataframe thead th {\n",
       "        text-align: right;\n",
       "    }\n",
       "</style>\n",
       "<table border=\"1\" class=\"dataframe\">\n",
       "  <thead>\n",
       "    <tr style=\"text-align: right;\">\n",
       "      <th></th>\n",
       "      <th>target_num</th>\n",
       "      <th>beam_idx</th>\n",
       "      <th>log_prob</th>\n",
       "      <th>pred_factor_list</th>\n",
       "      <th>product</th>\n",
       "      <th>correct_product</th>\n",
       "      <th>correct_factorization</th>\n",
       "    </tr>\n",
       "  </thead>\n",
       "  <tbody>\n",
       "    <tr>\n",
       "      <th>0</th>\n",
       "      <td>65536</td>\n",
       "      <td>0</td>\n",
       "      <td>-2.182287</td>\n",
       "      <td>[2, 2, 2, 2, 2, 2, 2, 2, 2, 2, 2, 2, 23]</td>\n",
       "      <td>94208</td>\n",
       "      <td>False</td>\n",
       "      <td>False</td>\n",
       "    </tr>\n",
       "    <tr>\n",
       "      <th>1</th>\n",
       "      <td>65536</td>\n",
       "      <td>1</td>\n",
       "      <td>-2.500107</td>\n",
       "      <td>[2, 2, 2, 2, 2, 2, 2, 2, 2, 2, 2, 2, 2, 2, 5]</td>\n",
       "      <td>81920</td>\n",
       "      <td>False</td>\n",
       "      <td>False</td>\n",
       "    </tr>\n",
       "    <tr>\n",
       "      <th>2</th>\n",
       "      <td>65536</td>\n",
       "      <td>2</td>\n",
       "      <td>-2.718703</td>\n",
       "      <td>[2, 2, 2, 2, 2, 2, 2, 2, 2, 2, 2, 2, 2, 2, 2, 2]</td>\n",
       "      <td>65536</td>\n",
       "      <td>True</td>\n",
       "      <td>True</td>\n",
       "    </tr>\n",
       "    <tr>\n",
       "      <th>3</th>\n",
       "      <td>65536</td>\n",
       "      <td>3</td>\n",
       "      <td>-2.779272</td>\n",
       "      <td>[2, 2, 2, 2, 2, 2, 2, 2, 2, 2, 2, 2, 2, 2, 2, 5]</td>\n",
       "      <td>163840</td>\n",
       "      <td>False</td>\n",
       "      <td>False</td>\n",
       "    </tr>\n",
       "    <tr>\n",
       "      <th>4</th>\n",
       "      <td>65536</td>\n",
       "      <td>4</td>\n",
       "      <td>-2.797647</td>\n",
       "      <td>[2, 2, 2, 2, 2, 2, 2, 2, 2, 2, 2, 2, 17]</td>\n",
       "      <td>69632</td>\n",
       "      <td>False</td>\n",
       "      <td>False</td>\n",
       "    </tr>\n",
       "  </tbody>\n",
       "</table>\n",
       "</div>"
      ],
      "text/plain": [
       "   target_num  beam_idx  log_prob  \\\n",
       "0       65536         0 -2.182287   \n",
       "1       65536         1 -2.500107   \n",
       "2       65536         2 -2.718703   \n",
       "3       65536         3 -2.779272   \n",
       "4       65536         4 -2.797647   \n",
       "\n",
       "                                   pred_factor_list  product  correct_product  \\\n",
       "0          [2, 2, 2, 2, 2, 2, 2, 2, 2, 2, 2, 2, 23]    94208            False   \n",
       "1     [2, 2, 2, 2, 2, 2, 2, 2, 2, 2, 2, 2, 2, 2, 5]    81920            False   \n",
       "2  [2, 2, 2, 2, 2, 2, 2, 2, 2, 2, 2, 2, 2, 2, 2, 2]    65536             True   \n",
       "3  [2, 2, 2, 2, 2, 2, 2, 2, 2, 2, 2, 2, 2, 2, 2, 5]   163840            False   \n",
       "4          [2, 2, 2, 2, 2, 2, 2, 2, 2, 2, 2, 2, 17]    69632            False   \n",
       "\n",
       "   correct_factorization  \n",
       "0                  False  \n",
       "1                  False  \n",
       "2                   True  \n",
       "3                  False  \n",
       "4                  False  "
      ]
     },
     "execution_count": 38,
     "metadata": {},
     "output_type": "execute_result"
    }
   ],
   "source": [
    "larger_df.head(5)"
   ]
  },
  {
   "cell_type": "code",
   "execution_count": 39,
   "metadata": {
    "scrolled": false
   },
   "outputs": [
    {
     "data": {
      "text/plain": [
       "correct_factorization    0.898926\n",
       "dtype: float64"
      ]
     },
     "execution_count": 39,
     "metadata": {},
     "output_type": "execute_result"
    }
   ],
   "source": [
    "larger_df.groupby('target_num').agg({'correct_factorization' : 'any'}).mean()"
   ]
  },
  {
   "cell_type": "code",
   "execution_count": 40,
   "metadata": {},
   "outputs": [
    {
     "data": {
      "text/plain": [
       "0.370849609375"
      ]
     },
     "execution_count": 40,
     "metadata": {},
     "output_type": "execute_result"
    }
   ],
   "source": [
    "top_beams = larger_df['beam_idx'] == 9\n",
    "(larger_df[top_beams]['product'] < larger_df[top_beams]['target_num']).mean()"
   ]
  },
  {
   "cell_type": "code",
   "execution_count": null,
   "metadata": {},
   "outputs": [],
   "source": []
  },
  {
   "cell_type": "code",
   "execution_count": 72,
   "metadata": {
    "scrolled": true
   },
   "outputs": [
    {
     "data": {
      "text/plain": [
       "<function generation_utils.factor(number, base, model, tokenizer, device, max_decode_size, n_beams=1, temperature=1.0, return_type='df', postprocess_minimal=False)>"
      ]
     },
     "execution_count": 72,
     "metadata": {},
     "output_type": "execute_result"
    }
   ],
   "source": [
    "generation_utils.factor"
   ]
  },
  {
   "cell_type": "code",
   "execution_count": 111,
   "metadata": {},
   "outputs": [],
   "source": [
    "from sympy import factorint\n",
    "from sympy.ntheory import primerange"
   ]
  },
  {
   "cell_type": "code",
   "execution_count": 116,
   "metadata": {},
   "outputs": [
    {
     "data": {
      "text/plain": [
       "array([ 4,  9, 25, 49], dtype=int32)"
      ]
     },
     "execution_count": 116,
     "metadata": {},
     "output_type": "execute_result"
    }
   ],
   "source": [
    "np.array(list(primerange(2, 10)))**2"
   ]
  },
  {
   "cell_type": "code",
   "execution_count": 103,
   "metadata": {},
   "outputs": [],
   "source": [
    "test_num = 1223*1223"
   ]
  },
  {
   "cell_type": "code",
   "execution_count": 104,
   "metadata": {},
   "outputs": [
    {
     "data": {
      "text/plain": [
       "{1223: 2}"
      ]
     },
     "execution_count": 104,
     "metadata": {},
     "output_type": "execute_result"
    }
   ],
   "source": [
    "factorint(test_num)"
   ]
  },
  {
   "cell_type": "markdown",
   "metadata": {},
   "source": [
    "### how does it handle squares/cubes/...?"
   ]
  },
  {
   "cell_type": "code",
   "execution_count": 123,
   "metadata": {},
   "outputs": [],
   "source": [
    "max_num = 100\n",
    "squares = np.array(list(primerange(2, max_num)))**2\n",
    "cubes = np.array(list(primerange(2, max_num)))**3"
   ]
  },
  {
   "cell_type": "code",
   "execution_count": 124,
   "metadata": {},
   "outputs": [
    {
     "data": {
      "application/vnd.jupyter.widget-view+json": {
       "model_id": "",
       "version_major": 2,
       "version_minor": 0
      },
      "text/plain": [
       "HBox(children=(FloatProgress(value=0.0, max=25.0), HTML(value='')))"
      ]
     },
     "metadata": {},
     "output_type": "display_data"
    }
   ],
   "source": [
    "square_df = metrics_utils.form_factor_df(model, t, device, args['data']['base'], squares, args['model_args']['max_decode_size'], postprocess_minimal=True, n_beams = 10)"
   ]
  },
  {
   "cell_type": "code",
   "execution_count": 125,
   "metadata": {
    "scrolled": false
   },
   "outputs": [
    {
     "data": {
      "text/plain": [
       "1.0"
      ]
     },
     "execution_count": 125,
     "metadata": {},
     "output_type": "execute_result"
    }
   ],
   "source": [
    "square_df[square_df['beam_idx']==0]['correct_factorization'].mean()"
   ]
  },
  {
   "cell_type": "code",
   "execution_count": 126,
   "metadata": {},
   "outputs": [
    {
     "data": {
      "application/vnd.jupyter.widget-view+json": {
       "model_id": "",
       "version_major": 2,
       "version_minor": 0
      },
      "text/plain": [
       "HBox(children=(FloatProgress(value=0.0, max=25.0), HTML(value='')))"
      ]
     },
     "metadata": {},
     "output_type": "display_data"
    }
   ],
   "source": [
    "cube_df = metrics_utils.form_factor_df(model, t, device, args['data']['base'], cubes, args['model_args']['max_decode_size'], postprocess_minimal=True, n_beams = 10)"
   ]
  },
  {
   "cell_type": "code",
   "execution_count": 127,
   "metadata": {},
   "outputs": [
    {
     "data": {
      "text/plain": [
       "0.4"
      ]
     },
     "execution_count": 127,
     "metadata": {},
     "output_type": "execute_result"
    }
   ],
   "source": [
    "cube_df[cube_df['beam_idx']==0]['correct_factorization'].mean()"
   ]
  },
  {
   "cell_type": "code",
   "execution_count": null,
   "metadata": {},
   "outputs": [],
   "source": []
  },
  {
   "cell_type": "code",
   "execution_count": null,
   "metadata": {},
   "outputs": [],
   "source": []
  },
  {
   "cell_type": "code",
   "execution_count": null,
   "metadata": {},
   "outputs": [],
   "source": []
  },
  {
   "cell_type": "code",
   "execution_count": null,
   "metadata": {},
   "outputs": [],
   "source": []
  },
  {
   "cell_type": "code",
   "execution_count": null,
   "metadata": {},
   "outputs": [],
   "source": []
  },
  {
   "cell_type": "code",
   "execution_count": null,
   "metadata": {},
   "outputs": [],
   "source": []
  },
  {
   "cell_type": "code",
   "execution_count": null,
   "metadata": {},
   "outputs": [],
   "source": []
  },
  {
   "cell_type": "code",
   "execution_count": null,
   "metadata": {},
   "outputs": [],
   "source": []
  },
  {
   "cell_type": "code",
   "execution_count": null,
   "metadata": {},
   "outputs": [],
   "source": []
  },
  {
   "cell_type": "code",
   "execution_count": 105,
   "metadata": {
    "scrolled": true
   },
   "outputs": [
    {
     "data": {
      "text/html": [
       "<div>\n",
       "<style scoped>\n",
       "    .dataframe tbody tr th:only-of-type {\n",
       "        vertical-align: middle;\n",
       "    }\n",
       "\n",
       "    .dataframe tbody tr th {\n",
       "        vertical-align: top;\n",
       "    }\n",
       "\n",
       "    .dataframe thead th {\n",
       "        text-align: right;\n",
       "    }\n",
       "</style>\n",
       "<table border=\"1\" class=\"dataframe\">\n",
       "  <thead>\n",
       "    <tr style=\"text-align: right;\">\n",
       "      <th></th>\n",
       "      <th>target_num</th>\n",
       "      <th>beam_idx</th>\n",
       "      <th>log_prob</th>\n",
       "      <th>pred_factor_list</th>\n",
       "      <th>product</th>\n",
       "      <th>correct_product</th>\n",
       "      <th>correct_factorization</th>\n",
       "      <th>target_is_prime</th>\n",
       "      <th>input_string</th>\n",
       "      <th>pred_list</th>\n",
       "      <th>pred_str</th>\n",
       "      <th>target_str</th>\n",
       "      <th>target_factor_list</th>\n",
       "      <th>n_target_factors</th>\n",
       "      <th>n_pred_factors</th>\n",
       "      <th>num_prime_factors_pred</th>\n",
       "      <th>percent_prime_factors_pred</th>\n",
       "      <th>pred_same_as_target</th>\n",
       "      <th>min_target_prime_factor_if_composite</th>\n",
       "    </tr>\n",
       "  </thead>\n",
       "  <tbody>\n",
       "    <tr>\n",
       "      <th>0</th>\n",
       "      <td>1495729</td>\n",
       "      <td>0</td>\n",
       "      <td>-2.320875</td>\n",
       "      <td>[62323]</td>\n",
       "      <td>62323</td>\n",
       "      <td>False</td>\n",
       "      <td>False</td>\n",
       "      <td>False</td>\n",
       "      <td>[4, 12, 4, 18, 1]</td>\n",
       "      <td>[[4, 12, 4, 19]]</td>\n",
       "      <td>&gt; 4 12 4 19 . _ _ _ _ _ _ _ _</td>\n",
       "      <td>&gt; 2 2 23 x 2 2 23 .</td>\n",
       "      <td>[1223, 1223]</td>\n",
       "      <td>2</td>\n",
       "      <td>1</td>\n",
       "      <td>1</td>\n",
       "      <td>1.000000</td>\n",
       "      <td>False</td>\n",
       "      <td>1223</td>\n",
       "    </tr>\n",
       "    <tr>\n",
       "      <th>1</th>\n",
       "      <td>1495729</td>\n",
       "      <td>1</td>\n",
       "      <td>-4.600385</td>\n",
       "      <td>[23, 2741]</td>\n",
       "      <td>63043</td>\n",
       "      <td>False</td>\n",
       "      <td>False</td>\n",
       "      <td>False</td>\n",
       "      <td>[4, 12, 4, 18, 1]</td>\n",
       "      <td>[[23], [4, 18, 5]]</td>\n",
       "      <td>&gt; 23 x 4 18 5 . _ _ _ _ _ _ _</td>\n",
       "      <td>&gt; 2 2 23 x 2 2 23 .</td>\n",
       "      <td>[1223, 1223]</td>\n",
       "      <td>2</td>\n",
       "      <td>2</td>\n",
       "      <td>2</td>\n",
       "      <td>1.000000</td>\n",
       "      <td>False</td>\n",
       "      <td>1223</td>\n",
       "    </tr>\n",
       "    <tr>\n",
       "      <th>2</th>\n",
       "      <td>1495729</td>\n",
       "      <td>2</td>\n",
       "      <td>-5.397596</td>\n",
       "      <td>[5, 47, 257]</td>\n",
       "      <td>60395</td>\n",
       "      <td>False</td>\n",
       "      <td>False</td>\n",
       "      <td>False</td>\n",
       "      <td>[4, 12, 4, 18, 1]</td>\n",
       "      <td>[[5], [1, 23], [10, 17]]</td>\n",
       "      <td>&gt; 5 x 1 23 x 10 17 . _ _ _ _ _</td>\n",
       "      <td>&gt; 2 2 23 x 2 2 23 .</td>\n",
       "      <td>[1223, 1223]</td>\n",
       "      <td>2</td>\n",
       "      <td>3</td>\n",
       "      <td>3</td>\n",
       "      <td>1.000000</td>\n",
       "      <td>False</td>\n",
       "      <td>1223</td>\n",
       "    </tr>\n",
       "    <tr>\n",
       "      <th>3</th>\n",
       "      <td>1495729</td>\n",
       "      <td>3</td>\n",
       "      <td>-5.501613</td>\n",
       "      <td>[5, 67, 229]</td>\n",
       "      <td>76715</td>\n",
       "      <td>False</td>\n",
       "      <td>False</td>\n",
       "      <td>False</td>\n",
       "      <td>[4, 12, 4, 18, 1]</td>\n",
       "      <td>[[5], [2, 19], [9, 13]]</td>\n",
       "      <td>&gt; 5 x 2 19 x 9 13 . _ _ _ _ _</td>\n",
       "      <td>&gt; 2 2 23 x 2 2 23 .</td>\n",
       "      <td>[1223, 1223]</td>\n",
       "      <td>2</td>\n",
       "      <td>3</td>\n",
       "      <td>3</td>\n",
       "      <td>1.000000</td>\n",
       "      <td>False</td>\n",
       "      <td>1223</td>\n",
       "    </tr>\n",
       "    <tr>\n",
       "      <th>4</th>\n",
       "      <td>1495729</td>\n",
       "      <td>4</td>\n",
       "      <td>-5.868195</td>\n",
       "      <td>[5, 53, 227]</td>\n",
       "      <td>60155</td>\n",
       "      <td>False</td>\n",
       "      <td>False</td>\n",
       "      <td>False</td>\n",
       "      <td>[4, 12, 4, 18, 1]</td>\n",
       "      <td>[[5], [2, 5], [9, 11]]</td>\n",
       "      <td>&gt; 5 x 2 5 x 9 11 . _ _ _ _ _</td>\n",
       "      <td>&gt; 2 2 23 x 2 2 23 .</td>\n",
       "      <td>[1223, 1223]</td>\n",
       "      <td>2</td>\n",
       "      <td>3</td>\n",
       "      <td>3</td>\n",
       "      <td>1.000000</td>\n",
       "      <td>False</td>\n",
       "      <td>1223</td>\n",
       "    </tr>\n",
       "    <tr>\n",
       "      <th>5</th>\n",
       "      <td>1495729</td>\n",
       "      <td>5</td>\n",
       "      <td>-5.881566</td>\n",
       "      <td>[73, 2347]</td>\n",
       "      <td>171331</td>\n",
       "      <td>False</td>\n",
       "      <td>False</td>\n",
       "      <td>False</td>\n",
       "      <td>[4, 12, 4, 18, 1]</td>\n",
       "      <td>[[3, 1], [4, 1, 19]]</td>\n",
       "      <td>&gt; 3 1 x 4 1 19 . _ _ _ _ _ _</td>\n",
       "      <td>&gt; 2 2 23 x 2 2 23 .</td>\n",
       "      <td>[1223, 1223]</td>\n",
       "      <td>2</td>\n",
       "      <td>2</td>\n",
       "      <td>2</td>\n",
       "      <td>1.000000</td>\n",
       "      <td>False</td>\n",
       "      <td>1223</td>\n",
       "    </tr>\n",
       "    <tr>\n",
       "      <th>6</th>\n",
       "      <td>1495729</td>\n",
       "      <td>6</td>\n",
       "      <td>-5.966593</td>\n",
       "      <td>[5, 53, 235]</td>\n",
       "      <td>62275</td>\n",
       "      <td>False</td>\n",
       "      <td>False</td>\n",
       "      <td>False</td>\n",
       "      <td>[4, 12, 4, 18, 1]</td>\n",
       "      <td>[[5], [2, 5], [9, 19]]</td>\n",
       "      <td>&gt; 5 x 2 5 x 9 19 . _ _ _ _ _</td>\n",
       "      <td>&gt; 2 2 23 x 2 2 23 .</td>\n",
       "      <td>[1223, 1223]</td>\n",
       "      <td>2</td>\n",
       "      <td>3</td>\n",
       "      <td>2</td>\n",
       "      <td>0.666667</td>\n",
       "      <td>False</td>\n",
       "      <td>1223</td>\n",
       "    </tr>\n",
       "    <tr>\n",
       "      <th>7</th>\n",
       "      <td>1495729</td>\n",
       "      <td>7</td>\n",
       "      <td>-6.081643</td>\n",
       "      <td>[5, 7, 1921]</td>\n",
       "      <td>67235</td>\n",
       "      <td>False</td>\n",
       "      <td>False</td>\n",
       "      <td>False</td>\n",
       "      <td>[4, 12, 4, 18, 1]</td>\n",
       "      <td>[[5], [7], [3, 8, 1]]</td>\n",
       "      <td>&gt; 5 x 7 x 3 8 1 . _ _ _ _ _</td>\n",
       "      <td>&gt; 2 2 23 x 2 2 23 .</td>\n",
       "      <td>[1223, 1223]</td>\n",
       "      <td>2</td>\n",
       "      <td>3</td>\n",
       "      <td>2</td>\n",
       "      <td>0.666667</td>\n",
       "      <td>False</td>\n",
       "      <td>1223</td>\n",
       "    </tr>\n",
       "    <tr>\n",
       "      <th>8</th>\n",
       "      <td>1495729</td>\n",
       "      <td>8</td>\n",
       "      <td>-6.114621</td>\n",
       "      <td>[37, 53, 83]</td>\n",
       "      <td>162763</td>\n",
       "      <td>False</td>\n",
       "      <td>False</td>\n",
       "      <td>False</td>\n",
       "      <td>[4, 12, 4, 18, 1]</td>\n",
       "      <td>[[1, 13], [2, 5], [3, 11]]</td>\n",
       "      <td>&gt; 1 13 x 2 5 x 3 11 . _ _ _ _</td>\n",
       "      <td>&gt; 2 2 23 x 2 2 23 .</td>\n",
       "      <td>[1223, 1223]</td>\n",
       "      <td>2</td>\n",
       "      <td>3</td>\n",
       "      <td>3</td>\n",
       "      <td>1.000000</td>\n",
       "      <td>False</td>\n",
       "      <td>1223</td>\n",
       "    </tr>\n",
       "    <tr>\n",
       "      <th>9</th>\n",
       "      <td>1495729</td>\n",
       "      <td>9</td>\n",
       "      <td>-6.123154</td>\n",
       "      <td>[5, 43, 349]</td>\n",
       "      <td>75035</td>\n",
       "      <td>False</td>\n",
       "      <td>False</td>\n",
       "      <td>False</td>\n",
       "      <td>[4, 12, 4, 18, 1]</td>\n",
       "      <td>[[5], [1, 19], [14, 13]]</td>\n",
       "      <td>&gt; 5 x 1 19 x 14 13 . _ _ _ _ _</td>\n",
       "      <td>&gt; 2 2 23 x 2 2 23 .</td>\n",
       "      <td>[1223, 1223]</td>\n",
       "      <td>2</td>\n",
       "      <td>3</td>\n",
       "      <td>3</td>\n",
       "      <td>1.000000</td>\n",
       "      <td>False</td>\n",
       "      <td>1223</td>\n",
       "    </tr>\n",
       "    <tr>\n",
       "      <th>10</th>\n",
       "      <td>1495729</td>\n",
       "      <td>10</td>\n",
       "      <td>-6.206448</td>\n",
       "      <td>[5, 71, 257]</td>\n",
       "      <td>91235</td>\n",
       "      <td>False</td>\n",
       "      <td>False</td>\n",
       "      <td>False</td>\n",
       "      <td>[4, 12, 4, 18, 1]</td>\n",
       "      <td>[[5], [2, 23], [10, 17]]</td>\n",
       "      <td>&gt; 5 x 2 23 x 10 17 . _ _ _ _ _</td>\n",
       "      <td>&gt; 2 2 23 x 2 2 23 .</td>\n",
       "      <td>[1223, 1223]</td>\n",
       "      <td>2</td>\n",
       "      <td>3</td>\n",
       "      <td>3</td>\n",
       "      <td>1.000000</td>\n",
       "      <td>False</td>\n",
       "      <td>1223</td>\n",
       "    </tr>\n",
       "    <tr>\n",
       "      <th>11</th>\n",
       "      <td>1495729</td>\n",
       "      <td>11</td>\n",
       "      <td>-6.300583</td>\n",
       "      <td>[5, 61, 283]</td>\n",
       "      <td>86315</td>\n",
       "      <td>False</td>\n",
       "      <td>False</td>\n",
       "      <td>False</td>\n",
       "      <td>[4, 12, 4, 18, 1]</td>\n",
       "      <td>[[5], [2, 13], [11, 19]]</td>\n",
       "      <td>&gt; 5 x 2 13 x 11 19 . _ _ _ _ _</td>\n",
       "      <td>&gt; 2 2 23 x 2 2 23 .</td>\n",
       "      <td>[1223, 1223]</td>\n",
       "      <td>2</td>\n",
       "      <td>3</td>\n",
       "      <td>3</td>\n",
       "      <td>1.000000</td>\n",
       "      <td>False</td>\n",
       "      <td>1223</td>\n",
       "    </tr>\n",
       "    <tr>\n",
       "      <th>12</th>\n",
       "      <td>1495729</td>\n",
       "      <td>12</td>\n",
       "      <td>-6.349010</td>\n",
       "      <td>[5, 5, 2377]</td>\n",
       "      <td>59425</td>\n",
       "      <td>False</td>\n",
       "      <td>False</td>\n",
       "      <td>False</td>\n",
       "      <td>[4, 12, 4, 18, 1]</td>\n",
       "      <td>[[5], [5], [4, 3, 1]]</td>\n",
       "      <td>&gt; 5 x 5 x 4 3 1 . _ _ _ _ _</td>\n",
       "      <td>&gt; 2 2 23 x 2 2 23 .</td>\n",
       "      <td>[1223, 1223]</td>\n",
       "      <td>2</td>\n",
       "      <td>3</td>\n",
       "      <td>3</td>\n",
       "      <td>1.000000</td>\n",
       "      <td>False</td>\n",
       "      <td>1223</td>\n",
       "    </tr>\n",
       "    <tr>\n",
       "      <th>13</th>\n",
       "      <td>1495729</td>\n",
       "      <td>13</td>\n",
       "      <td>-6.568032</td>\n",
       "      <td>[5, 67, 277]</td>\n",
       "      <td>92795</td>\n",
       "      <td>False</td>\n",
       "      <td>False</td>\n",
       "      <td>False</td>\n",
       "      <td>[4, 12, 4, 18, 1]</td>\n",
       "      <td>[[5], [2, 19], [11, 13]]</td>\n",
       "      <td>&gt; 5 x 2 19 x 11 13 . _ _ _ _ _</td>\n",
       "      <td>&gt; 2 2 23 x 2 2 23 .</td>\n",
       "      <td>[1223, 1223]</td>\n",
       "      <td>2</td>\n",
       "      <td>3</td>\n",
       "      <td>3</td>\n",
       "      <td>1.000000</td>\n",
       "      <td>False</td>\n",
       "      <td>1223</td>\n",
       "    </tr>\n",
       "    <tr>\n",
       "      <th>14</th>\n",
       "      <td>1495729</td>\n",
       "      <td>14</td>\n",
       "      <td>-6.584673</td>\n",
       "      <td>[5, 71, 185]</td>\n",
       "      <td>65675</td>\n",
       "      <td>False</td>\n",
       "      <td>False</td>\n",
       "      <td>False</td>\n",
       "      <td>[4, 12, 4, 18, 1]</td>\n",
       "      <td>[[5], [2, 23], [7, 17]]</td>\n",
       "      <td>&gt; 5 x 2 23 x 7 17 . _ _ _ _ _</td>\n",
       "      <td>&gt; 2 2 23 x 2 2 23 .</td>\n",
       "      <td>[1223, 1223]</td>\n",
       "      <td>2</td>\n",
       "      <td>3</td>\n",
       "      <td>2</td>\n",
       "      <td>0.666667</td>\n",
       "      <td>False</td>\n",
       "      <td>1223</td>\n",
       "    </tr>\n",
       "    <tr>\n",
       "      <th>15</th>\n",
       "      <td>1495729</td>\n",
       "      <td>15</td>\n",
       "      <td>-6.627196</td>\n",
       "      <td>[5, 71, 233]</td>\n",
       "      <td>82715</td>\n",
       "      <td>False</td>\n",
       "      <td>False</td>\n",
       "      <td>False</td>\n",
       "      <td>[4, 12, 4, 18, 1]</td>\n",
       "      <td>[[5], [2, 23], [9, 17]]</td>\n",
       "      <td>&gt; 5 x 2 23 x 9 17 . _ _ _ _ _</td>\n",
       "      <td>&gt; 2 2 23 x 2 2 23 .</td>\n",
       "      <td>[1223, 1223]</td>\n",
       "      <td>2</td>\n",
       "      <td>3</td>\n",
       "      <td>3</td>\n",
       "      <td>1.000000</td>\n",
       "      <td>False</td>\n",
       "      <td>1223</td>\n",
       "    </tr>\n",
       "    <tr>\n",
       "      <th>16</th>\n",
       "      <td>1495729</td>\n",
       "      <td>16</td>\n",
       "      <td>-6.652529</td>\n",
       "      <td>[5, 43, 373]</td>\n",
       "      <td>80195</td>\n",
       "      <td>False</td>\n",
       "      <td>False</td>\n",
       "      <td>False</td>\n",
       "      <td>[4, 12, 4, 18, 1]</td>\n",
       "      <td>[[5], [1, 19], [15, 13]]</td>\n",
       "      <td>&gt; 5 x 1 19 x 15 13 . _ _ _ _ _</td>\n",
       "      <td>&gt; 2 2 23 x 2 2 23 .</td>\n",
       "      <td>[1223, 1223]</td>\n",
       "      <td>2</td>\n",
       "      <td>3</td>\n",
       "      <td>3</td>\n",
       "      <td>1.000000</td>\n",
       "      <td>False</td>\n",
       "      <td>1223</td>\n",
       "    </tr>\n",
       "    <tr>\n",
       "      <th>17</th>\n",
       "      <td>1495729</td>\n",
       "      <td>17</td>\n",
       "      <td>-6.682624</td>\n",
       "      <td>[5, 47, 233]</td>\n",
       "      <td>54755</td>\n",
       "      <td>False</td>\n",
       "      <td>False</td>\n",
       "      <td>False</td>\n",
       "      <td>[4, 12, 4, 18, 1]</td>\n",
       "      <td>[[5], [1, 23], [9, 17]]</td>\n",
       "      <td>&gt; 5 x 1 23 x 9 17 . _ _ _ _ _</td>\n",
       "      <td>&gt; 2 2 23 x 2 2 23 .</td>\n",
       "      <td>[1223, 1223]</td>\n",
       "      <td>2</td>\n",
       "      <td>3</td>\n",
       "      <td>3</td>\n",
       "      <td>1.000000</td>\n",
       "      <td>False</td>\n",
       "      <td>1223</td>\n",
       "    </tr>\n",
       "    <tr>\n",
       "      <th>18</th>\n",
       "      <td>1495729</td>\n",
       "      <td>18</td>\n",
       "      <td>-6.842156</td>\n",
       "      <td>[5, 7, 7, 7, 73]</td>\n",
       "      <td>125195</td>\n",
       "      <td>False</td>\n",
       "      <td>False</td>\n",
       "      <td>False</td>\n",
       "      <td>[4, 12, 4, 18, 1]</td>\n",
       "      <td>[[5], [7], [7], [7], [3, 1]]</td>\n",
       "      <td>&gt; 5 x 7 x 7 x 7 x 3 1 . _ _</td>\n",
       "      <td>&gt; 2 2 23 x 2 2 23 .</td>\n",
       "      <td>[1223, 1223]</td>\n",
       "      <td>2</td>\n",
       "      <td>5</td>\n",
       "      <td>5</td>\n",
       "      <td>1.000000</td>\n",
       "      <td>False</td>\n",
       "      <td>1223</td>\n",
       "    </tr>\n",
       "    <tr>\n",
       "      <th>19</th>\n",
       "      <td>1495729</td>\n",
       "      <td>19</td>\n",
       "      <td>-6.892534</td>\n",
       "      <td>[5, 29, 769]</td>\n",
       "      <td>111505</td>\n",
       "      <td>False</td>\n",
       "      <td>False</td>\n",
       "      <td>False</td>\n",
       "      <td>[4, 12, 4, 18, 1]</td>\n",
       "      <td>[[5], [1, 5], [1, 8, 1]]</td>\n",
       "      <td>&gt; 5 x 1 5 x 1 8 1 . _ _ _ _</td>\n",
       "      <td>&gt; 2 2 23 x 2 2 23 .</td>\n",
       "      <td>[1223, 1223]</td>\n",
       "      <td>2</td>\n",
       "      <td>3</td>\n",
       "      <td>3</td>\n",
       "      <td>1.000000</td>\n",
       "      <td>False</td>\n",
       "      <td>1223</td>\n",
       "    </tr>\n",
       "    <tr>\n",
       "      <th>20</th>\n",
       "      <td>1495729</td>\n",
       "      <td>20</td>\n",
       "      <td>-6.892663</td>\n",
       "      <td>[5, 5, 7, 11, 55]</td>\n",
       "      <td>105875</td>\n",
       "      <td>False</td>\n",
       "      <td>False</td>\n",
       "      <td>False</td>\n",
       "      <td>[4, 12, 4, 18, 1]</td>\n",
       "      <td>[[5], [5], [7], [11], [2, 7]]</td>\n",
       "      <td>&gt; 5 x 5 x 7 x 11 x 2 7 . _ _</td>\n",
       "      <td>&gt; 2 2 23 x 2 2 23 .</td>\n",
       "      <td>[1223, 1223]</td>\n",
       "      <td>2</td>\n",
       "      <td>5</td>\n",
       "      <td>4</td>\n",
       "      <td>0.800000</td>\n",
       "      <td>False</td>\n",
       "      <td>1223</td>\n",
       "    </tr>\n",
       "    <tr>\n",
       "      <th>21</th>\n",
       "      <td>1495729</td>\n",
       "      <td>21</td>\n",
       "      <td>-7.027591</td>\n",
       "      <td>[5, 31, 31, 31]</td>\n",
       "      <td>148955</td>\n",
       "      <td>False</td>\n",
       "      <td>False</td>\n",
       "      <td>False</td>\n",
       "      <td>[4, 12, 4, 18, 1]</td>\n",
       "      <td>[[5], [1, 7], [1, 7], [1, 7]]</td>\n",
       "      <td>&gt; 5 x 1 7 x 1 7 x 1 7 . _ _</td>\n",
       "      <td>&gt; 2 2 23 x 2 2 23 .</td>\n",
       "      <td>[1223, 1223]</td>\n",
       "      <td>2</td>\n",
       "      <td>4</td>\n",
       "      <td>4</td>\n",
       "      <td>1.000000</td>\n",
       "      <td>False</td>\n",
       "      <td>1223</td>\n",
       "    </tr>\n",
       "    <tr>\n",
       "      <th>22</th>\n",
       "      <td>1495729</td>\n",
       "      <td>22</td>\n",
       "      <td>-7.486230</td>\n",
       "      <td>[37, 53, 73]</td>\n",
       "      <td>143153</td>\n",
       "      <td>False</td>\n",
       "      <td>False</td>\n",
       "      <td>False</td>\n",
       "      <td>[4, 12, 4, 18, 1]</td>\n",
       "      <td>[[1, 13], [2, 5], [3, 1]]</td>\n",
       "      <td>&gt; 1 13 x 2 5 x 3 1 . _ _ _ _</td>\n",
       "      <td>&gt; 2 2 23 x 2 2 23 .</td>\n",
       "      <td>[1223, 1223]</td>\n",
       "      <td>2</td>\n",
       "      <td>3</td>\n",
       "      <td>3</td>\n",
       "      <td>1.000000</td>\n",
       "      <td>False</td>\n",
       "      <td>1223</td>\n",
       "    </tr>\n",
       "    <tr>\n",
       "      <th>23</th>\n",
       "      <td>1495729</td>\n",
       "      <td>23</td>\n",
       "      <td>-8.132711</td>\n",
       "      <td>[5, 5, 5, 5, 5, 31]</td>\n",
       "      <td>96875</td>\n",
       "      <td>False</td>\n",
       "      <td>False</td>\n",
       "      <td>False</td>\n",
       "      <td>[4, 12, 4, 18, 1]</td>\n",
       "      <td>[[5], [5], [5], [5], [5], [1, 7]]</td>\n",
       "      <td>&gt; 5 x 5 x 5 x 5 x 5 x 1 7 .</td>\n",
       "      <td>&gt; 2 2 23 x 2 2 23 .</td>\n",
       "      <td>[1223, 1223]</td>\n",
       "      <td>2</td>\n",
       "      <td>6</td>\n",
       "      <td>6</td>\n",
       "      <td>1.000000</td>\n",
       "      <td>False</td>\n",
       "      <td>1223</td>\n",
       "    </tr>\n",
       "    <tr>\n",
       "      <th>24</th>\n",
       "      <td>1495729</td>\n",
       "      <td>24</td>\n",
       "      <td>-8.485646</td>\n",
       "      <td>[5, 7, 7, 7, 89]</td>\n",
       "      <td>152635</td>\n",
       "      <td>False</td>\n",
       "      <td>False</td>\n",
       "      <td>False</td>\n",
       "      <td>[4, 12, 4, 18, 1]</td>\n",
       "      <td>[[5], [7], [7], [7], [3, 17]]</td>\n",
       "      <td>&gt; 5 x 7 x 7 x 7 x 3 17 . _ _</td>\n",
       "      <td>&gt; 2 2 23 x 2 2 23 .</td>\n",
       "      <td>[1223, 1223]</td>\n",
       "      <td>2</td>\n",
       "      <td>5</td>\n",
       "      <td>5</td>\n",
       "      <td>1.000000</td>\n",
       "      <td>False</td>\n",
       "      <td>1223</td>\n",
       "    </tr>\n",
       "  </tbody>\n",
       "</table>\n",
       "</div>"
      ],
      "text/plain": [
       "    target_num  beam_idx  log_prob     pred_factor_list  product  \\\n",
       "0      1495729         0 -2.320875              [62323]    62323   \n",
       "1      1495729         1 -4.600385           [23, 2741]    63043   \n",
       "2      1495729         2 -5.397596         [5, 47, 257]    60395   \n",
       "3      1495729         3 -5.501613         [5, 67, 229]    76715   \n",
       "4      1495729         4 -5.868195         [5, 53, 227]    60155   \n",
       "5      1495729         5 -5.881566           [73, 2347]   171331   \n",
       "6      1495729         6 -5.966593         [5, 53, 235]    62275   \n",
       "7      1495729         7 -6.081643         [5, 7, 1921]    67235   \n",
       "8      1495729         8 -6.114621         [37, 53, 83]   162763   \n",
       "9      1495729         9 -6.123154         [5, 43, 349]    75035   \n",
       "10     1495729        10 -6.206448         [5, 71, 257]    91235   \n",
       "11     1495729        11 -6.300583         [5, 61, 283]    86315   \n",
       "12     1495729        12 -6.349010         [5, 5, 2377]    59425   \n",
       "13     1495729        13 -6.568032         [5, 67, 277]    92795   \n",
       "14     1495729        14 -6.584673         [5, 71, 185]    65675   \n",
       "15     1495729        15 -6.627196         [5, 71, 233]    82715   \n",
       "16     1495729        16 -6.652529         [5, 43, 373]    80195   \n",
       "17     1495729        17 -6.682624         [5, 47, 233]    54755   \n",
       "18     1495729        18 -6.842156     [5, 7, 7, 7, 73]   125195   \n",
       "19     1495729        19 -6.892534         [5, 29, 769]   111505   \n",
       "20     1495729        20 -6.892663    [5, 5, 7, 11, 55]   105875   \n",
       "21     1495729        21 -7.027591      [5, 31, 31, 31]   148955   \n",
       "22     1495729        22 -7.486230         [37, 53, 73]   143153   \n",
       "23     1495729        23 -8.132711  [5, 5, 5, 5, 5, 31]    96875   \n",
       "24     1495729        24 -8.485646     [5, 7, 7, 7, 89]   152635   \n",
       "\n",
       "    correct_product  correct_factorization  target_is_prime  \\\n",
       "0             False                  False            False   \n",
       "1             False                  False            False   \n",
       "2             False                  False            False   \n",
       "3             False                  False            False   \n",
       "4             False                  False            False   \n",
       "5             False                  False            False   \n",
       "6             False                  False            False   \n",
       "7             False                  False            False   \n",
       "8             False                  False            False   \n",
       "9             False                  False            False   \n",
       "10            False                  False            False   \n",
       "11            False                  False            False   \n",
       "12            False                  False            False   \n",
       "13            False                  False            False   \n",
       "14            False                  False            False   \n",
       "15            False                  False            False   \n",
       "16            False                  False            False   \n",
       "17            False                  False            False   \n",
       "18            False                  False            False   \n",
       "19            False                  False            False   \n",
       "20            False                  False            False   \n",
       "21            False                  False            False   \n",
       "22            False                  False            False   \n",
       "23            False                  False            False   \n",
       "24            False                  False            False   \n",
       "\n",
       "         input_string                          pred_list  \\\n",
       "0   [4, 12, 4, 18, 1]                   [[4, 12, 4, 19]]   \n",
       "1   [4, 12, 4, 18, 1]                 [[23], [4, 18, 5]]   \n",
       "2   [4, 12, 4, 18, 1]           [[5], [1, 23], [10, 17]]   \n",
       "3   [4, 12, 4, 18, 1]            [[5], [2, 19], [9, 13]]   \n",
       "4   [4, 12, 4, 18, 1]             [[5], [2, 5], [9, 11]]   \n",
       "5   [4, 12, 4, 18, 1]               [[3, 1], [4, 1, 19]]   \n",
       "6   [4, 12, 4, 18, 1]             [[5], [2, 5], [9, 19]]   \n",
       "7   [4, 12, 4, 18, 1]              [[5], [7], [3, 8, 1]]   \n",
       "8   [4, 12, 4, 18, 1]         [[1, 13], [2, 5], [3, 11]]   \n",
       "9   [4, 12, 4, 18, 1]           [[5], [1, 19], [14, 13]]   \n",
       "10  [4, 12, 4, 18, 1]           [[5], [2, 23], [10, 17]]   \n",
       "11  [4, 12, 4, 18, 1]           [[5], [2, 13], [11, 19]]   \n",
       "12  [4, 12, 4, 18, 1]              [[5], [5], [4, 3, 1]]   \n",
       "13  [4, 12, 4, 18, 1]           [[5], [2, 19], [11, 13]]   \n",
       "14  [4, 12, 4, 18, 1]            [[5], [2, 23], [7, 17]]   \n",
       "15  [4, 12, 4, 18, 1]            [[5], [2, 23], [9, 17]]   \n",
       "16  [4, 12, 4, 18, 1]           [[5], [1, 19], [15, 13]]   \n",
       "17  [4, 12, 4, 18, 1]            [[5], [1, 23], [9, 17]]   \n",
       "18  [4, 12, 4, 18, 1]       [[5], [7], [7], [7], [3, 1]]   \n",
       "19  [4, 12, 4, 18, 1]           [[5], [1, 5], [1, 8, 1]]   \n",
       "20  [4, 12, 4, 18, 1]      [[5], [5], [7], [11], [2, 7]]   \n",
       "21  [4, 12, 4, 18, 1]      [[5], [1, 7], [1, 7], [1, 7]]   \n",
       "22  [4, 12, 4, 18, 1]          [[1, 13], [2, 5], [3, 1]]   \n",
       "23  [4, 12, 4, 18, 1]  [[5], [5], [5], [5], [5], [1, 7]]   \n",
       "24  [4, 12, 4, 18, 1]      [[5], [7], [7], [7], [3, 17]]   \n",
       "\n",
       "                          pred_str           target_str target_factor_list  \\\n",
       "0    > 4 12 4 19 . _ _ _ _ _ _ _ _  > 2 2 23 x 2 2 23 .       [1223, 1223]   \n",
       "1    > 23 x 4 18 5 . _ _ _ _ _ _ _  > 2 2 23 x 2 2 23 .       [1223, 1223]   \n",
       "2   > 5 x 1 23 x 10 17 . _ _ _ _ _  > 2 2 23 x 2 2 23 .       [1223, 1223]   \n",
       "3    > 5 x 2 19 x 9 13 . _ _ _ _ _  > 2 2 23 x 2 2 23 .       [1223, 1223]   \n",
       "4     > 5 x 2 5 x 9 11 . _ _ _ _ _  > 2 2 23 x 2 2 23 .       [1223, 1223]   \n",
       "5     > 3 1 x 4 1 19 . _ _ _ _ _ _  > 2 2 23 x 2 2 23 .       [1223, 1223]   \n",
       "6     > 5 x 2 5 x 9 19 . _ _ _ _ _  > 2 2 23 x 2 2 23 .       [1223, 1223]   \n",
       "7      > 5 x 7 x 3 8 1 . _ _ _ _ _  > 2 2 23 x 2 2 23 .       [1223, 1223]   \n",
       "8    > 1 13 x 2 5 x 3 11 . _ _ _ _  > 2 2 23 x 2 2 23 .       [1223, 1223]   \n",
       "9   > 5 x 1 19 x 14 13 . _ _ _ _ _  > 2 2 23 x 2 2 23 .       [1223, 1223]   \n",
       "10  > 5 x 2 23 x 10 17 . _ _ _ _ _  > 2 2 23 x 2 2 23 .       [1223, 1223]   \n",
       "11  > 5 x 2 13 x 11 19 . _ _ _ _ _  > 2 2 23 x 2 2 23 .       [1223, 1223]   \n",
       "12     > 5 x 5 x 4 3 1 . _ _ _ _ _  > 2 2 23 x 2 2 23 .       [1223, 1223]   \n",
       "13  > 5 x 2 19 x 11 13 . _ _ _ _ _  > 2 2 23 x 2 2 23 .       [1223, 1223]   \n",
       "14   > 5 x 2 23 x 7 17 . _ _ _ _ _  > 2 2 23 x 2 2 23 .       [1223, 1223]   \n",
       "15   > 5 x 2 23 x 9 17 . _ _ _ _ _  > 2 2 23 x 2 2 23 .       [1223, 1223]   \n",
       "16  > 5 x 1 19 x 15 13 . _ _ _ _ _  > 2 2 23 x 2 2 23 .       [1223, 1223]   \n",
       "17   > 5 x 1 23 x 9 17 . _ _ _ _ _  > 2 2 23 x 2 2 23 .       [1223, 1223]   \n",
       "18     > 5 x 7 x 7 x 7 x 3 1 . _ _  > 2 2 23 x 2 2 23 .       [1223, 1223]   \n",
       "19     > 5 x 1 5 x 1 8 1 . _ _ _ _  > 2 2 23 x 2 2 23 .       [1223, 1223]   \n",
       "20    > 5 x 5 x 7 x 11 x 2 7 . _ _  > 2 2 23 x 2 2 23 .       [1223, 1223]   \n",
       "21     > 5 x 1 7 x 1 7 x 1 7 . _ _  > 2 2 23 x 2 2 23 .       [1223, 1223]   \n",
       "22    > 1 13 x 2 5 x 3 1 . _ _ _ _  > 2 2 23 x 2 2 23 .       [1223, 1223]   \n",
       "23     > 5 x 5 x 5 x 5 x 5 x 1 7 .  > 2 2 23 x 2 2 23 .       [1223, 1223]   \n",
       "24    > 5 x 7 x 7 x 7 x 3 17 . _ _  > 2 2 23 x 2 2 23 .       [1223, 1223]   \n",
       "\n",
       "    n_target_factors  n_pred_factors  num_prime_factors_pred  \\\n",
       "0                  2               1                       1   \n",
       "1                  2               2                       2   \n",
       "2                  2               3                       3   \n",
       "3                  2               3                       3   \n",
       "4                  2               3                       3   \n",
       "5                  2               2                       2   \n",
       "6                  2               3                       2   \n",
       "7                  2               3                       2   \n",
       "8                  2               3                       3   \n",
       "9                  2               3                       3   \n",
       "10                 2               3                       3   \n",
       "11                 2               3                       3   \n",
       "12                 2               3                       3   \n",
       "13                 2               3                       3   \n",
       "14                 2               3                       2   \n",
       "15                 2               3                       3   \n",
       "16                 2               3                       3   \n",
       "17                 2               3                       3   \n",
       "18                 2               5                       5   \n",
       "19                 2               3                       3   \n",
       "20                 2               5                       4   \n",
       "21                 2               4                       4   \n",
       "22                 2               3                       3   \n",
       "23                 2               6                       6   \n",
       "24                 2               5                       5   \n",
       "\n",
       "    percent_prime_factors_pred  pred_same_as_target  \\\n",
       "0                     1.000000                False   \n",
       "1                     1.000000                False   \n",
       "2                     1.000000                False   \n",
       "3                     1.000000                False   \n",
       "4                     1.000000                False   \n",
       "5                     1.000000                False   \n",
       "6                     0.666667                False   \n",
       "7                     0.666667                False   \n",
       "8                     1.000000                False   \n",
       "9                     1.000000                False   \n",
       "10                    1.000000                False   \n",
       "11                    1.000000                False   \n",
       "12                    1.000000                False   \n",
       "13                    1.000000                False   \n",
       "14                    0.666667                False   \n",
       "15                    1.000000                False   \n",
       "16                    1.000000                False   \n",
       "17                    1.000000                False   \n",
       "18                    1.000000                False   \n",
       "19                    1.000000                False   \n",
       "20                    0.800000                False   \n",
       "21                    1.000000                False   \n",
       "22                    1.000000                False   \n",
       "23                    1.000000                False   \n",
       "24                    1.000000                False   \n",
       "\n",
       "    min_target_prime_factor_if_composite  \n",
       "0                                   1223  \n",
       "1                                   1223  \n",
       "2                                   1223  \n",
       "3                                   1223  \n",
       "4                                   1223  \n",
       "5                                   1223  \n",
       "6                                   1223  \n",
       "7                                   1223  \n",
       "8                                   1223  \n",
       "9                                   1223  \n",
       "10                                  1223  \n",
       "11                                  1223  \n",
       "12                                  1223  \n",
       "13                                  1223  \n",
       "14                                  1223  \n",
       "15                                  1223  \n",
       "16                                  1223  \n",
       "17                                  1223  \n",
       "18                                  1223  \n",
       "19                                  1223  \n",
       "20                                  1223  \n",
       "21                                  1223  \n",
       "22                                  1223  \n",
       "23                                  1223  \n",
       "24                                  1223  "
      ]
     },
     "execution_count": 105,
     "metadata": {},
     "output_type": "execute_result"
    }
   ],
   "source": [
    "generation_utils.factor(test_num, args['data']['base'], model, t, device, args['model_args']['max_decode_size'], n_beams=25)"
   ]
  },
  {
   "cell_type": "code",
   "execution_count": null,
   "metadata": {},
   "outputs": [],
   "source": []
  },
  {
   "cell_type": "code",
   "execution_count": null,
   "metadata": {},
   "outputs": [],
   "source": []
  },
  {
   "cell_type": "code",
   "execution_count": null,
   "metadata": {},
   "outputs": [],
   "source": []
  },
  {
   "cell_type": "code",
   "execution_count": null,
   "metadata": {},
   "outputs": [],
   "source": []
  },
  {
   "cell_type": "code",
   "execution_count": null,
   "metadata": {},
   "outputs": [],
   "source": []
  },
  {
   "cell_type": "code",
   "execution_count": null,
   "metadata": {},
   "outputs": [],
   "source": []
  }
 ],
 "metadata": {
  "kernelspec": {
   "display_name": "Python 3",
   "language": "python",
   "name": "python3"
  },
  "language_info": {
   "codemirror_mode": {
    "name": "ipython",
    "version": 3
   },
   "file_extension": ".py",
   "mimetype": "text/x-python",
   "name": "python",
   "nbconvert_exporter": "python",
   "pygments_lexer": "ipython3",
   "version": "3.8.7"
  }
 },
 "nbformat": 4,
 "nbformat_minor": 4
}
