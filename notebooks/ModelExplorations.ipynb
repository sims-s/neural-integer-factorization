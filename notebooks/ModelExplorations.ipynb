{
 "cells": [
  {
   "cell_type": "code",
   "execution_count": 1,
   "metadata": {},
   "outputs": [],
   "source": [
    "import numpy as np\n",
    "import pandas as pd\n",
    "import torch\n",
    "import torch.nn as nn\n",
    "import matplotlib.pyplot as plt\n",
    "import os\n",
    "import sys\n",
    "sys.path.append('../src/')\n",
    "import models\n",
    "import generation_utils\n",
    "import metrics_utils\n",
    "import tokenizer\n",
    "import data_utils\n",
    "from utils import get_best_checkpoint"
   ]
  },
  {
   "cell_type": "code",
   "execution_count": 2,
   "metadata": {},
   "outputs": [
    {
     "data": {
      "text/html": [
       "<style>.container { width:100% !important; }</style>"
      ],
      "text/plain": [
       "<IPython.core.display.HTML object>"
      ]
     },
     "metadata": {},
     "output_type": "display_data"
    }
   ],
   "source": [
    "from IPython.core.display import display, HTML\n",
    "display(HTML(\"<style>.container { width:100% !important; }</style>\"))"
   ]
  },
  {
   "cell_type": "code",
   "execution_count": 3,
   "metadata": {},
   "outputs": [],
   "source": [
    "pd.set_option('display.max_colwidth', 999)\n",
    "pd.set_option('display.max_rows', 9999)"
   ]
  },
  {
   "cell_type": "code",
   "execution_count": 4,
   "metadata": {},
   "outputs": [],
   "source": [
    "device = torch.device('cuda')"
   ]
  },
  {
   "cell_type": "code",
   "execution_count": 5,
   "metadata": {},
   "outputs": [],
   "source": [
    "base_path = '../models/baseline_base_30_repeat_pe_qknv/'"
   ]
  },
  {
   "cell_type": "code",
   "execution_count": 6,
   "metadata": {},
   "outputs": [
    {
     "name": "stdout",
     "output_type": "stream",
     "text": [
      "Loading model at ../models/baseline_base_30_repeat_pe_qknv/checkpoints/184400_0.0620.pt\n"
     ]
    }
   ],
   "source": [
    "checkpoint = get_best_checkpoint(base_path)"
   ]
  },
  {
   "cell_type": "code",
   "execution_count": 7,
   "metadata": {},
   "outputs": [],
   "source": [
    "args = checkpoint['args']"
   ]
  },
  {
   "cell_type": "code",
   "execution_count": 8,
   "metadata": {},
   "outputs": [],
   "source": [
    "t = tokenizer.Tokenizer(base = args['data']['base'])"
   ]
  },
  {
   "cell_type": "code",
   "execution_count": 9,
   "metadata": {
    "scrolled": true
   },
   "outputs": [
    {
     "data": {
      "text/plain": [
       "dict_keys(['data', 'model_args', 'optimizer', 'scheduler', 'loader', 'io', 'metrics', 'multi_gpu', 'verbose', 'wandb', 'resume_training', 'tokenizer'])"
      ]
     },
     "execution_count": 9,
     "metadata": {},
     "output_type": "execute_result"
    }
   ],
   "source": [
    "args.keys()"
   ]
  },
  {
   "cell_type": "code",
   "execution_count": 10,
   "metadata": {},
   "outputs": [
    {
     "data": {
      "text/plain": [
       "Factorizer(\n",
       "  (embedding): TransformerEmbedding(\n",
       "    (embedding): Embedding(34, 128)\n",
       "  )\n",
       "  (positional_encoding): PositionalEncoding(\n",
       "    (dropout): Dropout(p=0.05, inplace=False)\n",
       "  )\n",
       "  (transformer): Transformer(\n",
       "    (encoder): TransformerEncoder(\n",
       "      (layers): ModuleList(\n",
       "        (0): TransformerEncoderLayer(\n",
       "          (self_attn): MultiheadAttention(\n",
       "            (out_proj): _LinearWithBias(in_features=128, out_features=128, bias=True)\n",
       "          )\n",
       "          (linear1): Linear(in_features=128, out_features=512, bias=True)\n",
       "          (dropout): Dropout(p=0.05, inplace=False)\n",
       "          (linear2): Linear(in_features=512, out_features=128, bias=True)\n",
       "          (norm1): LayerNorm((128,), eps=1e-05, elementwise_affine=True)\n",
       "          (norm2): LayerNorm((128,), eps=1e-05, elementwise_affine=True)\n",
       "          (dropout1): Dropout(p=0.05, inplace=False)\n",
       "          (dropout2): Dropout(p=0.05, inplace=False)\n",
       "        )\n",
       "        (1): TransformerEncoderLayer(\n",
       "          (self_attn): MultiheadAttention(\n",
       "            (out_proj): _LinearWithBias(in_features=128, out_features=128, bias=True)\n",
       "          )\n",
       "          (linear1): Linear(in_features=128, out_features=512, bias=True)\n",
       "          (dropout): Dropout(p=0.05, inplace=False)\n",
       "          (linear2): Linear(in_features=512, out_features=128, bias=True)\n",
       "          (norm1): LayerNorm((128,), eps=1e-05, elementwise_affine=True)\n",
       "          (norm2): LayerNorm((128,), eps=1e-05, elementwise_affine=True)\n",
       "          (dropout1): Dropout(p=0.05, inplace=False)\n",
       "          (dropout2): Dropout(p=0.05, inplace=False)\n",
       "        )\n",
       "        (2): TransformerEncoderLayer(\n",
       "          (self_attn): MultiheadAttention(\n",
       "            (out_proj): _LinearWithBias(in_features=128, out_features=128, bias=True)\n",
       "          )\n",
       "          (linear1): Linear(in_features=128, out_features=512, bias=True)\n",
       "          (dropout): Dropout(p=0.05, inplace=False)\n",
       "          (linear2): Linear(in_features=512, out_features=128, bias=True)\n",
       "          (norm1): LayerNorm((128,), eps=1e-05, elementwise_affine=True)\n",
       "          (norm2): LayerNorm((128,), eps=1e-05, elementwise_affine=True)\n",
       "          (dropout1): Dropout(p=0.05, inplace=False)\n",
       "          (dropout2): Dropout(p=0.05, inplace=False)\n",
       "        )\n",
       "        (3): TransformerEncoderLayer(\n",
       "          (self_attn): MultiheadAttention(\n",
       "            (out_proj): _LinearWithBias(in_features=128, out_features=128, bias=True)\n",
       "          )\n",
       "          (linear1): Linear(in_features=128, out_features=512, bias=True)\n",
       "          (dropout): Dropout(p=0.05, inplace=False)\n",
       "          (linear2): Linear(in_features=512, out_features=128, bias=True)\n",
       "          (norm1): LayerNorm((128,), eps=1e-05, elementwise_affine=True)\n",
       "          (norm2): LayerNorm((128,), eps=1e-05, elementwise_affine=True)\n",
       "          (dropout1): Dropout(p=0.05, inplace=False)\n",
       "          (dropout2): Dropout(p=0.05, inplace=False)\n",
       "        )\n",
       "        (4): TransformerEncoderLayer(\n",
       "          (self_attn): MultiheadAttention(\n",
       "            (out_proj): _LinearWithBias(in_features=128, out_features=128, bias=True)\n",
       "          )\n",
       "          (linear1): Linear(in_features=128, out_features=512, bias=True)\n",
       "          (dropout): Dropout(p=0.05, inplace=False)\n",
       "          (linear2): Linear(in_features=512, out_features=128, bias=True)\n",
       "          (norm1): LayerNorm((128,), eps=1e-05, elementwise_affine=True)\n",
       "          (norm2): LayerNorm((128,), eps=1e-05, elementwise_affine=True)\n",
       "          (dropout1): Dropout(p=0.05, inplace=False)\n",
       "          (dropout2): Dropout(p=0.05, inplace=False)\n",
       "        )\n",
       "        (5): TransformerEncoderLayer(\n",
       "          (self_attn): MultiheadAttention(\n",
       "            (out_proj): _LinearWithBias(in_features=128, out_features=128, bias=True)\n",
       "          )\n",
       "          (linear1): Linear(in_features=128, out_features=512, bias=True)\n",
       "          (dropout): Dropout(p=0.05, inplace=False)\n",
       "          (linear2): Linear(in_features=512, out_features=128, bias=True)\n",
       "          (norm1): LayerNorm((128,), eps=1e-05, elementwise_affine=True)\n",
       "          (norm2): LayerNorm((128,), eps=1e-05, elementwise_affine=True)\n",
       "          (dropout1): Dropout(p=0.05, inplace=False)\n",
       "          (dropout2): Dropout(p=0.05, inplace=False)\n",
       "        )\n",
       "      )\n",
       "      (norm): LayerNorm((128,), eps=1e-05, elementwise_affine=True)\n",
       "    )\n",
       "    (decoder): TransformerDecoder(\n",
       "      (layers): ModuleList(\n",
       "        (0): TransformerDecoderLayer(\n",
       "          (self_attn): MultiHeadAttention(\n",
       "            (w_q): Linear(in_features=128, out_features=128, bias=False)\n",
       "            (w_k): Linear(in_features=128, out_features=128, bias=False)\n",
       "            (w_v): Linear(in_features=128, out_features=128, bias=False)\n",
       "            (out_proj): Linear(in_features=128, out_features=128, bias=True)\n",
       "          )\n",
       "          (multihead_attn): MultiHeadAttention(\n",
       "            (w_q): Linear(in_features=128, out_features=128, bias=False)\n",
       "            (w_k): Linear(in_features=128, out_features=128, bias=False)\n",
       "            (w_v): Linear(in_features=128, out_features=128, bias=False)\n",
       "            (out_proj): Linear(in_features=128, out_features=128, bias=True)\n",
       "          )\n",
       "          (linear1): Linear(in_features=128, out_features=512, bias=True)\n",
       "          (dropout): Dropout(p=0.05, inplace=False)\n",
       "          (linear2): Linear(in_features=512, out_features=128, bias=True)\n",
       "          (norm1): LayerNorm((128,), eps=1e-05, elementwise_affine=True)\n",
       "          (norm2): LayerNorm((128,), eps=1e-05, elementwise_affine=True)\n",
       "          (norm3): LayerNorm((128,), eps=1e-05, elementwise_affine=True)\n",
       "          (dropout1): Dropout(p=0.05, inplace=False)\n",
       "          (dropout2): Dropout(p=0.05, inplace=False)\n",
       "          (dropout3): Dropout(p=0.05, inplace=False)\n",
       "        )\n",
       "        (1): TransformerDecoderLayer(\n",
       "          (self_attn): MultiHeadAttention(\n",
       "            (w_q): Linear(in_features=128, out_features=128, bias=False)\n",
       "            (w_k): Linear(in_features=128, out_features=128, bias=False)\n",
       "            (w_v): Linear(in_features=128, out_features=128, bias=False)\n",
       "            (out_proj): Linear(in_features=128, out_features=128, bias=True)\n",
       "          )\n",
       "          (multihead_attn): MultiHeadAttention(\n",
       "            (w_q): Linear(in_features=128, out_features=128, bias=False)\n",
       "            (w_k): Linear(in_features=128, out_features=128, bias=False)\n",
       "            (w_v): Linear(in_features=128, out_features=128, bias=False)\n",
       "            (out_proj): Linear(in_features=128, out_features=128, bias=True)\n",
       "          )\n",
       "          (linear1): Linear(in_features=128, out_features=512, bias=True)\n",
       "          (dropout): Dropout(p=0.05, inplace=False)\n",
       "          (linear2): Linear(in_features=512, out_features=128, bias=True)\n",
       "          (norm1): LayerNorm((128,), eps=1e-05, elementwise_affine=True)\n",
       "          (norm2): LayerNorm((128,), eps=1e-05, elementwise_affine=True)\n",
       "          (norm3): LayerNorm((128,), eps=1e-05, elementwise_affine=True)\n",
       "          (dropout1): Dropout(p=0.05, inplace=False)\n",
       "          (dropout2): Dropout(p=0.05, inplace=False)\n",
       "          (dropout3): Dropout(p=0.05, inplace=False)\n",
       "        )\n",
       "        (2): TransformerDecoderLayer(\n",
       "          (self_attn): MultiHeadAttention(\n",
       "            (w_q): Linear(in_features=128, out_features=128, bias=False)\n",
       "            (w_k): Linear(in_features=128, out_features=128, bias=False)\n",
       "            (w_v): Linear(in_features=128, out_features=128, bias=False)\n",
       "            (out_proj): Linear(in_features=128, out_features=128, bias=True)\n",
       "          )\n",
       "          (multihead_attn): MultiHeadAttention(\n",
       "            (w_q): Linear(in_features=128, out_features=128, bias=False)\n",
       "            (w_k): Linear(in_features=128, out_features=128, bias=False)\n",
       "            (w_v): Linear(in_features=128, out_features=128, bias=False)\n",
       "            (out_proj): Linear(in_features=128, out_features=128, bias=True)\n",
       "          )\n",
       "          (linear1): Linear(in_features=128, out_features=512, bias=True)\n",
       "          (dropout): Dropout(p=0.05, inplace=False)\n",
       "          (linear2): Linear(in_features=512, out_features=128, bias=True)\n",
       "          (norm1): LayerNorm((128,), eps=1e-05, elementwise_affine=True)\n",
       "          (norm2): LayerNorm((128,), eps=1e-05, elementwise_affine=True)\n",
       "          (norm3): LayerNorm((128,), eps=1e-05, elementwise_affine=True)\n",
       "          (dropout1): Dropout(p=0.05, inplace=False)\n",
       "          (dropout2): Dropout(p=0.05, inplace=False)\n",
       "          (dropout3): Dropout(p=0.05, inplace=False)\n",
       "        )\n",
       "        (3): TransformerDecoderLayer(\n",
       "          (self_attn): MultiHeadAttention(\n",
       "            (w_q): Linear(in_features=128, out_features=128, bias=False)\n",
       "            (w_k): Linear(in_features=128, out_features=128, bias=False)\n",
       "            (w_v): Linear(in_features=128, out_features=128, bias=False)\n",
       "            (out_proj): Linear(in_features=128, out_features=128, bias=True)\n",
       "          )\n",
       "          (multihead_attn): MultiHeadAttention(\n",
       "            (w_q): Linear(in_features=128, out_features=128, bias=False)\n",
       "            (w_k): Linear(in_features=128, out_features=128, bias=False)\n",
       "            (w_v): Linear(in_features=128, out_features=128, bias=False)\n",
       "            (out_proj): Linear(in_features=128, out_features=128, bias=True)\n",
       "          )\n",
       "          (linear1): Linear(in_features=128, out_features=512, bias=True)\n",
       "          (dropout): Dropout(p=0.05, inplace=False)\n",
       "          (linear2): Linear(in_features=512, out_features=128, bias=True)\n",
       "          (norm1): LayerNorm((128,), eps=1e-05, elementwise_affine=True)\n",
       "          (norm2): LayerNorm((128,), eps=1e-05, elementwise_affine=True)\n",
       "          (norm3): LayerNorm((128,), eps=1e-05, elementwise_affine=True)\n",
       "          (dropout1): Dropout(p=0.05, inplace=False)\n",
       "          (dropout2): Dropout(p=0.05, inplace=False)\n",
       "          (dropout3): Dropout(p=0.05, inplace=False)\n",
       "        )\n",
       "        (4): TransformerDecoderLayer(\n",
       "          (self_attn): MultiHeadAttention(\n",
       "            (w_q): Linear(in_features=128, out_features=128, bias=False)\n",
       "            (w_k): Linear(in_features=128, out_features=128, bias=False)\n",
       "            (w_v): Linear(in_features=128, out_features=128, bias=False)\n",
       "            (out_proj): Linear(in_features=128, out_features=128, bias=True)\n",
       "          )\n",
       "          (multihead_attn): MultiHeadAttention(\n",
       "            (w_q): Linear(in_features=128, out_features=128, bias=False)\n",
       "            (w_k): Linear(in_features=128, out_features=128, bias=False)\n",
       "            (w_v): Linear(in_features=128, out_features=128, bias=False)\n",
       "            (out_proj): Linear(in_features=128, out_features=128, bias=True)\n",
       "          )\n",
       "          (linear1): Linear(in_features=128, out_features=512, bias=True)\n",
       "          (dropout): Dropout(p=0.05, inplace=False)\n",
       "          (linear2): Linear(in_features=512, out_features=128, bias=True)\n",
       "          (norm1): LayerNorm((128,), eps=1e-05, elementwise_affine=True)\n",
       "          (norm2): LayerNorm((128,), eps=1e-05, elementwise_affine=True)\n",
       "          (norm3): LayerNorm((128,), eps=1e-05, elementwise_affine=True)\n",
       "          (dropout1): Dropout(p=0.05, inplace=False)\n",
       "          (dropout2): Dropout(p=0.05, inplace=False)\n",
       "          (dropout3): Dropout(p=0.05, inplace=False)\n",
       "        )\n",
       "        (5): TransformerDecoderLayer(\n",
       "          (self_attn): MultiHeadAttention(\n",
       "            (w_q): Linear(in_features=128, out_features=128, bias=False)\n",
       "            (w_k): Linear(in_features=128, out_features=128, bias=False)\n",
       "            (w_v): Linear(in_features=128, out_features=128, bias=False)\n",
       "            (out_proj): Linear(in_features=128, out_features=128, bias=True)\n",
       "          )\n",
       "          (multihead_attn): MultiHeadAttention(\n",
       "            (w_q): Linear(in_features=128, out_features=128, bias=False)\n",
       "            (w_k): Linear(in_features=128, out_features=128, bias=False)\n",
       "            (w_v): Linear(in_features=128, out_features=128, bias=False)\n",
       "            (out_proj): Linear(in_features=128, out_features=128, bias=True)\n",
       "          )\n",
       "          (linear1): Linear(in_features=128, out_features=512, bias=True)\n",
       "          (dropout): Dropout(p=0.05, inplace=False)\n",
       "          (linear2): Linear(in_features=512, out_features=128, bias=True)\n",
       "          (norm1): LayerNorm((128,), eps=1e-05, elementwise_affine=True)\n",
       "          (norm2): LayerNorm((128,), eps=1e-05, elementwise_affine=True)\n",
       "          (norm3): LayerNorm((128,), eps=1e-05, elementwise_affine=True)\n",
       "          (dropout1): Dropout(p=0.05, inplace=False)\n",
       "          (dropout2): Dropout(p=0.05, inplace=False)\n",
       "          (dropout3): Dropout(p=0.05, inplace=False)\n",
       "        )\n",
       "      )\n",
       "      (norm): LayerNorm((128,), eps=1e-05, elementwise_affine=True)\n",
       "    )\n",
       "  )\n",
       "  (tokens_out): Linear(in_features=128, out_features=34, bias=True)\n",
       ")"
      ]
     },
     "execution_count": 10,
     "metadata": {},
     "output_type": "execute_result"
    }
   ],
   "source": [
    "model = models.Factorizer(n_tokens = args['tokenizer']['n_tokens'], \n",
    "                          pad_token_id = args['tokenizer']['pad_token_id'],\n",
    "                          **args['model_args'])\n",
    "model.load_state_dict(checkpoint['model_state_dict'])\n",
    "model.to(device)\n",
    "model.eval()"
   ]
  },
  {
   "cell_type": "markdown",
   "metadata": {},
   "source": [
    "# Visualize Embeddings"
   ]
  },
  {
   "cell_type": "code",
   "execution_count": 11,
   "metadata": {},
   "outputs": [],
   "source": [
    "embeddings = model.embedding.embedding.weight.data.cpu().numpy()"
   ]
  },
  {
   "cell_type": "code",
   "execution_count": 12,
   "metadata": {},
   "outputs": [],
   "source": [
    "tokens = [''.join(t.decode([i], decode_special=True)) for i in range(len(t))]\n",
    "special_tokens = set(['x', '_', '>', '.'])\n",
    "tokens = np.array([tok if tok in special_tokens else data_utils.base2dec([int(tok)], args['data']['base']) for tok in tokens])"
   ]
  },
  {
   "cell_type": "code",
   "execution_count": 13,
   "metadata": {},
   "outputs": [
    {
     "data": {
      "text/plain": [
       "(34, 128)"
      ]
     },
     "execution_count": 13,
     "metadata": {},
     "output_type": "execute_result"
    }
   ],
   "source": [
    "embeddings.shape"
   ]
  },
  {
   "cell_type": "code",
   "execution_count": 14,
   "metadata": {},
   "outputs": [
    {
     "data": {
      "text/plain": [
       "(34,)"
      ]
     },
     "execution_count": 14,
     "metadata": {},
     "output_type": "execute_result"
    }
   ],
   "source": [
    "tokens.shape"
   ]
  },
  {
   "cell_type": "code",
   "execution_count": 15,
   "metadata": {},
   "outputs": [
    {
     "data": {
      "text/plain": [
       "array(['0', '1', '2', '3', '4', '5', '6', '7', '8', '9', '10', '11', '12',\n",
       "       '13', '14', '15', '16', '17', '18', '19', '20', '21', '22', '23',\n",
       "       '24', '25', '26', '27', '28', '29', 'x', '_', '.', '>'],\n",
       "      dtype='<U11')"
      ]
     },
     "execution_count": 15,
     "metadata": {},
     "output_type": "execute_result"
    }
   ],
   "source": [
    "tokens"
   ]
  },
  {
   "cell_type": "markdown",
   "metadata": {},
   "source": [
    "## TSNE\n",
    "* Doesn't seem to be super interesting (over more paramaters than these)"
   ]
  },
  {
   "cell_type": "code",
   "execution_count": 16,
   "metadata": {},
   "outputs": [],
   "source": [
    "from sklearn.manifold import TSNE"
   ]
  },
  {
   "cell_type": "code",
   "execution_count": 17,
   "metadata": {},
   "outputs": [],
   "source": [
    "tsne = TSNE(perplexity=30, learning_rate=200, n_iter=1000)\n",
    "embeddings_for_plot = tsne.fit_transform(embeddings)"
   ]
  },
  {
   "cell_type": "code",
   "execution_count": 18,
   "metadata": {
    "scrolled": false
   },
   "outputs": [
    {
     "data": {
      "image/png": "[encoded data removed]",
      "text/plain": [
       "<Figure size 432x288 with 1 Axes>"
      ]
     },
     "metadata": {
      "needs_background": "light"
     },
     "output_type": "display_data"
    }
   ],
   "source": [
    "plt.scatter(embeddings_for_plot[:,0], embeddings_for_plot[:,1])\n",
    "ax = plt.gca()\n",
    "for tok, (x,y) in zip(tokens, embeddings_for_plot):\n",
    "    fontsize = 12 if not tok in ['.', '_'] else 24\n",
    "    ax.annotate(tok, (x+.3,y), fontsize=fontsize)\n",
    "plt.show()"
   ]
  },
  {
   "cell_type": "markdown",
   "metadata": {},
   "source": [
    "## Cosine Similarity\n",
    "* Some embeddings have relatively simlar cosine similarities"
   ]
  },
  {
   "cell_type": "code",
   "execution_count": 19,
   "metadata": {},
   "outputs": [],
   "source": [
    "from sklearn.metrics.pairwise import cosine_similarity"
   ]
  },
  {
   "cell_type": "code",
   "execution_count": 27,
   "metadata": {},
   "outputs": [],
   "source": [
    "cs_sim_mat = cosine_similarity(embeddings)\n",
    "cs_sims = np.triu(cs_sim_mat, 1).ravel()\n",
    "cs_sims = cs_sims[~np.isclose(cs_sims, 0)]"
   ]
  },
  {
   "cell_type": "code",
   "execution_count": 28,
   "metadata": {},
   "outputs": [
    {
     "data": {
      "image/png": "[encoded data removed]",
      "text/plain": [
       "<Figure size 432x288 with 1 Axes>"
      ]
     },
     "metadata": {
      "needs_background": "light"
     },
     "output_type": "display_data"
    }
   ],
   "source": [
    "plt.title('cosine simiarlty of embeddings')\n",
    "pd.Series(cs_sims).hist()\n",
    "plt.show()"
   ]
  },
  {
   "cell_type": "code",
   "execution_count": 29,
   "metadata": {},
   "outputs": [
    {
     "data": {
      "text/plain": [
       "(34, 34)"
      ]
     },
     "execution_count": 29,
     "metadata": {},
     "output_type": "execute_result"
    }
   ],
   "source": [
    "cs_sim_mat.shape"
   ]
  },
  {
   "cell_type": "code",
   "execution_count": 24,
   "metadata": {},
   "outputs": [
    {
     "data": {
      "text/plain": [
       "array(['0', '1', '2', '3', '4', '5', '6', '7', '8', '9', '10', '11', '12',\n",
       "       '13', '14', '15', '16', '17', '18', '19', '20', '21', '22', '23',\n",
       "       '24', '25', '26', '27', '28', '29', 'x', '_', '.', '>'],\n",
       "      dtype='<U11')"
      ]
     },
     "execution_count": 24,
     "metadata": {},
     "output_type": "execute_result"
    }
   ],
   "source": [
    "tokens"
   ]
  },
  {
   "cell_type": "code",
   "execution_count": 30,
   "metadata": {},
   "outputs": [
    {
     "data": {
      "image/png": "[encoded data removed]",
      "text/plain": [
       "<Figure size 1440x1440 with 2 Axes>"
      ]
     },
     "metadata": {
      "needs_background": "light"
     },
     "output_type": "display_data"
    }
   ],
   "source": [
    "fig = plt.gcf()\n",
    "fig.set_size_inches(20, 20)\n",
    "ax = plt.gca()\n",
    "plt.colorbar(ax.matshow(np.clip(cs_sim_mat, a_min=-1, a_max=cs_sim_mat[cs_sim_mat<.99].max()*1.1)), ax=ax)\n",
    "ax.set_xticks(np.arange(cs_sim_mat.shape[0]))\n",
    "ax.set_yticks(np.arange(cs_sim_mat.shape[0]))\n",
    "ax.set_xticklabels(tokens[:cs_sim_mat.shape[0]])\n",
    "ax.set_yticklabels(tokens[:cs_sim_mat.shape[0]])\n",
    "plt.show()"
   ]
  },
  {
   "cell_type": "markdown",
   "metadata": {},
   "source": [
    "### Are the embeddings linearly predictive of anything interesting?"
   ]
  },
  {
   "cell_type": "code",
   "execution_count": 33,
   "metadata": {},
   "outputs": [],
   "source": [
    "from sklearn.linear_model import LogisticRegression\n",
    "from sklearn.svm import SVC"
   ]
  },
  {
   "cell_type": "code",
   "execution_count": 34,
   "metadata": {},
   "outputs": [],
   "source": [
    "logreg = LogisticRegression(C = .1, penalty='l1', solver='liblinear')\n",
    "# logreg = SVC()"
   ]
  },
  {
   "cell_type": "code",
   "execution_count": 35,
   "metadata": {},
   "outputs": [
    {
     "data": {
      "text/plain": [
       "((34, 128), (34,))"
      ]
     },
     "execution_count": 35,
     "metadata": {},
     "output_type": "execute_result"
    }
   ],
   "source": [
    "embeddings.shape, tokens.shape"
   ]
  },
  {
   "cell_type": "code",
   "execution_count": 36,
   "metadata": {},
   "outputs": [],
   "source": [
    "logreg_x = embeddings[:-4]\n",
    "logreg_y = tokens[:-4].astype(int) % 2"
   ]
  },
  {
   "cell_type": "code",
   "execution_count": 37,
   "metadata": {},
   "outputs": [],
   "source": [
    "train_indexer = np.random.rand(logreg_x.shape[0]) < .8\n",
    "logreg_x_train = logreg_x[train_indexer]\n",
    "logreg_x_test = logreg_x[~train_indexer]\n",
    "\n",
    "logreg_y_train = logreg_y[train_indexer]\n",
    "logreg_y_test = logreg_y[~train_indexer]"
   ]
  },
  {
   "cell_type": "code",
   "execution_count": 38,
   "metadata": {},
   "outputs": [
    {
     "data": {
      "text/plain": [
       "((20, 128), (20,))"
      ]
     },
     "execution_count": 38,
     "metadata": {},
     "output_type": "execute_result"
    }
   ],
   "source": [
    "logreg_x_train.shape, logreg_y_train.shape"
   ]
  },
  {
   "cell_type": "code",
   "execution_count": 39,
   "metadata": {},
   "outputs": [
    {
     "data": {
      "text/plain": [
       "((10, 128), (10,))"
      ]
     },
     "execution_count": 39,
     "metadata": {},
     "output_type": "execute_result"
    }
   ],
   "source": [
    "logreg_x_test.shape, logreg_y_test.shape"
   ]
  },
  {
   "cell_type": "code",
   "execution_count": 40,
   "metadata": {},
   "outputs": [
    {
     "data": {
      "text/plain": [
       "LogisticRegression(C=0.1, penalty='l1', solver='liblinear')"
      ]
     },
     "execution_count": 40,
     "metadata": {},
     "output_type": "execute_result"
    }
   ],
   "source": [
    "logreg.fit(logreg_x_train, logreg_y_train)"
   ]
  },
  {
   "cell_type": "code",
   "execution_count": 42,
   "metadata": {},
   "outputs": [
    {
     "data": {
      "text/plain": [
       "0.55"
      ]
     },
     "execution_count": 42,
     "metadata": {},
     "output_type": "execute_result"
    }
   ],
   "source": [
    "logreg.score(logreg_x_train, logreg_y_train)"
   ]
  },
  {
   "cell_type": "code",
   "execution_count": 41,
   "metadata": {},
   "outputs": [
    {
     "data": {
      "text/plain": [
       "0.4"
      ]
     },
     "execution_count": 41,
     "metadata": {},
     "output_type": "execute_result"
    }
   ],
   "source": [
    "logreg.score(logreg_x_test, logreg_y_test)"
   ]
  },
  {
   "cell_type": "markdown",
   "metadata": {},
   "source": [
    "# How well does the model do on numbers higher than what it was trained on?"
   ]
  },
  {
   "cell_type": "code",
   "execution_count": 43,
   "metadata": {},
   "outputs": [],
   "source": [
    "start = 2**16\n",
    "length = 100\n",
    "numbers = np.arange(start, start + length)"
   ]
  },
  {
   "cell_type": "code",
   "execution_count": 44,
   "metadata": {},
   "outputs": [
    {
     "data": {
      "text/plain": [
       "<tokenizer.Tokenizer at 0x1499d18d3d0>"
      ]
     },
     "execution_count": 44,
     "metadata": {},
     "output_type": "execute_result"
    }
   ],
   "source": [
    "t"
   ]
  },
  {
   "cell_type": "code",
   "execution_count": 45,
   "metadata": {},
   "outputs": [
    {
     "data": {
      "application/vnd.jupyter.widget-view+json": {
       "model_id": "",
       "version_major": 2,
       "version_minor": 0
      },
      "text/plain": [
       "HBox(children=(FloatProgress(value=0.0), HTML(value='')))"
      ]
     },
     "metadata": {},
     "output_type": "display_data"
    }
   ],
   "source": [
    "larger_df = metrics_utils.form_factor_df(model, t, device, args['data']['base'], numbers, args['model_args']['max_decode_size'], postprocess_minimal=True, n_beams = 10)"
   ]
  },
  {
   "cell_type": "code",
   "execution_count": 46,
   "metadata": {},
   "outputs": [
    {
     "data": {
      "text/plain": [
       "(1000, 13)"
      ]
     },
     "execution_count": 46,
     "metadata": {},
     "output_type": "execute_result"
    }
   ],
   "source": [
    "larger_df.shape"
   ]
  },
  {
   "cell_type": "code",
   "execution_count": 47,
   "metadata": {},
   "outputs": [
    {
     "data": {
      "text/html": [
       "<div>\n",
       "<style scoped>\n",
       "    .dataframe tbody tr th:only-of-type {\n",
       "        vertical-align: middle;\n",
       "    }\n",
       "\n",
       "    .dataframe tbody tr th {\n",
       "        vertical-align: top;\n",
       "    }\n",
       "\n",
       "    .dataframe thead th {\n",
       "        text-align: right;\n",
       "    }\n",
       "</style>\n",
       "<table border=\"1\" class=\"dataframe\">\n",
       "  <thead>\n",
       "    <tr style=\"text-align: right;\">\n",
       "      <th></th>\n",
       "      <th>input_num</th>\n",
       "      <th>model_input</th>\n",
       "      <th>beam_idx</th>\n",
       "      <th>log_prob</th>\n",
       "      <th>pred_str</th>\n",
       "      <th>pred_factor_list</th>\n",
       "      <th>product</th>\n",
       "      <th>num_pred_factors</th>\n",
       "      <th>num_prime_factors_pred</th>\n",
       "      <th>percent_prime_factors_pred</th>\n",
       "      <th>correct_product</th>\n",
       "      <th>correct_factorization</th>\n",
       "      <th>pred_same_as_input</th>\n",
       "    </tr>\n",
       "  </thead>\n",
       "  <tbody>\n",
       "    <tr>\n",
       "      <th>0</th>\n",
       "      <td>65536</td>\n",
       "      <td>[&gt;, 2, 12, 24, 16, .]</td>\n",
       "      <td>0</td>\n",
       "      <td>-1.317986</td>\n",
       "      <td>&gt; 2 x 2 x 2 x 2 x 4 16 1 . _ _ _ _ _ _ _ _ _ _ _ _ _ _ _ _ _ _ _ _ _ _ _ _ _ _ _ _ _ _ _ _ _ _ _ _ _ _ _ _ _ _ _ _ _ _ _ _ _ _ _</td>\n",
       "      <td>[2, 2, 2, 2, 4081]</td>\n",
       "      <td>65296</td>\n",
       "      <td>5</td>\n",
       "      <td>4</td>\n",
       "      <td>0.8</td>\n",
       "      <td>False</td>\n",
       "      <td>False</td>\n",
       "      <td>False</td>\n",
       "    </tr>\n",
       "    <tr>\n",
       "      <th>1</th>\n",
       "      <td>65536</td>\n",
       "      <td>[&gt;, 2, 12, 24, 16, .]</td>\n",
       "      <td>1</td>\n",
       "      <td>-1.953415</td>\n",
       "      <td>&gt; 2 x 2 x 2 x 2 x 2 x 2 x 2 x 7 x 2 11 . _ _ _ _ _ _ _ _ _ _ _ _ _ _ _ _ _ _ _ _ _ _ _ _ _ _ _ _ _ _ _ _ _ _ _ _ _ _ _ _ _ _ _ _</td>\n",
       "      <td>[2, 2, 2, 2, 2, 2, 2, 7, 71]</td>\n",
       "      <td>63616</td>\n",
       "      <td>9</td>\n",
       "      <td>9</td>\n",
       "      <td>1.0</td>\n",
       "      <td>False</td>\n",
       "      <td>False</td>\n",
       "      <td>False</td>\n",
       "    </tr>\n",
       "    <tr>\n",
       "      <th>2</th>\n",
       "      <td>65536</td>\n",
       "      <td>[&gt;, 2, 12, 24, 16, .]</td>\n",
       "      <td>2</td>\n",
       "      <td>-2.859679</td>\n",
       "      <td>&gt; 2 x 2 x 2 x 2 x 7 x 7 x 2 19 . _ _ _ _ _ _ _ _ _ _ _ _ _ _ _ _ _ _ _ _ _ _ _ _ _ _ _ _ _ _ _ _ _ _ _ _ _ _ _ _ _ _ _ _ _ _ _ _</td>\n",
       "      <td>[2, 2, 2, 2, 7, 7, 79]</td>\n",
       "      <td>61936</td>\n",
       "      <td>7</td>\n",
       "      <td>7</td>\n",
       "      <td>1.0</td>\n",
       "      <td>False</td>\n",
       "      <td>False</td>\n",
       "      <td>False</td>\n",
       "    </tr>\n",
       "    <tr>\n",
       "      <th>3</th>\n",
       "      <td>65536</td>\n",
       "      <td>[&gt;, 2, 12, 24, 16, .]</td>\n",
       "      <td>3</td>\n",
       "      <td>-3.044733</td>\n",
       "      <td>&gt; 2 x 2 x 2 x 2 x 2 x 2 x 1 4 19 . _ _ _ _ _ _ _ _ _ _ _ _ _ _ _ _ _ _ _ _ _ _ _ _ _ _ _ _ _ _ _ _ _ _ _ _ _ _ _ _ _ _ _ _ _ _ _</td>\n",
       "      <td>[2, 2, 2, 2, 2, 2, 1039]</td>\n",
       "      <td>66496</td>\n",
       "      <td>7</td>\n",
       "      <td>7</td>\n",
       "      <td>1.0</td>\n",
       "      <td>False</td>\n",
       "      <td>False</td>\n",
       "      <td>False</td>\n",
       "    </tr>\n",
       "    <tr>\n",
       "      <th>4</th>\n",
       "      <td>65536</td>\n",
       "      <td>[&gt;, 2, 12, 24, 16, .]</td>\n",
       "      <td>4</td>\n",
       "      <td>-3.160079</td>\n",
       "      <td>&gt; 2 x 2 x 2 x 2 x 17 x 7 23 . _ _ _ _ _ _ _ _ _ _ _ _ _ _ _ _ _ _ _ _ _ _ _ _ _ _ _ _ _ _ _ _ _ _ _ _ _ _ _ _ _ _ _ _ _ _ _ _ _ _</td>\n",
       "      <td>[2, 2, 2, 2, 17, 233]</td>\n",
       "      <td>63376</td>\n",
       "      <td>6</td>\n",
       "      <td>6</td>\n",
       "      <td>1.0</td>\n",
       "      <td>False</td>\n",
       "      <td>False</td>\n",
       "      <td>False</td>\n",
       "    </tr>\n",
       "  </tbody>\n",
       "</table>\n",
       "</div>"
      ],
      "text/plain": [
       "   input_num            model_input  beam_idx  log_prob  \\\n",
       "0      65536  [>, 2, 12, 24, 16, .]         0 -1.317986   \n",
       "1      65536  [>, 2, 12, 24, 16, .]         1 -1.953415   \n",
       "2      65536  [>, 2, 12, 24, 16, .]         2 -2.859679   \n",
       "3      65536  [>, 2, 12, 24, 16, .]         3 -3.044733   \n",
       "4      65536  [>, 2, 12, 24, 16, .]         4 -3.160079   \n",
       "\n",
       "                                                                                                                            pred_str  \\\n",
       "0   > 2 x 2 x 2 x 2 x 4 16 1 . _ _ _ _ _ _ _ _ _ _ _ _ _ _ _ _ _ _ _ _ _ _ _ _ _ _ _ _ _ _ _ _ _ _ _ _ _ _ _ _ _ _ _ _ _ _ _ _ _ _ _   \n",
       "1   > 2 x 2 x 2 x 2 x 2 x 2 x 2 x 7 x 2 11 . _ _ _ _ _ _ _ _ _ _ _ _ _ _ _ _ _ _ _ _ _ _ _ _ _ _ _ _ _ _ _ _ _ _ _ _ _ _ _ _ _ _ _ _   \n",
       "2   > 2 x 2 x 2 x 2 x 7 x 7 x 2 19 . _ _ _ _ _ _ _ _ _ _ _ _ _ _ _ _ _ _ _ _ _ _ _ _ _ _ _ _ _ _ _ _ _ _ _ _ _ _ _ _ _ _ _ _ _ _ _ _   \n",
       "3   > 2 x 2 x 2 x 2 x 2 x 2 x 1 4 19 . _ _ _ _ _ _ _ _ _ _ _ _ _ _ _ _ _ _ _ _ _ _ _ _ _ _ _ _ _ _ _ _ _ _ _ _ _ _ _ _ _ _ _ _ _ _ _   \n",
       "4  > 2 x 2 x 2 x 2 x 17 x 7 23 . _ _ _ _ _ _ _ _ _ _ _ _ _ _ _ _ _ _ _ _ _ _ _ _ _ _ _ _ _ _ _ _ _ _ _ _ _ _ _ _ _ _ _ _ _ _ _ _ _ _   \n",
       "\n",
       "               pred_factor_list  product  num_pred_factors  \\\n",
       "0            [2, 2, 2, 2, 4081]    65296                 5   \n",
       "1  [2, 2, 2, 2, 2, 2, 2, 7, 71]    63616                 9   \n",
       "2        [2, 2, 2, 2, 7, 7, 79]    61936                 7   \n",
       "3      [2, 2, 2, 2, 2, 2, 1039]    66496                 7   \n",
       "4         [2, 2, 2, 2, 17, 233]    63376                 6   \n",
       "\n",
       "   num_prime_factors_pred  percent_prime_factors_pred  correct_product  \\\n",
       "0                       4                         0.8            False   \n",
       "1                       9                         1.0            False   \n",
       "2                       7                         1.0            False   \n",
       "3                       7                         1.0            False   \n",
       "4                       6                         1.0            False   \n",
       "\n",
       "   correct_factorization  pred_same_as_input  \n",
       "0                  False               False  \n",
       "1                  False               False  \n",
       "2                  False               False  \n",
       "3                  False               False  \n",
       "4                  False               False  "
      ]
     },
     "execution_count": 47,
     "metadata": {},
     "output_type": "execute_result"
    }
   ],
   "source": [
    "larger_df.head(5)"
   ]
  },
  {
   "cell_type": "code",
   "execution_count": 49,
   "metadata": {
    "scrolled": false
   },
   "outputs": [
    {
     "data": {
      "text/plain": [
       "correct_factorization    0.75\n",
       "dtype: float64"
      ]
     },
     "execution_count": 49,
     "metadata": {},
     "output_type": "execute_result"
    }
   ],
   "source": [
    "larger_df.groupby('input_num').agg({'correct_factorization' : 'any'}).mean()"
   ]
  },
  {
   "cell_type": "code",
   "execution_count": 51,
   "metadata": {},
   "outputs": [
    {
     "data": {
      "text/plain": [
       "0.42"
      ]
     },
     "execution_count": 51,
     "metadata": {},
     "output_type": "execute_result"
    }
   ],
   "source": [
    "top_beams = larger_df['beam_idx'] == 9\n",
    "(larger_df[top_beams]['product'] < larger_df[top_beams]['input_num']).mean()"
   ]
  },
  {
   "cell_type": "markdown",
   "metadata": {},
   "source": [
    "### how does it handle squares/cubes/...?"
   ]
  },
  {
   "cell_type": "code",
   "execution_count": 53,
   "metadata": {},
   "outputs": [],
   "source": [
    "from sympy import factorint\n",
    "from sympy.ntheory import primerange"
   ]
  },
  {
   "cell_type": "code",
   "execution_count": 54,
   "metadata": {},
   "outputs": [],
   "source": [
    "max_num = 256\n",
    "squares = np.array(list(primerange(2, max_num)))**2\n",
    "cubes = np.array(list(primerange(2, max_num)))**3"
   ]
  },
  {
   "cell_type": "code",
   "execution_count": 55,
   "metadata": {},
   "outputs": [
    {
     "data": {
      "application/vnd.jupyter.widget-view+json": {
       "model_id": "",
       "version_major": 2,
       "version_minor": 0
      },
      "text/plain": [
       "HBox(children=(FloatProgress(value=0.0, max=54.0), HTML(value='')))"
      ]
     },
     "metadata": {},
     "output_type": "display_data"
    }
   ],
   "source": [
    "square_df = metrics_utils.form_factor_df(model, t, device, args['data']['base'], squares, args['model_args']['max_decode_size'], postprocess_minimal=True, n_beams = 10)"
   ]
  },
  {
   "cell_type": "code",
   "execution_count": 56,
   "metadata": {
    "scrolled": false
   },
   "outputs": [
    {
     "data": {
      "text/plain": [
       "0.5925925925925926"
      ]
     },
     "execution_count": 56,
     "metadata": {},
     "output_type": "execute_result"
    }
   ],
   "source": [
    "square_df[square_df['beam_idx']==0]['correct_factorization'].mean()"
   ]
  },
  {
   "cell_type": "code",
   "execution_count": 60,
   "metadata": {
    "scrolled": true
   },
   "outputs": [
    {
     "data": {
      "text/plain": [
       "correct_factorization    0.722222\n",
       "dtype: float64"
      ]
     },
     "execution_count": 60,
     "metadata": {},
     "output_type": "execute_result"
    }
   ],
   "source": [
    "square_df.groupby('input_num').agg({'correct_factorization' : 'any'}).mean()"
   ]
  },
  {
   "cell_type": "code",
   "execution_count": 57,
   "metadata": {},
   "outputs": [
    {
     "data": {
      "application/vnd.jupyter.widget-view+json": {
       "model_id": "",
       "version_major": 2,
       "version_minor": 0
      },
      "text/plain": [
       "HBox(children=(FloatProgress(value=0.0, max=54.0), HTML(value='')))"
      ]
     },
     "metadata": {},
     "output_type": "display_data"
    }
   ],
   "source": [
    "cube_df = metrics_utils.form_factor_df(model, t, device, args['data']['base'], cubes, args['model_args']['max_decode_size'], postprocess_minimal=True, n_beams = 10)"
   ]
  },
  {
   "cell_type": "code",
   "execution_count": 58,
   "metadata": {},
   "outputs": [
    {
     "data": {
      "text/plain": [
       "0.14814814814814814"
      ]
     },
     "execution_count": 58,
     "metadata": {},
     "output_type": "execute_result"
    }
   ],
   "source": [
    "cube_df[cube_df['beam_idx']==0]['correct_factorization'].mean()"
   ]
  },
  {
   "cell_type": "code",
   "execution_count": 61,
   "metadata": {},
   "outputs": [
    {
     "data": {
      "text/plain": [
       "correct_factorization    0.203704\n",
       "dtype: float64"
      ]
     },
     "execution_count": 61,
     "metadata": {},
     "output_type": "execute_result"
    }
   ],
   "source": [
    "cube_df.groupby('input_num').agg({'correct_factorization' : 'any'}).mean()"
   ]
  },
  {
   "cell_type": "markdown",
   "metadata": {},
   "source": [
    "### When encoding two different numbers, what are the cosine similarities of their representations?"
   ]
  },
  {
   "cell_type": "code",
   "execution_count": 62,
   "metadata": {},
   "outputs": [],
   "source": [
    "first_int = 16\n",
    "second_int = 32"
   ]
  },
  {
   "cell_type": "code",
   "execution_count": 63,
   "metadata": {},
   "outputs": [],
   "source": [
    "def get_reps_for_number(number):\n",
    "    tokens = t.encode(data_utils.form_input(number, args['data']['base']))\n",
    "    tens = torch.tensor(tokens).unsqueeze(0).to(device)\n",
    "    memory, _ = model.encode(tens)\n",
    "    return memory.squeeze().data.cpu().numpy(), tokens"
   ]
  },
  {
   "cell_type": "code",
   "execution_count": 64,
   "metadata": {},
   "outputs": [],
   "source": [
    "first_reps, first_tokens = get_reps_for_number(first_int)\n",
    "second_reps, second_tokens = get_reps_for_number(second_int)"
   ]
  },
  {
   "cell_type": "code",
   "execution_count": 65,
   "metadata": {},
   "outputs": [],
   "source": [
    "cs_sims = cosine_similarity(first_reps, second_reps)"
   ]
  },
  {
   "cell_type": "code",
   "execution_count": 74,
   "metadata": {},
   "outputs": [
    {
     "data": {
      "image/png": "[encoded data removed]",
      "text/plain": [
       "<Figure size 576x576 with 2 Axes>"
      ]
     },
     "metadata": {
      "needs_background": "light"
     },
     "output_type": "display_data"
    }
   ],
   "source": [
    "fig = plt.gcf()\n",
    "fig.set_size_inches(8,8)\n",
    "ax = plt.gca()\n",
    "plt.colorbar(ax.matshow(cs_sims), ax=ax)\n",
    "ax.set_xticks(np.arange(cs_sims.shape[1]))\n",
    "ax.set_yticks(np.arange(cs_sims.shape[0]))\n",
    "ax.set_xticklabels(t.decode(second_tokens, decode_special=True).split(' '))\n",
    "ax.set_yticklabels(t.decode(first_tokens, decode_special=True).split(' '))\n",
    "\n",
    "plt.xlabel(second_int, fontsize=32)\n",
    "ax.xaxis.set_label_position('top') \n",
    "plt.ylabel(first_int, fontsize=32)\n",
    "\n",
    "plt.show()"
   ]
  },
  {
   "cell_type": "markdown",
   "metadata": {},
   "source": [
    "# When the model gets it wrong, what is the probability of the right sequence?"
   ]
  },
  {
   "cell_type": "code",
   "execution_count": 75,
   "metadata": {},
   "outputs": [],
   "source": [
    "import Levenshtein"
   ]
  },
  {
   "cell_type": "code",
   "execution_count": 76,
   "metadata": {},
   "outputs": [],
   "source": [
    "target_num = 277337"
   ]
  },
  {
   "cell_type": "code",
   "execution_count": 79,
   "metadata": {
    "scrolled": false
   },
   "outputs": [
    {
     "data": {
      "application/vnd.jupyter.widget-view+json": {
       "model_id": "",
       "version_major": 2,
       "version_minor": 0
      },
      "text/plain": [
       "HBox(children=(FloatProgress(value=0.0, max=1.0), HTML(value='')))"
      ]
     },
     "metadata": {},
     "output_type": "display_data"
    },
    {
     "data": {
      "text/html": [
       "<div>\n",
       "<style scoped>\n",
       "    .dataframe tbody tr th:only-of-type {\n",
       "        vertical-align: middle;\n",
       "    }\n",
       "\n",
       "    .dataframe tbody tr th {\n",
       "        vertical-align: top;\n",
       "    }\n",
       "\n",
       "    .dataframe thead th {\n",
       "        text-align: right;\n",
       "    }\n",
       "</style>\n",
       "<table border=\"1\" class=\"dataframe\">\n",
       "  <thead>\n",
       "    <tr style=\"text-align: right;\">\n",
       "      <th></th>\n",
       "      <th>input_num</th>\n",
       "      <th>model_input</th>\n",
       "      <th>beam_idx</th>\n",
       "      <th>log_prob</th>\n",
       "      <th>pred_str</th>\n",
       "      <th>pred_factor_list</th>\n",
       "      <th>product</th>\n",
       "      <th>num_pred_factors</th>\n",
       "      <th>num_prime_factors_pred</th>\n",
       "      <th>percent_prime_factors_pred</th>\n",
       "      <th>correct_product</th>\n",
       "      <th>correct_factorization</th>\n",
       "      <th>pred_same_as_input</th>\n",
       "      <th>input_is_prime</th>\n",
       "      <th>target_factor_str</th>\n",
       "      <th>target_factor_list</th>\n",
       "      <th>num_target_factors</th>\n",
       "      <th>min_target_prime_factor_if_composite</th>\n",
       "      <th>lev_dist</th>\n",
       "    </tr>\n",
       "  </thead>\n",
       "  <tbody>\n",
       "    <tr>\n",
       "      <th>0</th>\n",
       "      <td>277337</td>\n",
       "      <td>[&gt;, 10, 8, 4, 17, .]</td>\n",
       "      <td>0</td>\n",
       "      <td>-0.001640</td>\n",
       "      <td>&gt; 10 4 17 . _ _</td>\n",
       "      <td>[9137]</td>\n",
       "      <td>9137</td>\n",
       "      <td>1</td>\n",
       "      <td>1</td>\n",
       "      <td>1.0</td>\n",
       "      <td>False</td>\n",
       "      <td>False</td>\n",
       "      <td>False</td>\n",
       "      <td>False</td>\n",
       "      <td>&gt; 15 13 x 19 29 .</td>\n",
       "      <td>[463, 599]</td>\n",
       "      <td>2</td>\n",
       "      <td>463</td>\n",
       "      <td>9</td>\n",
       "    </tr>\n",
       "    <tr>\n",
       "      <th>1</th>\n",
       "      <td>277337</td>\n",
       "      <td>[&gt;, 10, 8, 4, 17, .]</td>\n",
       "      <td>1</td>\n",
       "      <td>-7.631576</td>\n",
       "      <td>&gt; 9 4 17 . _ _</td>\n",
       "      <td>[8237]</td>\n",
       "      <td>8237</td>\n",
       "      <td>1</td>\n",
       "      <td>1</td>\n",
       "      <td>1.0</td>\n",
       "      <td>False</td>\n",
       "      <td>False</td>\n",
       "      <td>False</td>\n",
       "      <td>False</td>\n",
       "      <td>&gt; 15 13 x 19 29 .</td>\n",
       "      <td>[463, 599]</td>\n",
       "      <td>2</td>\n",
       "      <td>463</td>\n",
       "      <td>10</td>\n",
       "    </tr>\n",
       "    <tr>\n",
       "      <th>2</th>\n",
       "      <td>277337</td>\n",
       "      <td>[&gt;, 10, 8, 4, 17, .]</td>\n",
       "      <td>2</td>\n",
       "      <td>-7.872642</td>\n",
       "      <td>&gt; 7 x 1 14 11 .</td>\n",
       "      <td>[7, 1331]</td>\n",
       "      <td>9317</td>\n",
       "      <td>2</td>\n",
       "      <td>1</td>\n",
       "      <td>0.5</td>\n",
       "      <td>False</td>\n",
       "      <td>False</td>\n",
       "      <td>False</td>\n",
       "      <td>False</td>\n",
       "      <td>&gt; 15 13 x 19 29 .</td>\n",
       "      <td>[463, 599]</td>\n",
       "      <td>2</td>\n",
       "      <td>463</td>\n",
       "      <td>8</td>\n",
       "    </tr>\n",
       "    <tr>\n",
       "      <th>3</th>\n",
       "      <td>277337</td>\n",
       "      <td>[&gt;, 10, 8, 4, 17, .]</td>\n",
       "      <td>3</td>\n",
       "      <td>-8.429690</td>\n",
       "      <td>&gt; 11 x 1 2 7 .</td>\n",
       "      <td>[11, 967]</td>\n",
       "      <td>10637</td>\n",
       "      <td>2</td>\n",
       "      <td>2</td>\n",
       "      <td>1.0</td>\n",
       "      <td>False</td>\n",
       "      <td>False</td>\n",
       "      <td>False</td>\n",
       "      <td>False</td>\n",
       "      <td>&gt; 15 13 x 19 29 .</td>\n",
       "      <td>[463, 599]</td>\n",
       "      <td>2</td>\n",
       "      <td>463</td>\n",
       "      <td>6</td>\n",
       "    </tr>\n",
       "    <tr>\n",
       "      <th>4</th>\n",
       "      <td>277337</td>\n",
       "      <td>[&gt;, 10, 8, 4, 17, .]</td>\n",
       "      <td>4</td>\n",
       "      <td>-9.211980</td>\n",
       "      <td>&gt; 10 4 17 . _ 27</td>\n",
       "      <td>[274137]</td>\n",
       "      <td>274137</td>\n",
       "      <td>1</td>\n",
       "      <td>0</td>\n",
       "      <td>0.0</td>\n",
       "      <td>False</td>\n",
       "      <td>False</td>\n",
       "      <td>False</td>\n",
       "      <td>False</td>\n",
       "      <td>&gt; 15 13 x 19 29 .</td>\n",
       "      <td>[463, 599]</td>\n",
       "      <td>2</td>\n",
       "      <td>463</td>\n",
       "      <td>10</td>\n",
       "    </tr>\n",
       "    <tr>\n",
       "      <th>5</th>\n",
       "      <td>277337</td>\n",
       "      <td>[&gt;, 10, 8, 4, 17, .]</td>\n",
       "      <td>5</td>\n",
       "      <td>-9.211980</td>\n",
       "      <td>&gt; 10 4 17 . _ 22</td>\n",
       "      <td>[274132]</td>\n",
       "      <td>274132</td>\n",
       "      <td>1</td>\n",
       "      <td>0</td>\n",
       "      <td>0.0</td>\n",
       "      <td>False</td>\n",
       "      <td>False</td>\n",
       "      <td>False</td>\n",
       "      <td>False</td>\n",
       "      <td>&gt; 15 13 x 19 29 .</td>\n",
       "      <td>[463, 599]</td>\n",
       "      <td>2</td>\n",
       "      <td>463</td>\n",
       "      <td>10</td>\n",
       "    </tr>\n",
       "    <tr>\n",
       "      <th>6</th>\n",
       "      <td>277337</td>\n",
       "      <td>[&gt;, 10, 8, 4, 17, .]</td>\n",
       "      <td>6</td>\n",
       "      <td>-9.211980</td>\n",
       "      <td>&gt; 10 4 17 . _ 20</td>\n",
       "      <td>[274130]</td>\n",
       "      <td>274130</td>\n",
       "      <td>1</td>\n",
       "      <td>0</td>\n",
       "      <td>0.0</td>\n",
       "      <td>False</td>\n",
       "      <td>False</td>\n",
       "      <td>False</td>\n",
       "      <td>False</td>\n",
       "      <td>&gt; 15 13 x 19 29 .</td>\n",
       "      <td>[463, 599]</td>\n",
       "      <td>2</td>\n",
       "      <td>463</td>\n",
       "      <td>10</td>\n",
       "    </tr>\n",
       "    <tr>\n",
       "      <th>7</th>\n",
       "      <td>277337</td>\n",
       "      <td>[&gt;, 10, 8, 4, 17, .]</td>\n",
       "      <td>7</td>\n",
       "      <td>-9.211980</td>\n",
       "      <td>&gt; 10 4 17 . _ 21</td>\n",
       "      <td>[274131]</td>\n",
       "      <td>274131</td>\n",
       "      <td>1</td>\n",
       "      <td>0</td>\n",
       "      <td>0.0</td>\n",
       "      <td>False</td>\n",
       "      <td>False</td>\n",
       "      <td>False</td>\n",
       "      <td>False</td>\n",
       "      <td>&gt; 15 13 x 19 29 .</td>\n",
       "      <td>[463, 599]</td>\n",
       "      <td>2</td>\n",
       "      <td>463</td>\n",
       "      <td>10</td>\n",
       "    </tr>\n",
       "    <tr>\n",
       "      <th>8</th>\n",
       "      <td>277337</td>\n",
       "      <td>[&gt;, 10, 8, 4, 17, .]</td>\n",
       "      <td>8</td>\n",
       "      <td>-9.211980</td>\n",
       "      <td>&gt; 10 4 17 . _ 3</td>\n",
       "      <td>[274113]</td>\n",
       "      <td>274113</td>\n",
       "      <td>1</td>\n",
       "      <td>0</td>\n",
       "      <td>0.0</td>\n",
       "      <td>False</td>\n",
       "      <td>False</td>\n",
       "      <td>False</td>\n",
       "      <td>False</td>\n",
       "      <td>&gt; 15 13 x 19 29 .</td>\n",
       "      <td>[463, 599]</td>\n",
       "      <td>2</td>\n",
       "      <td>463</td>\n",
       "      <td>9</td>\n",
       "    </tr>\n",
       "    <tr>\n",
       "      <th>9</th>\n",
       "      <td>277337</td>\n",
       "      <td>[&gt;, 10, 8, 4, 17, .]</td>\n",
       "      <td>9</td>\n",
       "      <td>-9.211980</td>\n",
       "      <td>&gt; 10 4 17 . _ 2</td>\n",
       "      <td>[274112]</td>\n",
       "      <td>274112</td>\n",
       "      <td>1</td>\n",
       "      <td>0</td>\n",
       "      <td>0.0</td>\n",
       "      <td>False</td>\n",
       "      <td>False</td>\n",
       "      <td>False</td>\n",
       "      <td>False</td>\n",
       "      <td>&gt; 15 13 x 19 29 .</td>\n",
       "      <td>[463, 599]</td>\n",
       "      <td>2</td>\n",
       "      <td>463</td>\n",
       "      <td>9</td>\n",
       "    </tr>\n",
       "  </tbody>\n",
       "</table>\n",
       "</div>"
      ],
      "text/plain": [
       "   input_num           model_input  beam_idx  log_prob          pred_str  \\\n",
       "0     277337  [>, 10, 8, 4, 17, .]         0 -0.001640   > 10 4 17 . _ _   \n",
       "1     277337  [>, 10, 8, 4, 17, .]         1 -7.631576    > 9 4 17 . _ _   \n",
       "2     277337  [>, 10, 8, 4, 17, .]         2 -7.872642   > 7 x 1 14 11 .   \n",
       "3     277337  [>, 10, 8, 4, 17, .]         3 -8.429690    > 11 x 1 2 7 .   \n",
       "4     277337  [>, 10, 8, 4, 17, .]         4 -9.211980  > 10 4 17 . _ 27   \n",
       "5     277337  [>, 10, 8, 4, 17, .]         5 -9.211980  > 10 4 17 . _ 22   \n",
       "6     277337  [>, 10, 8, 4, 17, .]         6 -9.211980  > 10 4 17 . _ 20   \n",
       "7     277337  [>, 10, 8, 4, 17, .]         7 -9.211980  > 10 4 17 . _ 21   \n",
       "8     277337  [>, 10, 8, 4, 17, .]         8 -9.211980   > 10 4 17 . _ 3   \n",
       "9     277337  [>, 10, 8, 4, 17, .]         9 -9.211980   > 10 4 17 . _ 2   \n",
       "\n",
       "  pred_factor_list  product  num_pred_factors  num_prime_factors_pred  \\\n",
       "0           [9137]     9137                 1                       1   \n",
       "1           [8237]     8237                 1                       1   \n",
       "2        [7, 1331]     9317                 2                       1   \n",
       "3        [11, 967]    10637                 2                       2   \n",
       "4         [274137]   274137                 1                       0   \n",
       "5         [274132]   274132                 1                       0   \n",
       "6         [274130]   274130                 1                       0   \n",
       "7         [274131]   274131                 1                       0   \n",
       "8         [274113]   274113                 1                       0   \n",
       "9         [274112]   274112                 1                       0   \n",
       "\n",
       "   percent_prime_factors_pred  correct_product  correct_factorization  \\\n",
       "0                         1.0            False                  False   \n",
       "1                         1.0            False                  False   \n",
       "2                         0.5            False                  False   \n",
       "3                         1.0            False                  False   \n",
       "4                         0.0            False                  False   \n",
       "5                         0.0            False                  False   \n",
       "6                         0.0            False                  False   \n",
       "7                         0.0            False                  False   \n",
       "8                         0.0            False                  False   \n",
       "9                         0.0            False                  False   \n",
       "\n",
       "   pred_same_as_input  input_is_prime  target_factor_str target_factor_list  \\\n",
       "0               False           False  > 15 13 x 19 29 .         [463, 599]   \n",
       "1               False           False  > 15 13 x 19 29 .         [463, 599]   \n",
       "2               False           False  > 15 13 x 19 29 .         [463, 599]   \n",
       "3               False           False  > 15 13 x 19 29 .         [463, 599]   \n",
       "4               False           False  > 15 13 x 19 29 .         [463, 599]   \n",
       "5               False           False  > 15 13 x 19 29 .         [463, 599]   \n",
       "6               False           False  > 15 13 x 19 29 .         [463, 599]   \n",
       "7               False           False  > 15 13 x 19 29 .         [463, 599]   \n",
       "8               False           False  > 15 13 x 19 29 .         [463, 599]   \n",
       "9               False           False  > 15 13 x 19 29 .         [463, 599]   \n",
       "\n",
       "   num_target_factors  min_target_prime_factor_if_composite  lev_dist  \n",
       "0                   2                                   463         9  \n",
       "1                   2                                   463        10  \n",
       "2                   2                                   463         8  \n",
       "3                   2                                   463         6  \n",
       "4                   2                                   463        10  \n",
       "5                   2                                   463        10  \n",
       "6                   2                                   463        10  \n",
       "7                   2                                   463        10  \n",
       "8                   2                                   463         9  \n",
       "9                   2                                   463         9  "
      ]
     },
     "execution_count": 79,
     "metadata": {},
     "output_type": "execute_result"
    }
   ],
   "source": [
    "num_df = metrics_utils.form_factor_df(model, t, device, args['data']['base'], np.array([target_num]), args['model_args']['max_decode_size'], postprocess_minimal=False, n_beams = 10)\n",
    "num_df['lev_dist'] = num_df.apply(lambda x: Levenshtein.distance(x['pred_str'].replace(' _', ''), x['target_factor_str']), axis=1)\n",
    "num_df"
   ]
  },
  {
   "cell_type": "code",
   "execution_count": 80,
   "metadata": {},
   "outputs": [
    {
     "data": {
      "text/plain": [
       "['>', 15, 13, 'x', 19, 29, '.']"
      ]
     },
     "execution_count": 80,
     "metadata": {},
     "output_type": "execute_result"
    }
   ],
   "source": [
    "data_utils.form_label(target_num, args['data']['base'])"
   ]
  },
  {
   "cell_type": "code",
   "execution_count": 81,
   "metadata": {},
   "outputs": [],
   "source": [
    "def get_prob_of_factorization(number, factorization):\n",
    "    tokens = t.encode(data_utils.form_input(number, args['data']['base']))\n",
    "    tensor_input = torch.tensor(tokens).unsqueeze(0).to(device)\n",
    "    \n",
    "    factorization_input = torch.tensor(t.encode(factorization)).unsqueeze(0).to(device)\n",
    "    \n",
    "    model_output = torch.softmax(model(tensor_input, factorization_input).squeeze(0), dim=-1)\n",
    "    \n",
    "    probs = model_output[torch.arange(model_output.size(0)-1),factorization_input[0,1:]]\n",
    "    \n",
    "    return probs.log().sum()"
   ]
  },
  {
   "cell_type": "code",
   "execution_count": 84,
   "metadata": {},
   "outputs": [
    {
     "data": {
      "text/plain": [
       "tensor(-96.3513, device='cuda:0', grad_fn=<SumBackward0>)"
      ]
     },
     "execution_count": 84,
     "metadata": {},
     "output_type": "execute_result"
    }
   ],
   "source": [
    "get_prob_of_factorization(target_num, num_df.iloc[0]['target_factor_str'].strip().split(' '))"
   ]
  },
  {
   "cell_type": "code",
   "execution_count": 86,
   "metadata": {},
   "outputs": [
    {
     "data": {
      "text/plain": [
       "tensor([[33, 15, 13, 30, 19, 29, 32]], device='cuda:0')"
      ]
     },
     "execution_count": 86,
     "metadata": {},
     "output_type": "execute_result"
    }
   ],
   "source": [
    "torch.tensor(t.encode(num_df.iloc[0]['target_factor_str'].strip().split(' '))).unsqueeze(0).to(device)"
   ]
  },
  {
   "cell_type": "code",
   "execution_count": null,
   "metadata": {},
   "outputs": [],
   "source": []
  }
 ],
 "metadata": {
  "kernelspec": {
   "display_name": "Python 3",
   "language": "python",
   "name": "python3"
  },
  "language_info": {
   "codemirror_mode": {
    "name": "ipython",
    "version": 3
   },
   "file_extension": ".py",
   "mimetype": "text/x-python",
   "name": "python",
   "nbconvert_exporter": "python",
   "pygments_lexer": "ipython3",
   "version": "3.8.7"
  }
 },
 "nbformat": 4,
 "nbformat_minor": 4
}
