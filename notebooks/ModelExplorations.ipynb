{
 "cells": [
  {
   "cell_type": "code",
   "execution_count": 14,
   "metadata": {},
   "outputs": [],
   "source": [
    "import numpy as np\n",
    "import pandas as pd\n",
    "import torch\n",
    "import torch.nn as nn\n",
    "import matplotlib.pyplot as plt\n",
    "import os\n",
    "import sys\n",
    "sys.path.append('../src/')\n",
    "sys.path.append('../problems/')\n",
    "import models\n",
    "import generation_utils\n",
    "import metrics_utils\n",
    "import tokenizer\n",
    "import data_utils\n",
    "from utils import get_best_checkpoint\n",
    "from factorization import Factorization"
   ]
  },
  {
   "cell_type": "code",
   "execution_count": 15,
   "metadata": {},
   "outputs": [
    {
     "data": {
      "text/html": [
       "<style>.container { width:100% !important; }</style>"
      ],
      "text/plain": [
       "<IPython.core.display.HTML object>"
      ]
     },
     "metadata": {},
     "output_type": "display_data"
    }
   ],
   "source": [
    "from IPython.core.display import display, HTML\n",
    "display(HTML(\"<style>.container { width:100% !important; }</style>\"))"
   ]
  },
  {
   "cell_type": "code",
   "execution_count": 16,
   "metadata": {},
   "outputs": [],
   "source": [
    "pd.set_option('display.max_colwidth', 999)\n",
    "pd.set_option('display.max_rows', 9999)"
   ]
  },
  {
   "cell_type": "code",
   "execution_count": 17,
   "metadata": {},
   "outputs": [],
   "source": [
    "device = torch.device('cuda')"
   ]
  },
  {
   "cell_type": "code",
   "execution_count": 18,
   "metadata": {},
   "outputs": [],
   "source": [
    "base_path = '../models/factorization/base_30/'"
   ]
  },
  {
   "cell_type": "code",
   "execution_count": 19,
   "metadata": {},
   "outputs": [
    {
     "name": "stdout",
     "output_type": "stream",
     "text": [
      "Loading model at ../models/factorization/base_30/checkpoints/40000_0.0493.pt\n"
     ]
    }
   ],
   "source": [
    "checkpoint = get_best_checkpoint(base_path)"
   ]
  },
  {
   "cell_type": "code",
   "execution_count": 20,
   "metadata": {},
   "outputs": [],
   "source": [
    "args = checkpoint['args']"
   ]
  },
  {
   "cell_type": "code",
   "execution_count": 21,
   "metadata": {},
   "outputs": [],
   "source": [
    "problem = Factorization(args)"
   ]
  },
  {
   "cell_type": "code",
   "execution_count": 22,
   "metadata": {},
   "outputs": [],
   "source": [
    "t = problem.get_tokenizer()"
   ]
  },
  {
   "cell_type": "code",
   "execution_count": 25,
   "metadata": {
    "scrolled": true
   },
   "outputs": [
    {
     "data": {
      "text/plain": [
       "dict_keys(['data', 'problem_type', 'model_args', 'optimizer', 'scheduler', 'loader', 'io', 'metrics', 'verbose', 'wandb', 'resume_training', 'tokenizer'])"
      ]
     },
     "execution_count": 25,
     "metadata": {},
     "output_type": "execute_result"
    }
   ],
   "source": [
    "args.keys()"
   ]
  },
  {
   "cell_type": "code",
   "execution_count": 27,
   "metadata": {},
   "outputs": [
    {
     "data": {
      "text/plain": [
       "models.Seq2SeqModel"
      ]
     },
     "execution_count": 27,
     "metadata": {},
     "output_type": "execute_result"
    }
   ],
   "source": [
    "models.Seq2SeqModel()"
   ]
  },
  {
   "cell_type": "code",
   "execution_count": 29,
   "metadata": {},
   "outputs": [
    {
     "data": {
      "text/plain": [
       "Seq2SeqModel(\n",
       "  (src_embedding): TransformerEmbedding(\n",
       "    (embedding): Embedding(34, 128)\n",
       "  )\n",
       "  (tgt_embedding): TransformerEmbedding(\n",
       "    (embedding): Embedding(34, 128)\n",
       "  )\n",
       "  (positional_encoding): PositionalEncoding(\n",
       "    (dropout): Dropout(p=0.05, inplace=False)\n",
       "  )\n",
       "  (transformer): Transformer(\n",
       "    (encoder): TransformerEncoder(\n",
       "      (layers): ModuleList(\n",
       "        (0): TransformerEncoderLayer(\n",
       "          (self_attn): MultiHeadRelativeAttention(\n",
       "            (w_q): Linear(in_features=128, out_features=128, bias=False)\n",
       "            (w_k): Linear(in_features=128, out_features=128, bias=False)\n",
       "            (w_v): Linear(in_features=128, out_features=128, bias=False)\n",
       "            (out_proj): Linear(in_features=128, out_features=128, bias=False)\n",
       "            (pe_mod): PositionalEncoding(\n",
       "              (dropout): Dropout(p=0.05, inplace=False)\n",
       "            )\n",
       "            (w_k_pos): Linear(in_features=128, out_features=128, bias=False)\n",
       "          )\n",
       "          (linear1): Linear(in_features=128, out_features=512, bias=True)\n",
       "          (dropout): Dropout(p=0.1, inplace=False)\n",
       "          (linear2): Linear(in_features=512, out_features=128, bias=True)\n",
       "          (norm1): LayerNorm((128,), eps=1e-05, elementwise_affine=True)\n",
       "          (norm2): LayerNorm((128,), eps=1e-05, elementwise_affine=True)\n",
       "          (dropout1): Dropout(p=0.1, inplace=False)\n",
       "          (dropout2): Dropout(p=0.1, inplace=False)\n",
       "        )\n",
       "        (1): TransformerEncoderLayer(\n",
       "          (self_attn): MultiHeadRelativeAttention(\n",
       "            (w_q): Linear(in_features=128, out_features=128, bias=False)\n",
       "            (w_k): Linear(in_features=128, out_features=128, bias=False)\n",
       "            (w_v): Linear(in_features=128, out_features=128, bias=False)\n",
       "            (out_proj): Linear(in_features=128, out_features=128, bias=False)\n",
       "            (pe_mod): PositionalEncoding(\n",
       "              (dropout): Dropout(p=0.05, inplace=False)\n",
       "            )\n",
       "            (w_k_pos): Linear(in_features=128, out_features=128, bias=False)\n",
       "          )\n",
       "          (linear1): Linear(in_features=128, out_features=512, bias=True)\n",
       "          (dropout): Dropout(p=0.1, inplace=False)\n",
       "          (linear2): Linear(in_features=512, out_features=128, bias=True)\n",
       "          (norm1): LayerNorm((128,), eps=1e-05, elementwise_affine=True)\n",
       "          (norm2): LayerNorm((128,), eps=1e-05, elementwise_affine=True)\n",
       "          (dropout1): Dropout(p=0.1, inplace=False)\n",
       "          (dropout2): Dropout(p=0.1, inplace=False)\n",
       "        )\n",
       "        (2): TransformerEncoderLayer(\n",
       "          (self_attn): MultiHeadRelativeAttention(\n",
       "            (w_q): Linear(in_features=128, out_features=128, bias=False)\n",
       "            (w_k): Linear(in_features=128, out_features=128, bias=False)\n",
       "            (w_v): Linear(in_features=128, out_features=128, bias=False)\n",
       "            (out_proj): Linear(in_features=128, out_features=128, bias=False)\n",
       "            (pe_mod): PositionalEncoding(\n",
       "              (dropout): Dropout(p=0.05, inplace=False)\n",
       "            )\n",
       "            (w_k_pos): Linear(in_features=128, out_features=128, bias=False)\n",
       "          )\n",
       "          (linear1): Linear(in_features=128, out_features=512, bias=True)\n",
       "          (dropout): Dropout(p=0.1, inplace=False)\n",
       "          (linear2): Linear(in_features=512, out_features=128, bias=True)\n",
       "          (norm1): LayerNorm((128,), eps=1e-05, elementwise_affine=True)\n",
       "          (norm2): LayerNorm((128,), eps=1e-05, elementwise_affine=True)\n",
       "          (dropout1): Dropout(p=0.1, inplace=False)\n",
       "          (dropout2): Dropout(p=0.1, inplace=False)\n",
       "        )\n",
       "        (3): TransformerEncoderLayer(\n",
       "          (self_attn): MultiHeadRelativeAttention(\n",
       "            (w_q): Linear(in_features=128, out_features=128, bias=False)\n",
       "            (w_k): Linear(in_features=128, out_features=128, bias=False)\n",
       "            (w_v): Linear(in_features=128, out_features=128, bias=False)\n",
       "            (out_proj): Linear(in_features=128, out_features=128, bias=False)\n",
       "            (pe_mod): PositionalEncoding(\n",
       "              (dropout): Dropout(p=0.05, inplace=False)\n",
       "            )\n",
       "            (w_k_pos): Linear(in_features=128, out_features=128, bias=False)\n",
       "          )\n",
       "          (linear1): Linear(in_features=128, out_features=512, bias=True)\n",
       "          (dropout): Dropout(p=0.1, inplace=False)\n",
       "          (linear2): Linear(in_features=512, out_features=128, bias=True)\n",
       "          (norm1): LayerNorm((128,), eps=1e-05, elementwise_affine=True)\n",
       "          (norm2): LayerNorm((128,), eps=1e-05, elementwise_affine=True)\n",
       "          (dropout1): Dropout(p=0.1, inplace=False)\n",
       "          (dropout2): Dropout(p=0.1, inplace=False)\n",
       "        )\n",
       "        (4): TransformerEncoderLayer(\n",
       "          (self_attn): MultiHeadRelativeAttention(\n",
       "            (w_q): Linear(in_features=128, out_features=128, bias=False)\n",
       "            (w_k): Linear(in_features=128, out_features=128, bias=False)\n",
       "            (w_v): Linear(in_features=128, out_features=128, bias=False)\n",
       "            (out_proj): Linear(in_features=128, out_features=128, bias=False)\n",
       "            (pe_mod): PositionalEncoding(\n",
       "              (dropout): Dropout(p=0.05, inplace=False)\n",
       "            )\n",
       "            (w_k_pos): Linear(in_features=128, out_features=128, bias=False)\n",
       "          )\n",
       "          (linear1): Linear(in_features=128, out_features=512, bias=True)\n",
       "          (dropout): Dropout(p=0.1, inplace=False)\n",
       "          (linear2): Linear(in_features=512, out_features=128, bias=True)\n",
       "          (norm1): LayerNorm((128,), eps=1e-05, elementwise_affine=True)\n",
       "          (norm2): LayerNorm((128,), eps=1e-05, elementwise_affine=True)\n",
       "          (dropout1): Dropout(p=0.1, inplace=False)\n",
       "          (dropout2): Dropout(p=0.1, inplace=False)\n",
       "        )\n",
       "        (5): TransformerEncoderLayer(\n",
       "          (self_attn): MultiHeadRelativeAttention(\n",
       "            (w_q): Linear(in_features=128, out_features=128, bias=False)\n",
       "            (w_k): Linear(in_features=128, out_features=128, bias=False)\n",
       "            (w_v): Linear(in_features=128, out_features=128, bias=False)\n",
       "            (out_proj): Linear(in_features=128, out_features=128, bias=False)\n",
       "            (pe_mod): PositionalEncoding(\n",
       "              (dropout): Dropout(p=0.05, inplace=False)\n",
       "            )\n",
       "            (w_k_pos): Linear(in_features=128, out_features=128, bias=False)\n",
       "          )\n",
       "          (linear1): Linear(in_features=128, out_features=512, bias=True)\n",
       "          (dropout): Dropout(p=0.1, inplace=False)\n",
       "          (linear2): Linear(in_features=512, out_features=128, bias=True)\n",
       "          (norm1): LayerNorm((128,), eps=1e-05, elementwise_affine=True)\n",
       "          (norm2): LayerNorm((128,), eps=1e-05, elementwise_affine=True)\n",
       "          (dropout1): Dropout(p=0.1, inplace=False)\n",
       "          (dropout2): Dropout(p=0.1, inplace=False)\n",
       "        )\n",
       "      )\n",
       "      (norm): LayerNorm((128,), eps=1e-05, elementwise_affine=True)\n",
       "    )\n",
       "    (decoder): TransformerDecoder(\n",
       "      (layers): ModuleList(\n",
       "        (0): TransformerDecoderLayer(\n",
       "          (self_attn): MultiHeadRelativeAttention(\n",
       "            (w_q): Linear(in_features=128, out_features=128, bias=False)\n",
       "            (w_k): Linear(in_features=128, out_features=128, bias=False)\n",
       "            (w_v): Linear(in_features=128, out_features=128, bias=False)\n",
       "            (out_proj): Linear(in_features=128, out_features=128, bias=False)\n",
       "            (pe_mod): PositionalEncoding(\n",
       "              (dropout): Dropout(p=0.05, inplace=False)\n",
       "            )\n",
       "            (w_k_pos): Linear(in_features=128, out_features=128, bias=False)\n",
       "          )\n",
       "          (multihead_attn): MultiHeadAttention(\n",
       "            (w_q): Linear(in_features=128, out_features=128, bias=False)\n",
       "            (w_k): Linear(in_features=128, out_features=128, bias=False)\n",
       "            (w_v): Linear(in_features=128, out_features=128, bias=False)\n",
       "            (out_proj): Linear(in_features=128, out_features=128, bias=False)\n",
       "          )\n",
       "          (linear1): Linear(in_features=128, out_features=512, bias=True)\n",
       "          (dropout): Dropout(p=0.1, inplace=False)\n",
       "          (linear2): Linear(in_features=512, out_features=128, bias=True)\n",
       "          (norm1): LayerNorm((128,), eps=1e-05, elementwise_affine=True)\n",
       "          (norm2): LayerNorm((128,), eps=1e-05, elementwise_affine=True)\n",
       "          (norm3): LayerNorm((128,), eps=1e-05, elementwise_affine=True)\n",
       "          (dropout1): Dropout(p=0.1, inplace=False)\n",
       "          (dropout2): Dropout(p=0.1, inplace=False)\n",
       "          (dropout3): Dropout(p=0.1, inplace=False)\n",
       "        )\n",
       "        (1): TransformerDecoderLayer(\n",
       "          (self_attn): MultiHeadRelativeAttention(\n",
       "            (w_q): Linear(in_features=128, out_features=128, bias=False)\n",
       "            (w_k): Linear(in_features=128, out_features=128, bias=False)\n",
       "            (w_v): Linear(in_features=128, out_features=128, bias=False)\n",
       "            (out_proj): Linear(in_features=128, out_features=128, bias=False)\n",
       "            (pe_mod): PositionalEncoding(\n",
       "              (dropout): Dropout(p=0.05, inplace=False)\n",
       "            )\n",
       "            (w_k_pos): Linear(in_features=128, out_features=128, bias=False)\n",
       "          )\n",
       "          (multihead_attn): MultiHeadAttention(\n",
       "            (w_q): Linear(in_features=128, out_features=128, bias=False)\n",
       "            (w_k): Linear(in_features=128, out_features=128, bias=False)\n",
       "            (w_v): Linear(in_features=128, out_features=128, bias=False)\n",
       "            (out_proj): Linear(in_features=128, out_features=128, bias=False)\n",
       "          )\n",
       "          (linear1): Linear(in_features=128, out_features=512, bias=True)\n",
       "          (dropout): Dropout(p=0.1, inplace=False)\n",
       "          (linear2): Linear(in_features=512, out_features=128, bias=True)\n",
       "          (norm1): LayerNorm((128,), eps=1e-05, elementwise_affine=True)\n",
       "          (norm2): LayerNorm((128,), eps=1e-05, elementwise_affine=True)\n",
       "          (norm3): LayerNorm((128,), eps=1e-05, elementwise_affine=True)\n",
       "          (dropout1): Dropout(p=0.1, inplace=False)\n",
       "          (dropout2): Dropout(p=0.1, inplace=False)\n",
       "          (dropout3): Dropout(p=0.1, inplace=False)\n",
       "        )\n",
       "        (2): TransformerDecoderLayer(\n",
       "          (self_attn): MultiHeadRelativeAttention(\n",
       "            (w_q): Linear(in_features=128, out_features=128, bias=False)\n",
       "            (w_k): Linear(in_features=128, out_features=128, bias=False)\n",
       "            (w_v): Linear(in_features=128, out_features=128, bias=False)\n",
       "            (out_proj): Linear(in_features=128, out_features=128, bias=False)\n",
       "            (pe_mod): PositionalEncoding(\n",
       "              (dropout): Dropout(p=0.05, inplace=False)\n",
       "            )\n",
       "            (w_k_pos): Linear(in_features=128, out_features=128, bias=False)\n",
       "          )\n",
       "          (multihead_attn): MultiHeadAttention(\n",
       "            (w_q): Linear(in_features=128, out_features=128, bias=False)\n",
       "            (w_k): Linear(in_features=128, out_features=128, bias=False)\n",
       "            (w_v): Linear(in_features=128, out_features=128, bias=False)\n",
       "            (out_proj): Linear(in_features=128, out_features=128, bias=False)\n",
       "          )\n",
       "          (linear1): Linear(in_features=128, out_features=512, bias=True)\n",
       "          (dropout): Dropout(p=0.1, inplace=False)\n",
       "          (linear2): Linear(in_features=512, out_features=128, bias=True)\n",
       "          (norm1): LayerNorm((128,), eps=1e-05, elementwise_affine=True)\n",
       "          (norm2): LayerNorm((128,), eps=1e-05, elementwise_affine=True)\n",
       "          (norm3): LayerNorm((128,), eps=1e-05, elementwise_affine=True)\n",
       "          (dropout1): Dropout(p=0.1, inplace=False)\n",
       "          (dropout2): Dropout(p=0.1, inplace=False)\n",
       "          (dropout3): Dropout(p=0.1, inplace=False)\n",
       "        )\n",
       "        (3): TransformerDecoderLayer(\n",
       "          (self_attn): MultiHeadRelativeAttention(\n",
       "            (w_q): Linear(in_features=128, out_features=128, bias=False)\n",
       "            (w_k): Linear(in_features=128, out_features=128, bias=False)\n",
       "            (w_v): Linear(in_features=128, out_features=128, bias=False)\n",
       "            (out_proj): Linear(in_features=128, out_features=128, bias=False)\n",
       "            (pe_mod): PositionalEncoding(\n",
       "              (dropout): Dropout(p=0.05, inplace=False)\n",
       "            )\n",
       "            (w_k_pos): Linear(in_features=128, out_features=128, bias=False)\n",
       "          )\n",
       "          (multihead_attn): MultiHeadAttention(\n",
       "            (w_q): Linear(in_features=128, out_features=128, bias=False)\n",
       "            (w_k): Linear(in_features=128, out_features=128, bias=False)\n",
       "            (w_v): Linear(in_features=128, out_features=128, bias=False)\n",
       "            (out_proj): Linear(in_features=128, out_features=128, bias=False)\n",
       "          )\n",
       "          (linear1): Linear(in_features=128, out_features=512, bias=True)\n",
       "          (dropout): Dropout(p=0.1, inplace=False)\n",
       "          (linear2): Linear(in_features=512, out_features=128, bias=True)\n",
       "          (norm1): LayerNorm((128,), eps=1e-05, elementwise_affine=True)\n",
       "          (norm2): LayerNorm((128,), eps=1e-05, elementwise_affine=True)\n",
       "          (norm3): LayerNorm((128,), eps=1e-05, elementwise_affine=True)\n",
       "          (dropout1): Dropout(p=0.1, inplace=False)\n",
       "          (dropout2): Dropout(p=0.1, inplace=False)\n",
       "          (dropout3): Dropout(p=0.1, inplace=False)\n",
       "        )\n",
       "        (4): TransformerDecoderLayer(\n",
       "          (self_attn): MultiHeadRelativeAttention(\n",
       "            (w_q): Linear(in_features=128, out_features=128, bias=False)\n",
       "            (w_k): Linear(in_features=128, out_features=128, bias=False)\n",
       "            (w_v): Linear(in_features=128, out_features=128, bias=False)\n",
       "            (out_proj): Linear(in_features=128, out_features=128, bias=False)\n",
       "            (pe_mod): PositionalEncoding(\n",
       "              (dropout): Dropout(p=0.05, inplace=False)\n",
       "            )\n",
       "            (w_k_pos): Linear(in_features=128, out_features=128, bias=False)\n",
       "          )\n",
       "          (multihead_attn): MultiHeadAttention(\n",
       "            (w_q): Linear(in_features=128, out_features=128, bias=False)\n",
       "            (w_k): Linear(in_features=128, out_features=128, bias=False)\n",
       "            (w_v): Linear(in_features=128, out_features=128, bias=False)\n",
       "            (out_proj): Linear(in_features=128, out_features=128, bias=False)\n",
       "          )\n",
       "          (linear1): Linear(in_features=128, out_features=512, bias=True)\n",
       "          (dropout): Dropout(p=0.1, inplace=False)\n",
       "          (linear2): Linear(in_features=512, out_features=128, bias=True)\n",
       "          (norm1): LayerNorm((128,), eps=1e-05, elementwise_affine=True)\n",
       "          (norm2): LayerNorm((128,), eps=1e-05, elementwise_affine=True)\n",
       "          (norm3): LayerNorm((128,), eps=1e-05, elementwise_affine=True)\n",
       "          (dropout1): Dropout(p=0.1, inplace=False)\n",
       "          (dropout2): Dropout(p=0.1, inplace=False)\n",
       "          (dropout3): Dropout(p=0.1, inplace=False)\n",
       "        )\n",
       "        (5): TransformerDecoderLayer(\n",
       "          (self_attn): MultiHeadRelativeAttention(\n",
       "            (w_q): Linear(in_features=128, out_features=128, bias=False)\n",
       "            (w_k): Linear(in_features=128, out_features=128, bias=False)\n",
       "            (w_v): Linear(in_features=128, out_features=128, bias=False)\n",
       "            (out_proj): Linear(in_features=128, out_features=128, bias=False)\n",
       "            (pe_mod): PositionalEncoding(\n",
       "              (dropout): Dropout(p=0.05, inplace=False)\n",
       "            )\n",
       "            (w_k_pos): Linear(in_features=128, out_features=128, bias=False)\n",
       "          )\n",
       "          (multihead_attn): MultiHeadAttention(\n",
       "            (w_q): Linear(in_features=128, out_features=128, bias=False)\n",
       "            (w_k): Linear(in_features=128, out_features=128, bias=False)\n",
       "            (w_v): Linear(in_features=128, out_features=128, bias=False)\n",
       "            (out_proj): Linear(in_features=128, out_features=128, bias=False)\n",
       "          )\n",
       "          (linear1): Linear(in_features=128, out_features=512, bias=True)\n",
       "          (dropout): Dropout(p=0.1, inplace=False)\n",
       "          (linear2): Linear(in_features=512, out_features=128, bias=True)\n",
       "          (norm1): LayerNorm((128,), eps=1e-05, elementwise_affine=True)\n",
       "          (norm2): LayerNorm((128,), eps=1e-05, elementwise_affine=True)\n",
       "          (norm3): LayerNorm((128,), eps=1e-05, elementwise_affine=True)\n",
       "          (dropout1): Dropout(p=0.1, inplace=False)\n",
       "          (dropout2): Dropout(p=0.1, inplace=False)\n",
       "          (dropout3): Dropout(p=0.1, inplace=False)\n",
       "        )\n",
       "      )\n",
       "      (norm): LayerNorm((128,), eps=1e-05, elementwise_affine=True)\n",
       "    )\n",
       "  )\n",
       "  (tokens_out): Linear(in_features=128, out_features=34, bias=True)\n",
       ")"
      ]
     },
     "execution_count": 29,
     "metadata": {},
     "output_type": "execute_result"
    }
   ],
   "source": [
    "model = models.Seq2SeqModel(n_tokens = args['tokenizer']['n_tokens'], \n",
    "                          pad_token_id = args['tokenizer']['pad_token_id'],\n",
    "                          **args['model_args'])\n",
    "model.load_state_dict(checkpoint['model_state_dict'])\n",
    "model.to(device)\n",
    "model.eval()"
   ]
  },
  {
   "cell_type": "markdown",
   "metadata": {},
   "source": [
    "# Visualize Embeddings"
   ]
  },
  {
   "cell_type": "code",
   "execution_count": 31,
   "metadata": {},
   "outputs": [],
   "source": [
    "embeddings = model.src_embedding.embedding.weight.data.cpu().numpy()"
   ]
  },
  {
   "cell_type": "code",
   "execution_count": 32,
   "metadata": {},
   "outputs": [],
   "source": [
    "tokens = [''.join(t.decode([i], decode_special=True)) for i in range(len(t))]\n",
    "special_tokens = set(['x', '_', '>', '.'])\n",
    "tokens = np.array([tok if tok in special_tokens else data_utils.base2dec([int(tok)], args['data']['base']) for tok in tokens])"
   ]
  },
  {
   "cell_type": "code",
   "execution_count": 33,
   "metadata": {},
   "outputs": [
    {
     "data": {
      "text/plain": [
       "(34, 128)"
      ]
     },
     "execution_count": 33,
     "metadata": {},
     "output_type": "execute_result"
    }
   ],
   "source": [
    "embeddings.shape"
   ]
  },
  {
   "cell_type": "code",
   "execution_count": 34,
   "metadata": {},
   "outputs": [
    {
     "data": {
      "text/plain": [
       "(34,)"
      ]
     },
     "execution_count": 34,
     "metadata": {},
     "output_type": "execute_result"
    }
   ],
   "source": [
    "tokens.shape"
   ]
  },
  {
   "cell_type": "code",
   "execution_count": 35,
   "metadata": {},
   "outputs": [
    {
     "data": {
      "text/plain": [
       "array(['0', '1', '2', '3', '4', '5', '6', '7', '8', '9', '10', '11', '12',\n",
       "       '13', '14', '15', '16', '17', '18', '19', '20', '21', '22', '23',\n",
       "       '24', '25', '26', '27', '28', '29', 'x', '_', '.', '>'],\n",
       "      dtype='<U11')"
      ]
     },
     "execution_count": 35,
     "metadata": {},
     "output_type": "execute_result"
    }
   ],
   "source": [
    "tokens"
   ]
  },
  {
   "cell_type": "markdown",
   "metadata": {},
   "source": [
    "## TSNE\n",
    "* Doesn't seem to be super interesting (over more paramaters than these)"
   ]
  },
  {
   "cell_type": "code",
   "execution_count": 36,
   "metadata": {},
   "outputs": [],
   "source": [
    "from sklearn.manifold import TSNE"
   ]
  },
  {
   "cell_type": "code",
   "execution_count": 39,
   "metadata": {},
   "outputs": [],
   "source": [
    "tsne = TSNE()#perplexity=30, learning_rate=200, n_iter=1000)\n",
    "embeddings_for_plot = tsne.fit_transform(embeddings)"
   ]
  },
  {
   "cell_type": "code",
   "execution_count": 40,
   "metadata": {
    "scrolled": false
   },
   "outputs": [
    {
     "data": {
      "image/png": "[encoded data removed]",
      "text/plain": [
       "<Figure size 432x288 with 1 Axes>"
      ]
     },
     "metadata": {
      "needs_background": "light"
     },
     "output_type": "display_data"
    }
   ],
   "source": [
    "plt.scatter(embeddings_for_plot[:,0], embeddings_for_plot[:,1])\n",
    "ax = plt.gca()\n",
    "for tok, (x,y) in zip(tokens, embeddings_for_plot):\n",
    "    fontsize = 12 if not tok in ['.', '_'] else 24\n",
    "    ax.annotate(tok, (x+.3,y), fontsize=fontsize)\n",
    "plt.show()"
   ]
  },
  {
   "cell_type": "markdown",
   "metadata": {},
   "source": [
    "## Cosine Similarity\n",
    "* Some embeddings have relatively simlar cosine similarities"
   ]
  },
  {
   "cell_type": "code",
   "execution_count": 41,
   "metadata": {},
   "outputs": [],
   "source": [
    "from sklearn.metrics.pairwise import cosine_similarity"
   ]
  },
  {
   "cell_type": "code",
   "execution_count": 42,
   "metadata": {},
   "outputs": [],
   "source": [
    "cs_sim_mat = cosine_similarity(embeddings)\n",
    "cs_sims = np.triu(cs_sim_mat, 1).ravel()\n",
    "cs_sims = cs_sims[~np.isclose(cs_sims, 0)]"
   ]
  },
  {
   "cell_type": "code",
   "execution_count": 43,
   "metadata": {},
   "outputs": [
    {
     "data": {
      "image/png": "[encoded data removed]",
      "text/plain": [
       "<Figure size 432x288 with 1 Axes>"
      ]
     },
     "metadata": {
      "needs_background": "light"
     },
     "output_type": "display_data"
    }
   ],
   "source": [
    "plt.title('cosine simiarlty of embeddings')\n",
    "pd.Series(cs_sims).hist()\n",
    "plt.show()"
   ]
  },
  {
   "cell_type": "code",
   "execution_count": 44,
   "metadata": {},
   "outputs": [
    {
     "data": {
      "text/plain": [
       "(34, 34)"
      ]
     },
     "execution_count": 44,
     "metadata": {},
     "output_type": "execute_result"
    }
   ],
   "source": [
    "cs_sim_mat.shape"
   ]
  },
  {
   "cell_type": "code",
   "execution_count": 45,
   "metadata": {},
   "outputs": [
    {
     "data": {
      "text/plain": [
       "array(['0', '1', '2', '3', '4', '5', '6', '7', '8', '9', '10', '11', '12',\n",
       "       '13', '14', '15', '16', '17', '18', '19', '20', '21', '22', '23',\n",
       "       '24', '25', '26', '27', '28', '29', 'x', '_', '.', '>'],\n",
       "      dtype='<U11')"
      ]
     },
     "execution_count": 45,
     "metadata": {},
     "output_type": "execute_result"
    }
   ],
   "source": [
    "tokens"
   ]
  },
  {
   "cell_type": "code",
   "execution_count": 46,
   "metadata": {},
   "outputs": [
    {
     "data": {
      "image/png": "[encoded data removed]",
      "text/plain": [
       "<Figure size 1440x1440 with 2 Axes>"
      ]
     },
     "metadata": {
      "needs_background": "light"
     },
     "output_type": "display_data"
    }
   ],
   "source": [
    "fig = plt.gcf()\n",
    "fig.set_size_inches(20, 20)\n",
    "ax = plt.gca()\n",
    "plt.colorbar(ax.matshow(np.clip(cs_sim_mat, a_min=-1, a_max=cs_sim_mat[cs_sim_mat<.99].max()*1.1)), ax=ax)\n",
    "ax.set_xticks(np.arange(cs_sim_mat.shape[0]))\n",
    "ax.set_yticks(np.arange(cs_sim_mat.shape[0]))\n",
    "ax.set_xticklabels(tokens[:cs_sim_mat.shape[0]])\n",
    "ax.set_yticklabels(tokens[:cs_sim_mat.shape[0]])\n",
    "plt.show()"
   ]
  },
  {
   "cell_type": "markdown",
   "metadata": {},
   "source": [
    "### Are the embeddings linearly predictive of anything interesting?"
   ]
  },
  {
   "cell_type": "code",
   "execution_count": 47,
   "metadata": {},
   "outputs": [],
   "source": [
    "from sklearn.linear_model import LogisticRegression\n",
    "from sklearn.svm import SVC"
   ]
  },
  {
   "cell_type": "code",
   "execution_count": 48,
   "metadata": {},
   "outputs": [],
   "source": [
    "logreg = LogisticRegression(C = .1, penalty='l1', solver='liblinear')\n",
    "# logreg = SVC()"
   ]
  },
  {
   "cell_type": "code",
   "execution_count": 49,
   "metadata": {},
   "outputs": [
    {
     "data": {
      "text/plain": [
       "((34, 128), (34,))"
      ]
     },
     "execution_count": 49,
     "metadata": {},
     "output_type": "execute_result"
    }
   ],
   "source": [
    "embeddings.shape, tokens.shape"
   ]
  },
  {
   "cell_type": "code",
   "execution_count": 50,
   "metadata": {},
   "outputs": [],
   "source": [
    "logreg_x = embeddings[:-4]\n",
    "logreg_y = tokens[:-4].astype(int) % 2"
   ]
  },
  {
   "cell_type": "code",
   "execution_count": 51,
   "metadata": {},
   "outputs": [],
   "source": [
    "train_indexer = np.random.rand(logreg_x.shape[0]) < .8\n",
    "logreg_x_train = logreg_x[train_indexer]\n",
    "logreg_x_test = logreg_x[~train_indexer]\n",
    "\n",
    "logreg_y_train = logreg_y[train_indexer]\n",
    "logreg_y_test = logreg_y[~train_indexer]"
   ]
  },
  {
   "cell_type": "code",
   "execution_count": 52,
   "metadata": {},
   "outputs": [
    {
     "data": {
      "text/plain": [
       "((25, 128), (25,))"
      ]
     },
     "execution_count": 52,
     "metadata": {},
     "output_type": "execute_result"
    }
   ],
   "source": [
    "logreg_x_train.shape, logreg_y_train.shape"
   ]
  },
  {
   "cell_type": "code",
   "execution_count": 53,
   "metadata": {},
   "outputs": [
    {
     "data": {
      "text/plain": [
       "((5, 128), (5,))"
      ]
     },
     "execution_count": 53,
     "metadata": {},
     "output_type": "execute_result"
    }
   ],
   "source": [
    "logreg_x_test.shape, logreg_y_test.shape"
   ]
  },
  {
   "cell_type": "code",
   "execution_count": 54,
   "metadata": {},
   "outputs": [
    {
     "data": {
      "text/plain": [
       "LogisticRegression(C=0.1, penalty='l1', solver='liblinear')"
      ]
     },
     "execution_count": 54,
     "metadata": {},
     "output_type": "execute_result"
    }
   ],
   "source": [
    "logreg.fit(logreg_x_train, logreg_y_train)"
   ]
  },
  {
   "cell_type": "code",
   "execution_count": 55,
   "metadata": {},
   "outputs": [
    {
     "data": {
      "text/plain": [
       "0.48"
      ]
     },
     "execution_count": 55,
     "metadata": {},
     "output_type": "execute_result"
    }
   ],
   "source": [
    "logreg.score(logreg_x_train, logreg_y_train)"
   ]
  },
  {
   "cell_type": "code",
   "execution_count": 56,
   "metadata": {},
   "outputs": [
    {
     "data": {
      "text/plain": [
       "0.6"
      ]
     },
     "execution_count": 56,
     "metadata": {},
     "output_type": "execute_result"
    }
   ],
   "source": [
    "logreg.score(logreg_x_test, logreg_y_test)"
   ]
  },
  {
   "cell_type": "markdown",
   "metadata": {},
   "source": [
    "# How well does the model do on numbers higher than what it was trained on?"
   ]
  },
  {
   "cell_type": "code",
   "execution_count": 57,
   "metadata": {},
   "outputs": [],
   "source": [
    "start = 2**16\n",
    "length = 100\n",
    "numbers = np.arange(start, start + length)"
   ]
  },
  {
   "cell_type": "code",
   "execution_count": 58,
   "metadata": {},
   "outputs": [
    {
     "data": {
      "text/plain": [
       "<tokenizer.Tokenizer at 0x27086114820>"
      ]
     },
     "execution_count": 58,
     "metadata": {},
     "output_type": "execute_result"
    }
   ],
   "source": [
    "t"
   ]
  },
  {
   "cell_type": "code",
   "execution_count": 60,
   "metadata": {},
   "outputs": [
    {
     "data": {
      "application/vnd.jupyter.widget-view+json": {
       "model_id": "",
       "version_major": 2,
       "version_minor": 0
      },
      "text/plain": [
       "  0%|          | 0/100 [00:00<?, ?it/s]"
      ]
     },
     "metadata": {},
     "output_type": "display_data"
    }
   ],
   "source": [
    "larger_df = problem.form_prediction_df(model, device, numbers, args['model_args']['max_decode_size'], n_beams = 10)"
   ]
  },
  {
   "cell_type": "code",
   "execution_count": 61,
   "metadata": {
    "scrolled": true
   },
   "outputs": [
    {
     "data": {
      "text/plain": [
       "(1000, 18)"
      ]
     },
     "execution_count": 61,
     "metadata": {},
     "output_type": "execute_result"
    }
   ],
   "source": [
    "larger_df.shape"
   ]
  },
  {
   "cell_type": "code",
   "execution_count": 64,
   "metadata": {
    "scrolled": true
   },
   "outputs": [
    {
     "data": {
      "text/html": [
       "<div>\n",
       "<style scoped>\n",
       "    .dataframe tbody tr th:only-of-type {\n",
       "        vertical-align: middle;\n",
       "    }\n",
       "\n",
       "    .dataframe tbody tr th {\n",
       "        vertical-align: top;\n",
       "    }\n",
       "\n",
       "    .dataframe thead th {\n",
       "        text-align: right;\n",
       "    }\n",
       "</style>\n",
       "<table border=\"1\" class=\"dataframe\">\n",
       "  <thead>\n",
       "    <tr style=\"text-align: right;\">\n",
       "      <th></th>\n",
       "      <th>input_num</th>\n",
       "      <th>model_input</th>\n",
       "      <th>beam_idx</th>\n",
       "      <th>log_prob</th>\n",
       "      <th>pred_str</th>\n",
       "      <th>pred_factor_list</th>\n",
       "      <th>product</th>\n",
       "      <th>num_pred_factors</th>\n",
       "      <th>num_prime_factors_pred</th>\n",
       "      <th>percent_prime_factors_pred</th>\n",
       "      <th>correct_product</th>\n",
       "      <th>correct_factorization</th>\n",
       "      <th>pred_same_as_input</th>\n",
       "      <th>input_is_prime</th>\n",
       "      <th>target_factor_str</th>\n",
       "      <th>target_factor_list</th>\n",
       "      <th>num_target_factors</th>\n",
       "      <th>min_target_prime_factor_if_composite</th>\n",
       "    </tr>\n",
       "  </thead>\n",
       "  <tbody>\n",
       "    <tr>\n",
       "      <th>0</th>\n",
       "      <td>65536</td>\n",
       "      <td>[&gt;, 2, 12, 24, 16, .]</td>\n",
       "      <td>0</td>\n",
       "      <td>-1.389068</td>\n",
       "      <td>&gt; 2 x 2 x 2 x 2 x 2 x 2 x 1 4 19 . _ _ _ _ _ _ _ _ _ _</td>\n",
       "      <td>[2, 2, 2, 2, 2, 2, 1039]</td>\n",
       "      <td>66496</td>\n",
       "      <td>7</td>\n",
       "      <td>7</td>\n",
       "      <td>1.000000</td>\n",
       "      <td>False</td>\n",
       "      <td>False</td>\n",
       "      <td>False</td>\n",
       "      <td>False</td>\n",
       "      <td>&gt; 2 x 2 x 2 x 2 x 2 x 2 x 2 x 2 x 2 x 2 x 2 x 2 x 2 x 2 x 2 x 2 .</td>\n",
       "      <td>[2, 2, 2, 2, 2, 2, 2, 2, 2, 2, 2, 2, 2, 2, 2, 2]</td>\n",
       "      <td>16</td>\n",
       "      <td>2</td>\n",
       "    </tr>\n",
       "    <tr>\n",
       "      <th>1</th>\n",
       "      <td>65536</td>\n",
       "      <td>[&gt;, 2, 12, 24, 16, .]</td>\n",
       "      <td>1</td>\n",
       "      <td>-1.444304</td>\n",
       "      <td>&gt; 2 x 2 x 2 x 2 x 2 x 2 x 1 3 19 . _ _ _ _ _ _ _ _ _ _</td>\n",
       "      <td>[2, 2, 2, 2, 2, 2, 1009]</td>\n",
       "      <td>64576</td>\n",
       "      <td>7</td>\n",
       "      <td>7</td>\n",
       "      <td>1.000000</td>\n",
       "      <td>False</td>\n",
       "      <td>False</td>\n",
       "      <td>False</td>\n",
       "      <td>False</td>\n",
       "      <td>&gt; 2 x 2 x 2 x 2 x 2 x 2 x 2 x 2 x 2 x 2 x 2 x 2 x 2 x 2 x 2 x 2 .</td>\n",
       "      <td>[2, 2, 2, 2, 2, 2, 2, 2, 2, 2, 2, 2, 2, 2, 2, 2]</td>\n",
       "      <td>16</td>\n",
       "      <td>2</td>\n",
       "    </tr>\n",
       "    <tr>\n",
       "      <th>2</th>\n",
       "      <td>65536</td>\n",
       "      <td>[&gt;, 2, 12, 24, 16, .]</td>\n",
       "      <td>2</td>\n",
       "      <td>-1.685310</td>\n",
       "      <td>&gt; 2 x 2 x 2 x 2 x 2 x 19 x 3 17 . _ _ _ _ _ _ _ _ _ _ _</td>\n",
       "      <td>[2, 2, 2, 2, 2, 19, 107]</td>\n",
       "      <td>65056</td>\n",
       "      <td>7</td>\n",
       "      <td>7</td>\n",
       "      <td>1.000000</td>\n",
       "      <td>False</td>\n",
       "      <td>False</td>\n",
       "      <td>False</td>\n",
       "      <td>False</td>\n",
       "      <td>&gt; 2 x 2 x 2 x 2 x 2 x 2 x 2 x 2 x 2 x 2 x 2 x 2 x 2 x 2 x 2 x 2 .</td>\n",
       "      <td>[2, 2, 2, 2, 2, 2, 2, 2, 2, 2, 2, 2, 2, 2, 2, 2]</td>\n",
       "      <td>16</td>\n",
       "      <td>2</td>\n",
       "    </tr>\n",
       "    <tr>\n",
       "      <th>3</th>\n",
       "      <td>65536</td>\n",
       "      <td>[&gt;, 2, 12, 24, 16, .]</td>\n",
       "      <td>3</td>\n",
       "      <td>-2.364201</td>\n",
       "      <td>&gt; 2 x 2 x 2 x 2 x 2 x 2 9 23 . _ _ _ _ _ _ _ _ _ _ _ _</td>\n",
       "      <td>[2, 2, 2, 2, 2, 2093]</td>\n",
       "      <td>66976</td>\n",
       "      <td>6</td>\n",
       "      <td>5</td>\n",
       "      <td>0.833333</td>\n",
       "      <td>False</td>\n",
       "      <td>False</td>\n",
       "      <td>False</td>\n",
       "      <td>False</td>\n",
       "      <td>&gt; 2 x 2 x 2 x 2 x 2 x 2 x 2 x 2 x 2 x 2 x 2 x 2 x 2 x 2 x 2 x 2 .</td>\n",
       "      <td>[2, 2, 2, 2, 2, 2, 2, 2, 2, 2, 2, 2, 2, 2, 2, 2]</td>\n",
       "      <td>16</td>\n",
       "      <td>2</td>\n",
       "    </tr>\n",
       "    <tr>\n",
       "      <th>4</th>\n",
       "      <td>65536</td>\n",
       "      <td>[&gt;, 2, 12, 24, 16, .]</td>\n",
       "      <td>4</td>\n",
       "      <td>-3.029617</td>\n",
       "      <td>&gt; 2 x 2 x 2 x 2 x 2 x 2 x 2 x 7 x 2 11 . _ _ _ _ _ _ _</td>\n",
       "      <td>[2, 2, 2, 2, 2, 2, 2, 7, 71]</td>\n",
       "      <td>63616</td>\n",
       "      <td>9</td>\n",
       "      <td>9</td>\n",
       "      <td>1.000000</td>\n",
       "      <td>False</td>\n",
       "      <td>False</td>\n",
       "      <td>False</td>\n",
       "      <td>False</td>\n",
       "      <td>&gt; 2 x 2 x 2 x 2 x 2 x 2 x 2 x 2 x 2 x 2 x 2 x 2 x 2 x 2 x 2 x 2 .</td>\n",
       "      <td>[2, 2, 2, 2, 2, 2, 2, 2, 2, 2, 2, 2, 2, 2, 2, 2]</td>\n",
       "      <td>16</td>\n",
       "      <td>2</td>\n",
       "    </tr>\n",
       "    <tr>\n",
       "      <th>5</th>\n",
       "      <td>65536</td>\n",
       "      <td>[&gt;, 2, 12, 24, 16, .]</td>\n",
       "      <td>5</td>\n",
       "      <td>-3.322387</td>\n",
       "      <td>&gt; 2 x 2 x 2 x 2 x 2 x 2 8 23 . _ _ _ _ _ _ _ _ _ _ _ _</td>\n",
       "      <td>[2, 2, 2, 2, 2, 2063]</td>\n",
       "      <td>66016</td>\n",
       "      <td>6</td>\n",
       "      <td>6</td>\n",
       "      <td>1.000000</td>\n",
       "      <td>False</td>\n",
       "      <td>False</td>\n",
       "      <td>False</td>\n",
       "      <td>False</td>\n",
       "      <td>&gt; 2 x 2 x 2 x 2 x 2 x 2 x 2 x 2 x 2 x 2 x 2 x 2 x 2 x 2 x 2 x 2 .</td>\n",
       "      <td>[2, 2, 2, 2, 2, 2, 2, 2, 2, 2, 2, 2, 2, 2, 2, 2]</td>\n",
       "      <td>16</td>\n",
       "      <td>2</td>\n",
       "    </tr>\n",
       "    <tr>\n",
       "      <th>6</th>\n",
       "      <td>65536</td>\n",
       "      <td>[&gt;, 2, 12, 24, 16, .]</td>\n",
       "      <td>6</td>\n",
       "      <td>-4.101494</td>\n",
       "      <td>&gt; 2 x 2 x 2 x 2 x 2 x 29 x 2 7 . _ _ _ _ _ _ _ _ _ _ _</td>\n",
       "      <td>[2, 2, 2, 2, 2, 29, 67]</td>\n",
       "      <td>62176</td>\n",
       "      <td>7</td>\n",
       "      <td>7</td>\n",
       "      <td>1.000000</td>\n",
       "      <td>False</td>\n",
       "      <td>False</td>\n",
       "      <td>False</td>\n",
       "      <td>False</td>\n",
       "      <td>&gt; 2 x 2 x 2 x 2 x 2 x 2 x 2 x 2 x 2 x 2 x 2 x 2 x 2 x 2 x 2 x 2 .</td>\n",
       "      <td>[2, 2, 2, 2, 2, 2, 2, 2, 2, 2, 2, 2, 2, 2, 2, 2]</td>\n",
       "      <td>16</td>\n",
       "      <td>2</td>\n",
       "    </tr>\n",
       "    <tr>\n",
       "      <th>7</th>\n",
       "      <td>65536</td>\n",
       "      <td>[&gt;, 2, 12, 24, 16, .]</td>\n",
       "      <td>7</td>\n",
       "      <td>-4.116772</td>\n",
       "      <td>&gt; 2 x 2 x 2 x 2 x 2 x 2 x 2 x 2 x 2 x 11 x 13 . _ _ _ _</td>\n",
       "      <td>[2, 2, 2, 2, 2, 2, 2, 2, 2, 11, 13]</td>\n",
       "      <td>73216</td>\n",
       "      <td>11</td>\n",
       "      <td>11</td>\n",
       "      <td>1.000000</td>\n",
       "      <td>False</td>\n",
       "      <td>False</td>\n",
       "      <td>False</td>\n",
       "      <td>False</td>\n",
       "      <td>&gt; 2 x 2 x 2 x 2 x 2 x 2 x 2 x 2 x 2 x 2 x 2 x 2 x 2 x 2 x 2 x 2 .</td>\n",
       "      <td>[2, 2, 2, 2, 2, 2, 2, 2, 2, 2, 2, 2, 2, 2, 2, 2]</td>\n",
       "      <td>16</td>\n",
       "      <td>2</td>\n",
       "    </tr>\n",
       "    <tr>\n",
       "      <th>8</th>\n",
       "      <td>65536</td>\n",
       "      <td>[&gt;, 2, 12, 24, 16, .]</td>\n",
       "      <td>8</td>\n",
       "      <td>-4.216525</td>\n",
       "      <td>&gt; 2 x 2 x 2 x 2 x 2 x 2 0 23 . _ _ _ _ _ _ _ _ _ _ _ _</td>\n",
       "      <td>[2, 2, 2, 2, 2, 1823]</td>\n",
       "      <td>58336</td>\n",
       "      <td>6</td>\n",
       "      <td>6</td>\n",
       "      <td>1.000000</td>\n",
       "      <td>False</td>\n",
       "      <td>False</td>\n",
       "      <td>False</td>\n",
       "      <td>False</td>\n",
       "      <td>&gt; 2 x 2 x 2 x 2 x 2 x 2 x 2 x 2 x 2 x 2 x 2 x 2 x 2 x 2 x 2 x 2 .</td>\n",
       "      <td>[2, 2, 2, 2, 2, 2, 2, 2, 2, 2, 2, 2, 2, 2, 2, 2]</td>\n",
       "      <td>16</td>\n",
       "      <td>2</td>\n",
       "    </tr>\n",
       "    <tr>\n",
       "      <th>9</th>\n",
       "      <td>65536</td>\n",
       "      <td>[&gt;, 2, 12, 24, 16, .]</td>\n",
       "      <td>9</td>\n",
       "      <td>-5.046956</td>\n",
       "      <td>&gt; 2 x 2 x 2 x 2 x 2 x 2 x 2 x 2 x 2 x 2 x 2 x 2 x 17 .</td>\n",
       "      <td>[2, 2, 2, 2, 2, 2, 2, 2, 2, 2, 2, 2, 17]</td>\n",
       "      <td>69632</td>\n",
       "      <td>13</td>\n",
       "      <td>13</td>\n",
       "      <td>1.000000</td>\n",
       "      <td>False</td>\n",
       "      <td>False</td>\n",
       "      <td>False</td>\n",
       "      <td>False</td>\n",
       "      <td>&gt; 2 x 2 x 2 x 2 x 2 x 2 x 2 x 2 x 2 x 2 x 2 x 2 x 2 x 2 x 2 x 2 .</td>\n",
       "      <td>[2, 2, 2, 2, 2, 2, 2, 2, 2, 2, 2, 2, 2, 2, 2, 2]</td>\n",
       "      <td>16</td>\n",
       "      <td>2</td>\n",
       "    </tr>\n",
       "  </tbody>\n",
       "</table>\n",
       "</div>"
      ],
      "text/plain": [
       "   input_num            model_input  beam_idx  log_prob  \\\n",
       "0      65536  [>, 2, 12, 24, 16, .]         0 -1.389068   \n",
       "1      65536  [>, 2, 12, 24, 16, .]         1 -1.444304   \n",
       "2      65536  [>, 2, 12, 24, 16, .]         2 -1.685310   \n",
       "3      65536  [>, 2, 12, 24, 16, .]         3 -2.364201   \n",
       "4      65536  [>, 2, 12, 24, 16, .]         4 -3.029617   \n",
       "5      65536  [>, 2, 12, 24, 16, .]         5 -3.322387   \n",
       "6      65536  [>, 2, 12, 24, 16, .]         6 -4.101494   \n",
       "7      65536  [>, 2, 12, 24, 16, .]         7 -4.116772   \n",
       "8      65536  [>, 2, 12, 24, 16, .]         8 -4.216525   \n",
       "9      65536  [>, 2, 12, 24, 16, .]         9 -5.046956   \n",
       "\n",
       "                                                  pred_str  \\\n",
       "0   > 2 x 2 x 2 x 2 x 2 x 2 x 1 4 19 . _ _ _ _ _ _ _ _ _ _   \n",
       "1   > 2 x 2 x 2 x 2 x 2 x 2 x 1 3 19 . _ _ _ _ _ _ _ _ _ _   \n",
       "2  > 2 x 2 x 2 x 2 x 2 x 19 x 3 17 . _ _ _ _ _ _ _ _ _ _ _   \n",
       "3   > 2 x 2 x 2 x 2 x 2 x 2 9 23 . _ _ _ _ _ _ _ _ _ _ _ _   \n",
       "4   > 2 x 2 x 2 x 2 x 2 x 2 x 2 x 7 x 2 11 . _ _ _ _ _ _ _   \n",
       "5   > 2 x 2 x 2 x 2 x 2 x 2 8 23 . _ _ _ _ _ _ _ _ _ _ _ _   \n",
       "6   > 2 x 2 x 2 x 2 x 2 x 29 x 2 7 . _ _ _ _ _ _ _ _ _ _ _   \n",
       "7  > 2 x 2 x 2 x 2 x 2 x 2 x 2 x 2 x 2 x 11 x 13 . _ _ _ _   \n",
       "8   > 2 x 2 x 2 x 2 x 2 x 2 0 23 . _ _ _ _ _ _ _ _ _ _ _ _   \n",
       "9   > 2 x 2 x 2 x 2 x 2 x 2 x 2 x 2 x 2 x 2 x 2 x 2 x 17 .   \n",
       "\n",
       "                           pred_factor_list  product  num_pred_factors  \\\n",
       "0                  [2, 2, 2, 2, 2, 2, 1039]    66496                 7   \n",
       "1                  [2, 2, 2, 2, 2, 2, 1009]    64576                 7   \n",
       "2                  [2, 2, 2, 2, 2, 19, 107]    65056                 7   \n",
       "3                     [2, 2, 2, 2, 2, 2093]    66976                 6   \n",
       "4              [2, 2, 2, 2, 2, 2, 2, 7, 71]    63616                 9   \n",
       "5                     [2, 2, 2, 2, 2, 2063]    66016                 6   \n",
       "6                   [2, 2, 2, 2, 2, 29, 67]    62176                 7   \n",
       "7       [2, 2, 2, 2, 2, 2, 2, 2, 2, 11, 13]    73216                11   \n",
       "8                     [2, 2, 2, 2, 2, 1823]    58336                 6   \n",
       "9  [2, 2, 2, 2, 2, 2, 2, 2, 2, 2, 2, 2, 17]    69632                13   \n",
       "\n",
       "   num_prime_factors_pred  percent_prime_factors_pred  correct_product  \\\n",
       "0                       7                    1.000000            False   \n",
       "1                       7                    1.000000            False   \n",
       "2                       7                    1.000000            False   \n",
       "3                       5                    0.833333            False   \n",
       "4                       9                    1.000000            False   \n",
       "5                       6                    1.000000            False   \n",
       "6                       7                    1.000000            False   \n",
       "7                      11                    1.000000            False   \n",
       "8                       6                    1.000000            False   \n",
       "9                      13                    1.000000            False   \n",
       "\n",
       "   correct_factorization  pred_same_as_input  input_is_prime  \\\n",
       "0                  False               False           False   \n",
       "1                  False               False           False   \n",
       "2                  False               False           False   \n",
       "3                  False               False           False   \n",
       "4                  False               False           False   \n",
       "5                  False               False           False   \n",
       "6                  False               False           False   \n",
       "7                  False               False           False   \n",
       "8                  False               False           False   \n",
       "9                  False               False           False   \n",
       "\n",
       "                                                   target_factor_str  \\\n",
       "0  > 2 x 2 x 2 x 2 x 2 x 2 x 2 x 2 x 2 x 2 x 2 x 2 x 2 x 2 x 2 x 2 .   \n",
       "1  > 2 x 2 x 2 x 2 x 2 x 2 x 2 x 2 x 2 x 2 x 2 x 2 x 2 x 2 x 2 x 2 .   \n",
       "2  > 2 x 2 x 2 x 2 x 2 x 2 x 2 x 2 x 2 x 2 x 2 x 2 x 2 x 2 x 2 x 2 .   \n",
       "3  > 2 x 2 x 2 x 2 x 2 x 2 x 2 x 2 x 2 x 2 x 2 x 2 x 2 x 2 x 2 x 2 .   \n",
       "4  > 2 x 2 x 2 x 2 x 2 x 2 x 2 x 2 x 2 x 2 x 2 x 2 x 2 x 2 x 2 x 2 .   \n",
       "5  > 2 x 2 x 2 x 2 x 2 x 2 x 2 x 2 x 2 x 2 x 2 x 2 x 2 x 2 x 2 x 2 .   \n",
       "6  > 2 x 2 x 2 x 2 x 2 x 2 x 2 x 2 x 2 x 2 x 2 x 2 x 2 x 2 x 2 x 2 .   \n",
       "7  > 2 x 2 x 2 x 2 x 2 x 2 x 2 x 2 x 2 x 2 x 2 x 2 x 2 x 2 x 2 x 2 .   \n",
       "8  > 2 x 2 x 2 x 2 x 2 x 2 x 2 x 2 x 2 x 2 x 2 x 2 x 2 x 2 x 2 x 2 .   \n",
       "9  > 2 x 2 x 2 x 2 x 2 x 2 x 2 x 2 x 2 x 2 x 2 x 2 x 2 x 2 x 2 x 2 .   \n",
       "\n",
       "                                 target_factor_list  num_target_factors  \\\n",
       "0  [2, 2, 2, 2, 2, 2, 2, 2, 2, 2, 2, 2, 2, 2, 2, 2]                  16   \n",
       "1  [2, 2, 2, 2, 2, 2, 2, 2, 2, 2, 2, 2, 2, 2, 2, 2]                  16   \n",
       "2  [2, 2, 2, 2, 2, 2, 2, 2, 2, 2, 2, 2, 2, 2, 2, 2]                  16   \n",
       "3  [2, 2, 2, 2, 2, 2, 2, 2, 2, 2, 2, 2, 2, 2, 2, 2]                  16   \n",
       "4  [2, 2, 2, 2, 2, 2, 2, 2, 2, 2, 2, 2, 2, 2, 2, 2]                  16   \n",
       "5  [2, 2, 2, 2, 2, 2, 2, 2, 2, 2, 2, 2, 2, 2, 2, 2]                  16   \n",
       "6  [2, 2, 2, 2, 2, 2, 2, 2, 2, 2, 2, 2, 2, 2, 2, 2]                  16   \n",
       "7  [2, 2, 2, 2, 2, 2, 2, 2, 2, 2, 2, 2, 2, 2, 2, 2]                  16   \n",
       "8  [2, 2, 2, 2, 2, 2, 2, 2, 2, 2, 2, 2, 2, 2, 2, 2]                  16   \n",
       "9  [2, 2, 2, 2, 2, 2, 2, 2, 2, 2, 2, 2, 2, 2, 2, 2]                  16   \n",
       "\n",
       "   min_target_prime_factor_if_composite  \n",
       "0                                     2  \n",
       "1                                     2  \n",
       "2                                     2  \n",
       "3                                     2  \n",
       "4                                     2  \n",
       "5                                     2  \n",
       "6                                     2  \n",
       "7                                     2  \n",
       "8                                     2  \n",
       "9                                     2  "
      ]
     },
     "execution_count": 64,
     "metadata": {},
     "output_type": "execute_result"
    }
   ],
   "source": [
    "larger_df.head(10)"
   ]
  },
  {
   "cell_type": "code",
   "execution_count": 63,
   "metadata": {
    "scrolled": false
   },
   "outputs": [
    {
     "data": {
      "text/plain": [
       "correct_factorization    0.84\n",
       "dtype: float64"
      ]
     },
     "execution_count": 63,
     "metadata": {},
     "output_type": "execute_result"
    }
   ],
   "source": [
    "larger_df.groupby('input_num').agg({'correct_factorization' : 'any'}).mean()"
   ]
  },
  {
   "cell_type": "code",
   "execution_count": 71,
   "metadata": {},
   "outputs": [
    {
     "data": {
      "text/plain": [
       "0.48"
      ]
     },
     "execution_count": 71,
     "metadata": {},
     "output_type": "execute_result"
    }
   ],
   "source": [
    "top_beams = larger_df['beam_idx'] == 8\n",
    "(larger_df[top_beams]['product'] < larger_df[top_beams]['input_num']).mean()"
   ]
  },
  {
   "cell_type": "markdown",
   "metadata": {},
   "source": [
    "### how does it handle squares/cubes/...?"
   ]
  },
  {
   "cell_type": "code",
   "execution_count": 72,
   "metadata": {},
   "outputs": [],
   "source": [
    "from sympy import factorint\n",
    "from sympy.ntheory import primerange"
   ]
  },
  {
   "cell_type": "code",
   "execution_count": 73,
   "metadata": {},
   "outputs": [],
   "source": [
    "max_num = 256\n",
    "squares = np.array(list(primerange(2, max_num)))**2\n",
    "cubes = np.array(list(primerange(2, max_num)))**3"
   ]
  },
  {
   "cell_type": "code",
   "execution_count": 75,
   "metadata": {},
   "outputs": [
    {
     "data": {
      "application/vnd.jupyter.widget-view+json": {
       "model_id": "",
       "version_major": 2,
       "version_minor": 0
      },
      "text/plain": [
       "  0%|          | 0/54 [00:00<?, ?it/s]"
      ]
     },
     "metadata": {},
     "output_type": "display_data"
    }
   ],
   "source": [
    "square_df = problem.form_prediction_df(model, device, squares, args['model_args']['max_decode_size'], n_beams = 10)"
   ]
  },
  {
   "cell_type": "code",
   "execution_count": 76,
   "metadata": {
    "scrolled": false
   },
   "outputs": [
    {
     "data": {
      "text/plain": [
       "0.6851851851851852"
      ]
     },
     "execution_count": 76,
     "metadata": {},
     "output_type": "execute_result"
    }
   ],
   "source": [
    "square_df[square_df['beam_idx']==0]['correct_factorization'].mean()"
   ]
  },
  {
   "cell_type": "code",
   "execution_count": 77,
   "metadata": {
    "scrolled": true
   },
   "outputs": [
    {
     "data": {
      "text/plain": [
       "correct_factorization    0.814815\n",
       "dtype: float64"
      ]
     },
     "execution_count": 77,
     "metadata": {},
     "output_type": "execute_result"
    }
   ],
   "source": [
    "square_df.groupby('input_num').agg({'correct_factorization' : 'any'}).mean()"
   ]
  },
  {
   "cell_type": "code",
   "execution_count": 78,
   "metadata": {},
   "outputs": [
    {
     "data": {
      "application/vnd.jupyter.widget-view+json": {
       "model_id": "",
       "version_major": 2,
       "version_minor": 0
      },
      "text/plain": [
       "  0%|          | 0/54 [00:00<?, ?it/s]"
      ]
     },
     "metadata": {},
     "output_type": "display_data"
    }
   ],
   "source": [
    "cube_df = problem.form_prediction_df(model, device, cubes, args['model_args']['max_decode_size'], n_beams = 10)"
   ]
  },
  {
   "cell_type": "code",
   "execution_count": 79,
   "metadata": {},
   "outputs": [
    {
     "data": {
      "text/plain": [
       "0.2037037037037037"
      ]
     },
     "execution_count": 79,
     "metadata": {},
     "output_type": "execute_result"
    }
   ],
   "source": [
    "cube_df[cube_df['beam_idx']==0]['correct_factorization'].mean()"
   ]
  },
  {
   "cell_type": "code",
   "execution_count": 80,
   "metadata": {},
   "outputs": [
    {
     "data": {
      "text/plain": [
       "correct_factorization    0.222222\n",
       "dtype: float64"
      ]
     },
     "execution_count": 80,
     "metadata": {},
     "output_type": "execute_result"
    }
   ],
   "source": [
    "cube_df.groupby('input_num').agg({'correct_factorization' : 'any'}).mean()"
   ]
  },
  {
   "cell_type": "markdown",
   "metadata": {},
   "source": [
    "### When encoding two different numbers, what are the cosine similarities of their representations?"
   ]
  },
  {
   "cell_type": "code",
   "execution_count": 81,
   "metadata": {},
   "outputs": [],
   "source": [
    "first_int = 16\n",
    "second_int = 32"
   ]
  },
  {
   "cell_type": "code",
   "execution_count": 85,
   "metadata": {},
   "outputs": [],
   "source": [
    "def get_reps_for_number(number):\n",
    "    tokens = t.encode(problem.form_input(number, args['data']['base']))\n",
    "    tens = torch.tensor(tokens).unsqueeze(0).to(device)\n",
    "    memory, _ = model.encode(tens)\n",
    "    return memory.squeeze().data.cpu().numpy(), tokens"
   ]
  },
  {
   "cell_type": "code",
   "execution_count": 86,
   "metadata": {},
   "outputs": [],
   "source": [
    "first_reps, first_tokens = get_reps_for_number(first_int)\n",
    "second_reps, second_tokens = get_reps_for_number(second_int)"
   ]
  },
  {
   "cell_type": "code",
   "execution_count": 87,
   "metadata": {},
   "outputs": [],
   "source": [
    "cs_sims = cosine_similarity(first_reps, second_reps)"
   ]
  },
  {
   "cell_type": "code",
   "execution_count": 88,
   "metadata": {},
   "outputs": [
    {
     "data": {
      "image/png": "[encoded data removed]",
      "text/plain": [
       "<Figure size 576x576 with 2 Axes>"
      ]
     },
     "metadata": {
      "needs_background": "light"
     },
     "output_type": "display_data"
    }
   ],
   "source": [
    "fig = plt.gcf()\n",
    "fig.set_size_inches(8,8)\n",
    "ax = plt.gca()\n",
    "plt.colorbar(ax.matshow(cs_sims), ax=ax)\n",
    "ax.set_xticks(np.arange(cs_sims.shape[1]))\n",
    "ax.set_yticks(np.arange(cs_sims.shape[0]))\n",
    "ax.set_xticklabels(t.decode(second_tokens, decode_special=True).split(' '))\n",
    "ax.set_yticklabels(t.decode(first_tokens, decode_special=True).split(' '))\n",
    "\n",
    "plt.xlabel(second_int, fontsize=32)\n",
    "ax.xaxis.set_label_position('top') \n",
    "plt.ylabel(first_int, fontsize=32)\n",
    "\n",
    "plt.show()"
   ]
  },
  {
   "cell_type": "markdown",
   "metadata": {},
   "source": [
    "# When the model gets it wrong, what is the probability of the right sequence?"
   ]
  },
  {
   "cell_type": "code",
   "execution_count": 89,
   "metadata": {},
   "outputs": [],
   "source": [
    "import Levenshtein"
   ]
  },
  {
   "cell_type": "code",
   "execution_count": 90,
   "metadata": {},
   "outputs": [],
   "source": [
    "target_num = 277337"
   ]
  },
  {
   "cell_type": "code",
   "execution_count": 92,
   "metadata": {
    "scrolled": false
   },
   "outputs": [
    {
     "data": {
      "application/vnd.jupyter.widget-view+json": {
       "model_id": "",
       "version_major": 2,
       "version_minor": 0
      },
      "text/plain": [
       "  0%|          | 0/1 [00:00<?, ?it/s]"
      ]
     },
     "metadata": {},
     "output_type": "display_data"
    },
    {
     "data": {
      "text/html": [
       "<div>\n",
       "<style scoped>\n",
       "    .dataframe tbody tr th:only-of-type {\n",
       "        vertical-align: middle;\n",
       "    }\n",
       "\n",
       "    .dataframe tbody tr th {\n",
       "        vertical-align: top;\n",
       "    }\n",
       "\n",
       "    .dataframe thead th {\n",
       "        text-align: right;\n",
       "    }\n",
       "</style>\n",
       "<table border=\"1\" class=\"dataframe\">\n",
       "  <thead>\n",
       "    <tr style=\"text-align: right;\">\n",
       "      <th></th>\n",
       "      <th>input_num</th>\n",
       "      <th>model_input</th>\n",
       "      <th>beam_idx</th>\n",
       "      <th>log_prob</th>\n",
       "      <th>pred_str</th>\n",
       "      <th>pred_factor_list</th>\n",
       "      <th>product</th>\n",
       "      <th>num_pred_factors</th>\n",
       "      <th>num_prime_factors_pred</th>\n",
       "      <th>percent_prime_factors_pred</th>\n",
       "      <th>correct_product</th>\n",
       "      <th>correct_factorization</th>\n",
       "      <th>pred_same_as_input</th>\n",
       "      <th>input_is_prime</th>\n",
       "      <th>target_factor_str</th>\n",
       "      <th>target_factor_list</th>\n",
       "      <th>num_target_factors</th>\n",
       "      <th>min_target_prime_factor_if_composite</th>\n",
       "      <th>lev_dist</th>\n",
       "    </tr>\n",
       "  </thead>\n",
       "  <tbody>\n",
       "    <tr>\n",
       "      <th>0</th>\n",
       "      <td>277337</td>\n",
       "      <td>[&gt;, 10, 8, 4, 17, .]</td>\n",
       "      <td>0</td>\n",
       "      <td>-0.079663</td>\n",
       "      <td>&gt; 10 4 17 . _ _</td>\n",
       "      <td>[9137]</td>\n",
       "      <td>9137</td>\n",
       "      <td>1</td>\n",
       "      <td>1</td>\n",
       "      <td>1.0</td>\n",
       "      <td>False</td>\n",
       "      <td>False</td>\n",
       "      <td>False</td>\n",
       "      <td>False</td>\n",
       "      <td>&gt; 15 13 x 19 29 .</td>\n",
       "      <td>[463, 599]</td>\n",
       "      <td>2</td>\n",
       "      <td>463</td>\n",
       "      <td>9</td>\n",
       "    </tr>\n",
       "    <tr>\n",
       "      <th>1</th>\n",
       "      <td>277337</td>\n",
       "      <td>[&gt;, 10, 8, 4, 17, .]</td>\n",
       "      <td>1</td>\n",
       "      <td>-2.846211</td>\n",
       "      <td>&gt; 17 x 1 4 1 .</td>\n",
       "      <td>[17, 1021]</td>\n",
       "      <td>17357</td>\n",
       "      <td>2</td>\n",
       "      <td>2</td>\n",
       "      <td>1.0</td>\n",
       "      <td>False</td>\n",
       "      <td>False</td>\n",
       "      <td>False</td>\n",
       "      <td>False</td>\n",
       "      <td>&gt; 15 13 x 19 29 .</td>\n",
       "      <td>[463, 599]</td>\n",
       "      <td>2</td>\n",
       "      <td>463</td>\n",
       "      <td>8</td>\n",
       "    </tr>\n",
       "    <tr>\n",
       "      <th>2</th>\n",
       "      <td>277337</td>\n",
       "      <td>[&gt;, 10, 8, 4, 17, .]</td>\n",
       "      <td>2</td>\n",
       "      <td>-5.179715</td>\n",
       "      <td>&gt; 13 x 1 16 29 .</td>\n",
       "      <td>[13, 1409]</td>\n",
       "      <td>18317</td>\n",
       "      <td>2</td>\n",
       "      <td>2</td>\n",
       "      <td>1.0</td>\n",
       "      <td>False</td>\n",
       "      <td>False</td>\n",
       "      <td>False</td>\n",
       "      <td>False</td>\n",
       "      <td>&gt; 15 13 x 19 29 .</td>\n",
       "      <td>[463, 599]</td>\n",
       "      <td>2</td>\n",
       "      <td>463</td>\n",
       "      <td>5</td>\n",
       "    </tr>\n",
       "    <tr>\n",
       "      <th>3</th>\n",
       "      <td>277337</td>\n",
       "      <td>[&gt;, 10, 8, 4, 17, .]</td>\n",
       "      <td>3</td>\n",
       "      <td>-5.422822</td>\n",
       "      <td>&gt; 1 11 x 13 7 .</td>\n",
       "      <td>[41, 397]</td>\n",
       "      <td>16277</td>\n",
       "      <td>2</td>\n",
       "      <td>2</td>\n",
       "      <td>1.0</td>\n",
       "      <td>False</td>\n",
       "      <td>False</td>\n",
       "      <td>False</td>\n",
       "      <td>False</td>\n",
       "      <td>&gt; 15 13 x 19 29 .</td>\n",
       "      <td>[463, 599]</td>\n",
       "      <td>2</td>\n",
       "      <td>463</td>\n",
       "      <td>5</td>\n",
       "    </tr>\n",
       "    <tr>\n",
       "      <th>4</th>\n",
       "      <td>277337</td>\n",
       "      <td>[&gt;, 10, 8, 4, 17, .]</td>\n",
       "      <td>4</td>\n",
       "      <td>-6.021946</td>\n",
       "      <td>&gt; 1 13 x 13 29 .</td>\n",
       "      <td>[43, 419]</td>\n",
       "      <td>18017</td>\n",
       "      <td>2</td>\n",
       "      <td>2</td>\n",
       "      <td>1.0</td>\n",
       "      <td>False</td>\n",
       "      <td>False</td>\n",
       "      <td>False</td>\n",
       "      <td>False</td>\n",
       "      <td>&gt; 15 13 x 19 29 .</td>\n",
       "      <td>[463, 599]</td>\n",
       "      <td>2</td>\n",
       "      <td>463</td>\n",
       "      <td>2</td>\n",
       "    </tr>\n",
       "    <tr>\n",
       "      <th>5</th>\n",
       "      <td>277337</td>\n",
       "      <td>[&gt;, 10, 8, 4, 17, .]</td>\n",
       "      <td>5</td>\n",
       "      <td>-6.156577</td>\n",
       "      <td>&gt; 23 x 24 19 . _</td>\n",
       "      <td>[23, 739]</td>\n",
       "      <td>16997</td>\n",
       "      <td>2</td>\n",
       "      <td>2</td>\n",
       "      <td>1.0</td>\n",
       "      <td>False</td>\n",
       "      <td>False</td>\n",
       "      <td>False</td>\n",
       "      <td>False</td>\n",
       "      <td>&gt; 15 13 x 19 29 .</td>\n",
       "      <td>[463, 599]</td>\n",
       "      <td>2</td>\n",
       "      <td>463</td>\n",
       "      <td>7</td>\n",
       "    </tr>\n",
       "    <tr>\n",
       "      <th>6</th>\n",
       "      <td>277337</td>\n",
       "      <td>[&gt;, 10, 8, 4, 17, .]</td>\n",
       "      <td>6</td>\n",
       "      <td>-7.035812</td>\n",
       "      <td>&gt; 2 11 x 8 7 .</td>\n",
       "      <td>[71, 247]</td>\n",
       "      <td>17537</td>\n",
       "      <td>2</td>\n",
       "      <td>1</td>\n",
       "      <td>0.5</td>\n",
       "      <td>False</td>\n",
       "      <td>False</td>\n",
       "      <td>False</td>\n",
       "      <td>False</td>\n",
       "      <td>&gt; 15 13 x 19 29 .</td>\n",
       "      <td>[463, 599]</td>\n",
       "      <td>2</td>\n",
       "      <td>463</td>\n",
       "      <td>7</td>\n",
       "    </tr>\n",
       "    <tr>\n",
       "      <th>7</th>\n",
       "      <td>277337</td>\n",
       "      <td>[&gt;, 10, 8, 4, 17, .]</td>\n",
       "      <td>7</td>\n",
       "      <td>-7.724508</td>\n",
       "      <td>&gt; 19 x 1 0 23 .</td>\n",
       "      <td>[19, 923]</td>\n",
       "      <td>17537</td>\n",
       "      <td>2</td>\n",
       "      <td>1</td>\n",
       "      <td>0.5</td>\n",
       "      <td>False</td>\n",
       "      <td>False</td>\n",
       "      <td>False</td>\n",
       "      <td>False</td>\n",
       "      <td>&gt; 15 13 x 19 29 .</td>\n",
       "      <td>[463, 599]</td>\n",
       "      <td>2</td>\n",
       "      <td>463</td>\n",
       "      <td>7</td>\n",
       "    </tr>\n",
       "    <tr>\n",
       "      <th>8</th>\n",
       "      <td>277337</td>\n",
       "      <td>[&gt;, 10, 8, 4, 17, .]</td>\n",
       "      <td>8</td>\n",
       "      <td>-7.741051</td>\n",
       "      <td>&gt; 1 11 x 15 7 .</td>\n",
       "      <td>[41, 457]</td>\n",
       "      <td>18737</td>\n",
       "      <td>2</td>\n",
       "      <td>2</td>\n",
       "      <td>1.0</td>\n",
       "      <td>False</td>\n",
       "      <td>False</td>\n",
       "      <td>False</td>\n",
       "      <td>False</td>\n",
       "      <td>&gt; 15 13 x 19 29 .</td>\n",
       "      <td>[463, 599]</td>\n",
       "      <td>2</td>\n",
       "      <td>463</td>\n",
       "      <td>5</td>\n",
       "    </tr>\n",
       "    <tr>\n",
       "      <th>9</th>\n",
       "      <td>277337</td>\n",
       "      <td>[&gt;, 10, 8, 4, 17, .]</td>\n",
       "      <td>9</td>\n",
       "      <td>-8.014544</td>\n",
       "      <td>&gt; 13 x 1 14 29 .</td>\n",
       "      <td>[13, 1349]</td>\n",
       "      <td>17537</td>\n",
       "      <td>2</td>\n",
       "      <td>1</td>\n",
       "      <td>0.5</td>\n",
       "      <td>False</td>\n",
       "      <td>False</td>\n",
       "      <td>False</td>\n",
       "      <td>False</td>\n",
       "      <td>&gt; 15 13 x 19 29 .</td>\n",
       "      <td>[463, 599]</td>\n",
       "      <td>2</td>\n",
       "      <td>463</td>\n",
       "      <td>5</td>\n",
       "    </tr>\n",
       "  </tbody>\n",
       "</table>\n",
       "</div>"
      ],
      "text/plain": [
       "   input_num           model_input  beam_idx  log_prob          pred_str  \\\n",
       "0     277337  [>, 10, 8, 4, 17, .]         0 -0.079663   > 10 4 17 . _ _   \n",
       "1     277337  [>, 10, 8, 4, 17, .]         1 -2.846211    > 17 x 1 4 1 .   \n",
       "2     277337  [>, 10, 8, 4, 17, .]         2 -5.179715  > 13 x 1 16 29 .   \n",
       "3     277337  [>, 10, 8, 4, 17, .]         3 -5.422822   > 1 11 x 13 7 .   \n",
       "4     277337  [>, 10, 8, 4, 17, .]         4 -6.021946  > 1 13 x 13 29 .   \n",
       "5     277337  [>, 10, 8, 4, 17, .]         5 -6.156577  > 23 x 24 19 . _   \n",
       "6     277337  [>, 10, 8, 4, 17, .]         6 -7.035812    > 2 11 x 8 7 .   \n",
       "7     277337  [>, 10, 8, 4, 17, .]         7 -7.724508   > 19 x 1 0 23 .   \n",
       "8     277337  [>, 10, 8, 4, 17, .]         8 -7.741051   > 1 11 x 15 7 .   \n",
       "9     277337  [>, 10, 8, 4, 17, .]         9 -8.014544  > 13 x 1 14 29 .   \n",
       "\n",
       "  pred_factor_list  product  num_pred_factors  num_prime_factors_pred  \\\n",
       "0           [9137]     9137                 1                       1   \n",
       "1       [17, 1021]    17357                 2                       2   \n",
       "2       [13, 1409]    18317                 2                       2   \n",
       "3        [41, 397]    16277                 2                       2   \n",
       "4        [43, 419]    18017                 2                       2   \n",
       "5        [23, 739]    16997                 2                       2   \n",
       "6        [71, 247]    17537                 2                       1   \n",
       "7        [19, 923]    17537                 2                       1   \n",
       "8        [41, 457]    18737                 2                       2   \n",
       "9       [13, 1349]    17537                 2                       1   \n",
       "\n",
       "   percent_prime_factors_pred  correct_product  correct_factorization  \\\n",
       "0                         1.0            False                  False   \n",
       "1                         1.0            False                  False   \n",
       "2                         1.0            False                  False   \n",
       "3                         1.0            False                  False   \n",
       "4                         1.0            False                  False   \n",
       "5                         1.0            False                  False   \n",
       "6                         0.5            False                  False   \n",
       "7                         0.5            False                  False   \n",
       "8                         1.0            False                  False   \n",
       "9                         0.5            False                  False   \n",
       "\n",
       "   pred_same_as_input  input_is_prime  target_factor_str target_factor_list  \\\n",
       "0               False           False  > 15 13 x 19 29 .         [463, 599]   \n",
       "1               False           False  > 15 13 x 19 29 .         [463, 599]   \n",
       "2               False           False  > 15 13 x 19 29 .         [463, 599]   \n",
       "3               False           False  > 15 13 x 19 29 .         [463, 599]   \n",
       "4               False           False  > 15 13 x 19 29 .         [463, 599]   \n",
       "5               False           False  > 15 13 x 19 29 .         [463, 599]   \n",
       "6               False           False  > 15 13 x 19 29 .         [463, 599]   \n",
       "7               False           False  > 15 13 x 19 29 .         [463, 599]   \n",
       "8               False           False  > 15 13 x 19 29 .         [463, 599]   \n",
       "9               False           False  > 15 13 x 19 29 .         [463, 599]   \n",
       "\n",
       "   num_target_factors  min_target_prime_factor_if_composite  lev_dist  \n",
       "0                   2                                   463         9  \n",
       "1                   2                                   463         8  \n",
       "2                   2                                   463         5  \n",
       "3                   2                                   463         5  \n",
       "4                   2                                   463         2  \n",
       "5                   2                                   463         7  \n",
       "6                   2                                   463         7  \n",
       "7                   2                                   463         7  \n",
       "8                   2                                   463         5  \n",
       "9                   2                                   463         5  "
      ]
     },
     "execution_count": 92,
     "metadata": {},
     "output_type": "execute_result"
    }
   ],
   "source": [
    "num_df = problem.form_prediction_df(model, device,  np.array([target_num]), args['model_args']['max_decode_size'], n_beams=10)\n",
    "num_df['lev_dist'] = num_df.apply(lambda x: Levenshtein.distance(x['pred_str'].replace(' _', ''), x['target_factor_str']), axis=1)\n",
    "num_df"
   ]
  },
  {
   "cell_type": "code",
   "execution_count": 94,
   "metadata": {},
   "outputs": [
    {
     "data": {
      "text/plain": [
       "['>', 15, 13, 'x', 19, 29, '.']"
      ]
     },
     "execution_count": 94,
     "metadata": {},
     "output_type": "execute_result"
    }
   ],
   "source": [
    "problem.form_label(target_num, args['data']['base'])"
   ]
  },
  {
   "cell_type": "code",
   "execution_count": 96,
   "metadata": {},
   "outputs": [],
   "source": [
    "def get_prob_of_factorization(number, factorization):\n",
    "    tokens = t.encode(problem.form_input(number, args['data']['base']))\n",
    "    tensor_input = torch.tensor(tokens).unsqueeze(0).to(device)\n",
    "    \n",
    "    factorization_input = torch.tensor(t.encode(factorization)).unsqueeze(0).to(device)\n",
    "    \n",
    "    model_output = torch.softmax(model(tensor_input, factorization_input).squeeze(0), dim=-1)\n",
    "    \n",
    "    probs = model_output[torch.arange(model_output.size(0)-1),factorization_input[0,1:]]\n",
    "    \n",
    "    return probs.log().sum()"
   ]
  },
  {
   "cell_type": "code",
   "execution_count": 97,
   "metadata": {},
   "outputs": [
    {
     "data": {
      "text/plain": [
       "tensor(-70.3656, device='cuda:0', grad_fn=<SumBackward0>)"
      ]
     },
     "execution_count": 97,
     "metadata": {},
     "output_type": "execute_result"
    }
   ],
   "source": [
    "get_prob_of_factorization(target_num, num_df.iloc[0]['target_factor_str'].strip().split(' '))"
   ]
  },
  {
   "cell_type": "code",
   "execution_count": 98,
   "metadata": {},
   "outputs": [
    {
     "data": {
      "text/plain": [
       "tensor([[33, 15, 13, 30, 19, 29, 32]], device='cuda:0')"
      ]
     },
     "execution_count": 98,
     "metadata": {},
     "output_type": "execute_result"
    }
   ],
   "source": [
    "torch.tensor(t.encode(num_df.iloc[0]['target_factor_str'].strip().split(' '))).unsqueeze(0).to(device)"
   ]
  },
  {
   "cell_type": "code",
   "execution_count": null,
   "metadata": {},
   "outputs": [],
   "source": []
  }
 ],
 "metadata": {
  "kernelspec": {
   "display_name": "Python 3",
   "language": "python",
   "name": "python3"
  },
  "language_info": {
   "codemirror_mode": {
    "name": "ipython",
    "version": 3
   },
   "file_extension": ".py",
   "mimetype": "text/x-python",
   "name": "python",
   "nbconvert_exporter": "python",
   "pygments_lexer": "ipython3",
   "version": "3.8.7"
  }
 },
 "nbformat": 4,
 "nbformat_minor": 4
}
