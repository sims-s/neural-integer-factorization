{
 "cells": [
  {
   "cell_type": "code",
   "execution_count": 1,
   "metadata": {},
   "outputs": [],
   "source": [
    "import numpy as np\n",
    "import pandas as pd\n",
    "import torch\n",
    "import torch.nn as nn\n",
    "import matplotlib.pyplot as plt\n",
    "import os\n",
    "import sys\n",
    "sys.path.append('../src/')\n",
    "import models\n",
    "import generation_utils\n",
    "import metrics_utils\n",
    "import tokenizer\n",
    "import data_utils\n",
    "from utils import get_best_checkpoint"
   ]
  },
  {
   "cell_type": "code",
   "execution_count": 199,
   "metadata": {},
   "outputs": [
    {
     "data": {
      "text/html": [
       "<style>.container { width:100% !important; }</style>"
      ],
      "text/plain": [
       "<IPython.core.display.HTML object>"
      ]
     },
     "metadata": {},
     "output_type": "display_data"
    }
   ],
   "source": [
    "from IPython.core.display import display, HTML\n",
    "display(HTML(\"<style>.container { width:100% !important; }</style>\"))"
   ]
  },
  {
   "cell_type": "code",
   "execution_count": 3,
   "metadata": {},
   "outputs": [],
   "source": [
    "pd.set_option('display.max_colwidth', 999)\n",
    "pd.set_option('display.max_rows', 9999)"
   ]
  },
  {
   "cell_type": "code",
   "execution_count": 4,
   "metadata": {},
   "outputs": [],
   "source": [
    "device = torch.device('cuda')"
   ]
  },
  {
   "cell_type": "code",
   "execution_count": 5,
   "metadata": {},
   "outputs": [],
   "source": [
    "base_path = '../models/base_24_2^18/'"
   ]
  },
  {
   "cell_type": "code",
   "execution_count": 6,
   "metadata": {},
   "outputs": [
    {
     "name": "stdout",
     "output_type": "stream",
     "text": [
      "Loading model at ../models/base_24_2^18/checkpoints/730000_0.1004.pt\n"
     ]
    }
   ],
   "source": [
    "checkpoint = get_best_checkpoint(base_path)"
   ]
  },
  {
   "cell_type": "code",
   "execution_count": 7,
   "metadata": {},
   "outputs": [],
   "source": [
    "args = checkpoint['args']"
   ]
  },
  {
   "cell_type": "code",
   "execution_count": 8,
   "metadata": {},
   "outputs": [],
   "source": [
    "t = tokenizer.Tokenizer(base = args['data']['base'])"
   ]
  },
  {
   "cell_type": "code",
   "execution_count": 9,
   "metadata": {
    "scrolled": true
   },
   "outputs": [
    {
     "data": {
      "text/plain": [
       "dict_keys(['data', 'model_args', 'optimizer', 'scheduler', 'loader', 'io', 'metrics', 'multi_gpu', 'verbose', 'tokenizer'])"
      ]
     },
     "execution_count": 9,
     "metadata": {},
     "output_type": "execute_result"
    }
   ],
   "source": [
    "args.keys()"
   ]
  },
  {
   "cell_type": "code",
   "execution_count": 10,
   "metadata": {},
   "outputs": [
    {
     "data": {
      "text/plain": [
       "Factorizer(\n",
       "  (embedding): TransformerEmbedding(\n",
       "    (embedding): Embedding(28, 128)\n",
       "    (pe): PositionalEncoding(\n",
       "      (dropout): Dropout(p=0.05, inplace=False)\n",
       "    )\n",
       "  )\n",
       "  (transformer): Transformer(\n",
       "    (encoder): TransformerEncoder(\n",
       "      (layers): ModuleList(\n",
       "        (0): TransformerEncoderLayer(\n",
       "          (self_attn): MultiheadAttention(\n",
       "            (out_proj): _LinearWithBias(in_features=128, out_features=128, bias=True)\n",
       "          )\n",
       "          (linear1): Linear(in_features=128, out_features=512, bias=True)\n",
       "          (dropout): Dropout(p=0.05, inplace=False)\n",
       "          (linear2): Linear(in_features=512, out_features=128, bias=True)\n",
       "          (norm1): LayerNorm((128,), eps=1e-05, elementwise_affine=True)\n",
       "          (norm2): LayerNorm((128,), eps=1e-05, elementwise_affine=True)\n",
       "          (dropout1): Dropout(p=0.05, inplace=False)\n",
       "          (dropout2): Dropout(p=0.05, inplace=False)\n",
       "        )\n",
       "        (1): TransformerEncoderLayer(\n",
       "          (self_attn): MultiheadAttention(\n",
       "            (out_proj): _LinearWithBias(in_features=128, out_features=128, bias=True)\n",
       "          )\n",
       "          (linear1): Linear(in_features=128, out_features=512, bias=True)\n",
       "          (dropout): Dropout(p=0.05, inplace=False)\n",
       "          (linear2): Linear(in_features=512, out_features=128, bias=True)\n",
       "          (norm1): LayerNorm((128,), eps=1e-05, elementwise_affine=True)\n",
       "          (norm2): LayerNorm((128,), eps=1e-05, elementwise_affine=True)\n",
       "          (dropout1): Dropout(p=0.05, inplace=False)\n",
       "          (dropout2): Dropout(p=0.05, inplace=False)\n",
       "        )\n",
       "        (2): TransformerEncoderLayer(\n",
       "          (self_attn): MultiheadAttention(\n",
       "            (out_proj): _LinearWithBias(in_features=128, out_features=128, bias=True)\n",
       "          )\n",
       "          (linear1): Linear(in_features=128, out_features=512, bias=True)\n",
       "          (dropout): Dropout(p=0.05, inplace=False)\n",
       "          (linear2): Linear(in_features=512, out_features=128, bias=True)\n",
       "          (norm1): LayerNorm((128,), eps=1e-05, elementwise_affine=True)\n",
       "          (norm2): LayerNorm((128,), eps=1e-05, elementwise_affine=True)\n",
       "          (dropout1): Dropout(p=0.05, inplace=False)\n",
       "          (dropout2): Dropout(p=0.05, inplace=False)\n",
       "        )\n",
       "        (3): TransformerEncoderLayer(\n",
       "          (self_attn): MultiheadAttention(\n",
       "            (out_proj): _LinearWithBias(in_features=128, out_features=128, bias=True)\n",
       "          )\n",
       "          (linear1): Linear(in_features=128, out_features=512, bias=True)\n",
       "          (dropout): Dropout(p=0.05, inplace=False)\n",
       "          (linear2): Linear(in_features=512, out_features=128, bias=True)\n",
       "          (norm1): LayerNorm((128,), eps=1e-05, elementwise_affine=True)\n",
       "          (norm2): LayerNorm((128,), eps=1e-05, elementwise_affine=True)\n",
       "          (dropout1): Dropout(p=0.05, inplace=False)\n",
       "          (dropout2): Dropout(p=0.05, inplace=False)\n",
       "        )\n",
       "        (4): TransformerEncoderLayer(\n",
       "          (self_attn): MultiheadAttention(\n",
       "            (out_proj): _LinearWithBias(in_features=128, out_features=128, bias=True)\n",
       "          )\n",
       "          (linear1): Linear(in_features=128, out_features=512, bias=True)\n",
       "          (dropout): Dropout(p=0.05, inplace=False)\n",
       "          (linear2): Linear(in_features=512, out_features=128, bias=True)\n",
       "          (norm1): LayerNorm((128,), eps=1e-05, elementwise_affine=True)\n",
       "          (norm2): LayerNorm((128,), eps=1e-05, elementwise_affine=True)\n",
       "          (dropout1): Dropout(p=0.05, inplace=False)\n",
       "          (dropout2): Dropout(p=0.05, inplace=False)\n",
       "        )\n",
       "        (5): TransformerEncoderLayer(\n",
       "          (self_attn): MultiheadAttention(\n",
       "            (out_proj): _LinearWithBias(in_features=128, out_features=128, bias=True)\n",
       "          )\n",
       "          (linear1): Linear(in_features=128, out_features=512, bias=True)\n",
       "          (dropout): Dropout(p=0.05, inplace=False)\n",
       "          (linear2): Linear(in_features=512, out_features=128, bias=True)\n",
       "          (norm1): LayerNorm((128,), eps=1e-05, elementwise_affine=True)\n",
       "          (norm2): LayerNorm((128,), eps=1e-05, elementwise_affine=True)\n",
       "          (dropout1): Dropout(p=0.05, inplace=False)\n",
       "          (dropout2): Dropout(p=0.05, inplace=False)\n",
       "        )\n",
       "      )\n",
       "      (norm): LayerNorm((128,), eps=1e-05, elementwise_affine=True)\n",
       "    )\n",
       "    (decoder): TransformerDecoder(\n",
       "      (layers): ModuleList(\n",
       "        (0): TransformerDecoderLayer(\n",
       "          (self_attn): MultiheadAttentionAllHeads(\n",
       "            (out_proj): _LinearWithBias(in_features=128, out_features=128, bias=True)\n",
       "          )\n",
       "          (multihead_attn): MultiheadAttentionAllHeads(\n",
       "            (out_proj): _LinearWithBias(in_features=128, out_features=128, bias=True)\n",
       "          )\n",
       "          (linear1): Linear(in_features=128, out_features=512, bias=True)\n",
       "          (dropout): Dropout(p=0.05, inplace=False)\n",
       "          (linear2): Linear(in_features=512, out_features=128, bias=True)\n",
       "          (norm1): LayerNorm((128,), eps=1e-05, elementwise_affine=True)\n",
       "          (norm2): LayerNorm((128,), eps=1e-05, elementwise_affine=True)\n",
       "          (norm3): LayerNorm((128,), eps=1e-05, elementwise_affine=True)\n",
       "          (dropout1): Dropout(p=0.05, inplace=False)\n",
       "          (dropout2): Dropout(p=0.05, inplace=False)\n",
       "          (dropout3): Dropout(p=0.05, inplace=False)\n",
       "        )\n",
       "        (1): TransformerDecoderLayer(\n",
       "          (self_attn): MultiheadAttentionAllHeads(\n",
       "            (out_proj): _LinearWithBias(in_features=128, out_features=128, bias=True)\n",
       "          )\n",
       "          (multihead_attn): MultiheadAttentionAllHeads(\n",
       "            (out_proj): _LinearWithBias(in_features=128, out_features=128, bias=True)\n",
       "          )\n",
       "          (linear1): Linear(in_features=128, out_features=512, bias=True)\n",
       "          (dropout): Dropout(p=0.05, inplace=False)\n",
       "          (linear2): Linear(in_features=512, out_features=128, bias=True)\n",
       "          (norm1): LayerNorm((128,), eps=1e-05, elementwise_affine=True)\n",
       "          (norm2): LayerNorm((128,), eps=1e-05, elementwise_affine=True)\n",
       "          (norm3): LayerNorm((128,), eps=1e-05, elementwise_affine=True)\n",
       "          (dropout1): Dropout(p=0.05, inplace=False)\n",
       "          (dropout2): Dropout(p=0.05, inplace=False)\n",
       "          (dropout3): Dropout(p=0.05, inplace=False)\n",
       "        )\n",
       "        (2): TransformerDecoderLayer(\n",
       "          (self_attn): MultiheadAttentionAllHeads(\n",
       "            (out_proj): _LinearWithBias(in_features=128, out_features=128, bias=True)\n",
       "          )\n",
       "          (multihead_attn): MultiheadAttentionAllHeads(\n",
       "            (out_proj): _LinearWithBias(in_features=128, out_features=128, bias=True)\n",
       "          )\n",
       "          (linear1): Linear(in_features=128, out_features=512, bias=True)\n",
       "          (dropout): Dropout(p=0.05, inplace=False)\n",
       "          (linear2): Linear(in_features=512, out_features=128, bias=True)\n",
       "          (norm1): LayerNorm((128,), eps=1e-05, elementwise_affine=True)\n",
       "          (norm2): LayerNorm((128,), eps=1e-05, elementwise_affine=True)\n",
       "          (norm3): LayerNorm((128,), eps=1e-05, elementwise_affine=True)\n",
       "          (dropout1): Dropout(p=0.05, inplace=False)\n",
       "          (dropout2): Dropout(p=0.05, inplace=False)\n",
       "          (dropout3): Dropout(p=0.05, inplace=False)\n",
       "        )\n",
       "        (3): TransformerDecoderLayer(\n",
       "          (self_attn): MultiheadAttentionAllHeads(\n",
       "            (out_proj): _LinearWithBias(in_features=128, out_features=128, bias=True)\n",
       "          )\n",
       "          (multihead_attn): MultiheadAttentionAllHeads(\n",
       "            (out_proj): _LinearWithBias(in_features=128, out_features=128, bias=True)\n",
       "          )\n",
       "          (linear1): Linear(in_features=128, out_features=512, bias=True)\n",
       "          (dropout): Dropout(p=0.05, inplace=False)\n",
       "          (linear2): Linear(in_features=512, out_features=128, bias=True)\n",
       "          (norm1): LayerNorm((128,), eps=1e-05, elementwise_affine=True)\n",
       "          (norm2): LayerNorm((128,), eps=1e-05, elementwise_affine=True)\n",
       "          (norm3): LayerNorm((128,), eps=1e-05, elementwise_affine=True)\n",
       "          (dropout1): Dropout(p=0.05, inplace=False)\n",
       "          (dropout2): Dropout(p=0.05, inplace=False)\n",
       "          (dropout3): Dropout(p=0.05, inplace=False)\n",
       "        )\n",
       "        (4): TransformerDecoderLayer(\n",
       "          (self_attn): MultiheadAttentionAllHeads(\n",
       "            (out_proj): _LinearWithBias(in_features=128, out_features=128, bias=True)\n",
       "          )\n",
       "          (multihead_attn): MultiheadAttentionAllHeads(\n",
       "            (out_proj): _LinearWithBias(in_features=128, out_features=128, bias=True)\n",
       "          )\n",
       "          (linear1): Linear(in_features=128, out_features=512, bias=True)\n",
       "          (dropout): Dropout(p=0.05, inplace=False)\n",
       "          (linear2): Linear(in_features=512, out_features=128, bias=True)\n",
       "          (norm1): LayerNorm((128,), eps=1e-05, elementwise_affine=True)\n",
       "          (norm2): LayerNorm((128,), eps=1e-05, elementwise_affine=True)\n",
       "          (norm3): LayerNorm((128,), eps=1e-05, elementwise_affine=True)\n",
       "          (dropout1): Dropout(p=0.05, inplace=False)\n",
       "          (dropout2): Dropout(p=0.05, inplace=False)\n",
       "          (dropout3): Dropout(p=0.05, inplace=False)\n",
       "        )\n",
       "        (5): TransformerDecoderLayer(\n",
       "          (self_attn): MultiheadAttentionAllHeads(\n",
       "            (out_proj): _LinearWithBias(in_features=128, out_features=128, bias=True)\n",
       "          )\n",
       "          (multihead_attn): MultiheadAttentionAllHeads(\n",
       "            (out_proj): _LinearWithBias(in_features=128, out_features=128, bias=True)\n",
       "          )\n",
       "          (linear1): Linear(in_features=128, out_features=512, bias=True)\n",
       "          (dropout): Dropout(p=0.05, inplace=False)\n",
       "          (linear2): Linear(in_features=512, out_features=128, bias=True)\n",
       "          (norm1): LayerNorm((128,), eps=1e-05, elementwise_affine=True)\n",
       "          (norm2): LayerNorm((128,), eps=1e-05, elementwise_affine=True)\n",
       "          (norm3): LayerNorm((128,), eps=1e-05, elementwise_affine=True)\n",
       "          (dropout1): Dropout(p=0.05, inplace=False)\n",
       "          (dropout2): Dropout(p=0.05, inplace=False)\n",
       "          (dropout3): Dropout(p=0.05, inplace=False)\n",
       "        )\n",
       "      )\n",
       "      (norm): LayerNorm((128,), eps=1e-05, elementwise_affine=True)\n",
       "    )\n",
       "  )\n",
       "  (tokens_out): Linear(in_features=128, out_features=28, bias=True)\n",
       ")"
      ]
     },
     "execution_count": 10,
     "metadata": {},
     "output_type": "execute_result"
    }
   ],
   "source": [
    "model = models.Factorizer(n_tokens = args['tokenizer']['n_tokens'], \n",
    "                          pad_token_id = args['tokenizer']['pad_token_id'],\n",
    "                          **args['model_args'])\n",
    "model.load_state_dict(checkpoint['model_state_dict'])\n",
    "model.to(device)\n",
    "model.eval()"
   ]
  },
  {
   "cell_type": "markdown",
   "metadata": {},
   "source": [
    "# Visualize Embeddings"
   ]
  },
  {
   "cell_type": "code",
   "execution_count": 11,
   "metadata": {},
   "outputs": [],
   "source": [
    "embeddings = model.embedding.embedding.weight.data.cpu().numpy()"
   ]
  },
  {
   "cell_type": "code",
   "execution_count": 12,
   "metadata": {},
   "outputs": [],
   "source": [
    "tokens = [''.join(t.decode([i], decode_special=True)) for i in range(len(t))]\n",
    "special_tokens = set(['x', '_', '>', '.'])\n",
    "tokens = np.array([tok if tok in special_tokens else data_utils.base2dec([int(tok)], args['data']['base']) for tok in tokens])"
   ]
  },
  {
   "cell_type": "code",
   "execution_count": 13,
   "metadata": {},
   "outputs": [
    {
     "data": {
      "text/plain": [
       "(28, 128)"
      ]
     },
     "execution_count": 13,
     "metadata": {},
     "output_type": "execute_result"
    }
   ],
   "source": [
    "embeddings.shape"
   ]
  },
  {
   "cell_type": "code",
   "execution_count": 14,
   "metadata": {},
   "outputs": [
    {
     "data": {
      "text/plain": [
       "(28,)"
      ]
     },
     "execution_count": 14,
     "metadata": {},
     "output_type": "execute_result"
    }
   ],
   "source": [
    "tokens.shape"
   ]
  },
  {
   "cell_type": "code",
   "execution_count": 15,
   "metadata": {},
   "outputs": [
    {
     "data": {
      "text/plain": [
       "array(['0', '1', '2', '3', '4', '5', '6', '7', '8', '9', '10', '11', '12',\n",
       "       '13', '14', '15', '16', '17', '18', '19', '20', '21', '22', '23',\n",
       "       'x', '_', '.', '>'], dtype='<U11')"
      ]
     },
     "execution_count": 15,
     "metadata": {},
     "output_type": "execute_result"
    }
   ],
   "source": [
    "tokens"
   ]
  },
  {
   "cell_type": "markdown",
   "metadata": {},
   "source": [
    "## TSNE\n",
    "* Doesn't seem to be super interesting"
   ]
  },
  {
   "cell_type": "code",
   "execution_count": 16,
   "metadata": {},
   "outputs": [],
   "source": [
    "from sklearn.manifold import TSNE"
   ]
  },
  {
   "cell_type": "code",
   "execution_count": 17,
   "metadata": {},
   "outputs": [],
   "source": [
    "tsne = TSNE(perplexity=30, learning_rate=200, n_iter=1000)\n",
    "embeddings_for_plot = tsne.fit_transform(embeddings)"
   ]
  },
  {
   "cell_type": "code",
   "execution_count": 18,
   "metadata": {
    "scrolled": false
   },
   "outputs": [
    {
     "data": {
      "image/png": "[encoded data removed]",
      "text/plain": [
       "<Figure size 432x288 with 1 Axes>"
      ]
     },
     "metadata": {
      "needs_background": "light"
     },
     "output_type": "display_data"
    }
   ],
   "source": [
    "plt.scatter(embeddings_for_plot[:,0], embeddings_for_plot[:,1])\n",
    "ax = plt.gca()\n",
    "for tok, (x,y) in zip(tokens, embeddings_for_plot):\n",
    "    fontsize = 12 if not tok in ['.', '_'] else 24\n",
    "    ax.annotate(tok, (x+.3,y), fontsize=fontsize)\n",
    "plt.show()"
   ]
  },
  {
   "cell_type": "markdown",
   "metadata": {},
   "source": [
    "## Cosine Similarity\n",
    "* Some embeddings have relatively simlar cosine similarities"
   ]
  },
  {
   "cell_type": "code",
   "execution_count": 19,
   "metadata": {},
   "outputs": [],
   "source": [
    "from sklearn.metrics.pairwise import cosine_similarity"
   ]
  },
  {
   "cell_type": "code",
   "execution_count": 20,
   "metadata": {},
   "outputs": [],
   "source": [
    "cs_sim_mat = cosine_similarity(embeddings)\n",
    "cs_sims = np.triu(cs_sim_mat, 1).ravel()\n",
    "cs_sims = cs_sims[~np.isclose(cs_sims, 0)]"
   ]
  },
  {
   "cell_type": "code",
   "execution_count": 21,
   "metadata": {},
   "outputs": [
    {
     "data": {
      "image/png": "[encoded data removed]",
      "text/plain": [
       "<Figure size 432x288 with 1 Axes>"
      ]
     },
     "metadata": {
      "needs_background": "light"
     },
     "output_type": "display_data"
    }
   ],
   "source": [
    "plt.title('cosine simiarlty of embeddings')\n",
    "pd.Series(cs_sims).hist()\n",
    "plt.show()"
   ]
  },
  {
   "cell_type": "code",
   "execution_count": 22,
   "metadata": {},
   "outputs": [
    {
     "data": {
      "text/plain": [
       "(28, 28)"
      ]
     },
     "execution_count": 22,
     "metadata": {},
     "output_type": "execute_result"
    }
   ],
   "source": [
    "cs_sim_mat.shape"
   ]
  },
  {
   "cell_type": "code",
   "execution_count": 25,
   "metadata": {},
   "outputs": [
    {
     "data": {
      "image/png": "[encoded data removed]",
      "text/plain": [
       "<Figure size 1440x1440 with 2 Axes>"
      ]
     },
     "metadata": {
      "needs_background": "light"
     },
     "output_type": "display_data"
    }
   ],
   "source": [
    "mat_show_mat = cs_sim_mat[:-4,:-4]\n",
    "\n",
    "fig = plt.gcf()\n",
    "fig.set_size_inches(20, 20)\n",
    "ax = plt.gca()\n",
    "plt.colorbar(ax.matshow(np.clip(mat_show_mat, a_min=-1, a_max=mat_show_mat[mat_show_mat<.99].max()*1.1)), ax=ax)\n",
    "ax.set_xticks(np.arange(mat_show_mat.shape[0]))\n",
    "ax.set_yticks(np.arange(mat_show_mat.shape[0]))\n",
    "ax.set_xticklabels(tokens[:mat_show_mat.shape[0]])\n",
    "ax.set_yticklabels(tokens[:mat_show_mat.shape[0]])\n",
    "plt.show()"
   ]
  },
  {
   "cell_type": "code",
   "execution_count": 26,
   "metadata": {},
   "outputs": [
    {
     "data": {
      "text/plain": [
       "1.0999999344348907"
      ]
     },
     "execution_count": 26,
     "metadata": {},
     "output_type": "execute_result"
    }
   ],
   "source": [
    "cs_sim_mat[cs_sim_mat<1].max()*1.1"
   ]
  },
  {
   "cell_type": "code",
   "execution_count": null,
   "metadata": {},
   "outputs": [],
   "source": []
  },
  {
   "cell_type": "code",
   "execution_count": null,
   "metadata": {},
   "outputs": [],
   "source": []
  },
  {
   "cell_type": "code",
   "execution_count": null,
   "metadata": {},
   "outputs": [],
   "source": []
  },
  {
   "cell_type": "code",
   "execution_count": null,
   "metadata": {},
   "outputs": [],
   "source": []
  },
  {
   "cell_type": "code",
   "execution_count": 27,
   "metadata": {},
   "outputs": [],
   "source": [
    "from sklearn.linear_model import LogisticRegression\n",
    "from sklearn.svm import SVC"
   ]
  },
  {
   "cell_type": "code",
   "execution_count": 28,
   "metadata": {},
   "outputs": [],
   "source": [
    "logreg = LogisticRegression(C = .1, penalty='l1', solver='liblinear')\n",
    "# logreg = SVC()"
   ]
  },
  {
   "cell_type": "code",
   "execution_count": 29,
   "metadata": {},
   "outputs": [
    {
     "data": {
      "text/plain": [
       "((28, 128), (28,))"
      ]
     },
     "execution_count": 29,
     "metadata": {},
     "output_type": "execute_result"
    }
   ],
   "source": [
    "embeddings.shape, tokens.shape"
   ]
  },
  {
   "cell_type": "code",
   "execution_count": 30,
   "metadata": {},
   "outputs": [],
   "source": [
    "logreg_x = embeddings[:-4]\n",
    "logreg_y = tokens[:-4].astype(int) % 2"
   ]
  },
  {
   "cell_type": "code",
   "execution_count": 31,
   "metadata": {},
   "outputs": [],
   "source": [
    "train_indexer = np.random.rand(logreg_x.shape[0]) < .8\n",
    "logreg_x_train = logreg_x[train_indexer]\n",
    "logreg_x_test = logreg_x[~train_indexer]\n",
    "\n",
    "logreg_y_train = logreg_y[train_indexer]\n",
    "logreg_y_test = logreg_y[~train_indexer]"
   ]
  },
  {
   "cell_type": "code",
   "execution_count": 32,
   "metadata": {},
   "outputs": [
    {
     "data": {
      "text/plain": [
       "((23, 128), (23,))"
      ]
     },
     "execution_count": 32,
     "metadata": {},
     "output_type": "execute_result"
    }
   ],
   "source": [
    "logreg_x_train.shape, logreg_y_train.shape"
   ]
  },
  {
   "cell_type": "code",
   "execution_count": 33,
   "metadata": {},
   "outputs": [
    {
     "data": {
      "text/plain": [
       "((1, 128), (1,))"
      ]
     },
     "execution_count": 33,
     "metadata": {},
     "output_type": "execute_result"
    }
   ],
   "source": [
    "logreg_x_test.shape, logreg_y_test.shape"
   ]
  },
  {
   "cell_type": "code",
   "execution_count": 34,
   "metadata": {},
   "outputs": [
    {
     "data": {
      "text/plain": [
       "LogisticRegression(C=0.1, penalty='l1', solver='liblinear')"
      ]
     },
     "execution_count": 34,
     "metadata": {},
     "output_type": "execute_result"
    }
   ],
   "source": [
    "logreg.fit(logreg_x_train, logreg_y_train)"
   ]
  },
  {
   "cell_type": "code",
   "execution_count": 35,
   "metadata": {},
   "outputs": [
    {
     "data": {
      "text/plain": [
       "0.0"
      ]
     },
     "execution_count": 35,
     "metadata": {},
     "output_type": "execute_result"
    }
   ],
   "source": [
    "logreg.score(logreg_x_test, logreg_y_test)"
   ]
  },
  {
   "cell_type": "markdown",
   "metadata": {},
   "source": [
    "# How well does the model do on numbers higher than what it was trained on?"
   ]
  },
  {
   "cell_type": "code",
   "execution_count": 54,
   "metadata": {},
   "outputs": [],
   "source": [
    "start = 2**18\n",
    "length = 100\n",
    "numbers = np.arange(start, start + length)"
   ]
  },
  {
   "cell_type": "code",
   "execution_count": 55,
   "metadata": {},
   "outputs": [
    {
     "data": {
      "text/plain": [
       "<module 'generation_utils' from '../src\\\\generation_utils.py'>"
      ]
     },
     "execution_count": 55,
     "metadata": {},
     "output_type": "execute_result"
    }
   ],
   "source": [
    "import importlib\n",
    "importlib.reload(metrics_utils)\n",
    "importlib.reload(generation_utils)"
   ]
  },
  {
   "cell_type": "code",
   "execution_count": 56,
   "metadata": {},
   "outputs": [
    {
     "data": {
      "text/plain": [
       "<tokenizer.Tokenizer at 0x24c4537ebb0>"
      ]
     },
     "execution_count": 56,
     "metadata": {},
     "output_type": "execute_result"
    }
   ],
   "source": [
    "t"
   ]
  },
  {
   "cell_type": "code",
   "execution_count": 57,
   "metadata": {},
   "outputs": [
    {
     "data": {
      "application/vnd.jupyter.widget-view+json": {
       "model_id": "",
       "version_major": 2,
       "version_minor": 0
      },
      "text/plain": [
       "HBox(children=(FloatProgress(value=0.0, max=1000.0), HTML(value='')))"
      ]
     },
     "metadata": {},
     "output_type": "display_data"
    }
   ],
   "source": [
    "larger_df = metrics_utils.form_factor_df(model, t, device, args['data']['base'], numbers, args['model_args']['max_decode_size'], postprocess_minimal=True, n_beams = 10)"
   ]
  },
  {
   "cell_type": "code",
   "execution_count": 58,
   "metadata": {},
   "outputs": [
    {
     "data": {
      "text/plain": [
       "(10000, 7)"
      ]
     },
     "execution_count": 58,
     "metadata": {},
     "output_type": "execute_result"
    }
   ],
   "source": [
    "larger_df.shape"
   ]
  },
  {
   "cell_type": "code",
   "execution_count": 59,
   "metadata": {},
   "outputs": [
    {
     "data": {
      "text/html": [
       "<div>\n",
       "<style scoped>\n",
       "    .dataframe tbody tr th:only-of-type {\n",
       "        vertical-align: middle;\n",
       "    }\n",
       "\n",
       "    .dataframe tbody tr th {\n",
       "        vertical-align: top;\n",
       "    }\n",
       "\n",
       "    .dataframe thead th {\n",
       "        text-align: right;\n",
       "    }\n",
       "</style>\n",
       "<table border=\"1\" class=\"dataframe\">\n",
       "  <thead>\n",
       "    <tr style=\"text-align: right;\">\n",
       "      <th></th>\n",
       "      <th>target_num</th>\n",
       "      <th>beam_idx</th>\n",
       "      <th>log_prob</th>\n",
       "      <th>pred_factor_list</th>\n",
       "      <th>product</th>\n",
       "      <th>correct_product</th>\n",
       "      <th>correct_factorization</th>\n",
       "    </tr>\n",
       "  </thead>\n",
       "  <tbody>\n",
       "    <tr>\n",
       "      <th>0</th>\n",
       "      <td>262144</td>\n",
       "      <td>0</td>\n",
       "      <td>-2.732651</td>\n",
       "      <td>[2, 2, 2, 2, 2, 2, 2, 2, 2, 2, 2, 107]</td>\n",
       "      <td>219136</td>\n",
       "      <td>False</td>\n",
       "      <td>False</td>\n",
       "    </tr>\n",
       "    <tr>\n",
       "      <th>1</th>\n",
       "      <td>262144</td>\n",
       "      <td>1</td>\n",
       "      <td>-2.737670</td>\n",
       "      <td>[2, 2, 2, 2, 2, 2, 2, 2, 2, 2, 2, 11, 11]</td>\n",
       "      <td>247808</td>\n",
       "      <td>False</td>\n",
       "      <td>False</td>\n",
       "    </tr>\n",
       "    <tr>\n",
       "      <th>2</th>\n",
       "      <td>262144</td>\n",
       "      <td>2</td>\n",
       "      <td>-2.973492</td>\n",
       "      <td>[2, 2, 2, 2, 2, 2, 2, 2, 2, 2, 2, 5, 5, 5]</td>\n",
       "      <td>256000</td>\n",
       "      <td>False</td>\n",
       "      <td>False</td>\n",
       "    </tr>\n",
       "    <tr>\n",
       "      <th>3</th>\n",
       "      <td>262144</td>\n",
       "      <td>3</td>\n",
       "      <td>-3.054171</td>\n",
       "      <td>[2, 2, 2, 2, 2, 2, 2, 2, 2, 2, 2, 7, 13]</td>\n",
       "      <td>186368</td>\n",
       "      <td>False</td>\n",
       "      <td>False</td>\n",
       "    </tr>\n",
       "    <tr>\n",
       "      <th>4</th>\n",
       "      <td>262144</td>\n",
       "      <td>4</td>\n",
       "      <td>-3.356747</td>\n",
       "      <td>[2, 2, 2, 2, 2, 2, 2, 2, 2, 2, 2, 7, 17]</td>\n",
       "      <td>243712</td>\n",
       "      <td>False</td>\n",
       "      <td>False</td>\n",
       "    </tr>\n",
       "  </tbody>\n",
       "</table>\n",
       "</div>"
      ],
      "text/plain": [
       "   target_num  beam_idx  log_prob                            pred_factor_list  \\\n",
       "0      262144         0 -2.732651      [2, 2, 2, 2, 2, 2, 2, 2, 2, 2, 2, 107]   \n",
       "1      262144         1 -2.737670   [2, 2, 2, 2, 2, 2, 2, 2, 2, 2, 2, 11, 11]   \n",
       "2      262144         2 -2.973492  [2, 2, 2, 2, 2, 2, 2, 2, 2, 2, 2, 5, 5, 5]   \n",
       "3      262144         3 -3.054171    [2, 2, 2, 2, 2, 2, 2, 2, 2, 2, 2, 7, 13]   \n",
       "4      262144         4 -3.356747    [2, 2, 2, 2, 2, 2, 2, 2, 2, 2, 2, 7, 17]   \n",
       "\n",
       "   product  correct_product  correct_factorization  \n",
       "0   219136            False                  False  \n",
       "1   247808            False                  False  \n",
       "2   256000            False                  False  \n",
       "3   186368            False                  False  \n",
       "4   243712            False                  False  "
      ]
     },
     "execution_count": 59,
     "metadata": {},
     "output_type": "execute_result"
    }
   ],
   "source": [
    "larger_df.head(5)"
   ]
  },
  {
   "cell_type": "code",
   "execution_count": 60,
   "metadata": {
    "scrolled": false
   },
   "outputs": [
    {
     "data": {
      "text/plain": [
       "correct_factorization    0.611\n",
       "dtype: float64"
      ]
     },
     "execution_count": 60,
     "metadata": {},
     "output_type": "execute_result"
    }
   ],
   "source": [
    "larger_df.groupby('target_num').agg({'correct_factorization' : 'any'}).mean()"
   ]
  },
  {
   "cell_type": "code",
   "execution_count": 61,
   "metadata": {},
   "outputs": [
    {
     "data": {
      "text/plain": [
       "0.519"
      ]
     },
     "execution_count": 61,
     "metadata": {},
     "output_type": "execute_result"
    }
   ],
   "source": [
    "top_beams = larger_df['beam_idx'] == 9\n",
    "(larger_df[top_beams]['product'] < larger_df[top_beams]['target_num']).mean()"
   ]
  },
  {
   "cell_type": "code",
   "execution_count": null,
   "metadata": {},
   "outputs": [],
   "source": []
  },
  {
   "cell_type": "code",
   "execution_count": 62,
   "metadata": {
    "scrolled": true
   },
   "outputs": [
    {
     "data": {
      "text/plain": [
       "<function generation_utils.factor(number, base, model, tokenizer, device, max_decode_size, n_beams=1, temperature=1.0, return_type='df', postprocess_minimal=False)>"
      ]
     },
     "execution_count": 62,
     "metadata": {},
     "output_type": "execute_result"
    }
   ],
   "source": [
    "generation_utils.factor"
   ]
  },
  {
   "cell_type": "code",
   "execution_count": 63,
   "metadata": {},
   "outputs": [],
   "source": [
    "from sympy import factorint\n",
    "from sympy.ntheory import primerange"
   ]
  },
  {
   "cell_type": "code",
   "execution_count": 64,
   "metadata": {},
   "outputs": [
    {
     "data": {
      "text/plain": [
       "array([ 4,  9, 25, 49], dtype=int32)"
      ]
     },
     "execution_count": 64,
     "metadata": {},
     "output_type": "execute_result"
    }
   ],
   "source": [
    "np.array(list(primerange(2, 10)))**2"
   ]
  },
  {
   "cell_type": "code",
   "execution_count": 65,
   "metadata": {},
   "outputs": [],
   "source": [
    "test_num = 1223*1223"
   ]
  },
  {
   "cell_type": "code",
   "execution_count": 66,
   "metadata": {
    "scrolled": true
   },
   "outputs": [
    {
     "data": {
      "text/plain": [
       "{1223: 2}"
      ]
     },
     "execution_count": 66,
     "metadata": {},
     "output_type": "execute_result"
    }
   ],
   "source": [
    "factorint(test_num)"
   ]
  },
  {
   "cell_type": "code",
   "execution_count": 197,
   "metadata": {},
   "outputs": [
    {
     "data": {
      "text/plain": [
       "18.774590832114356"
      ]
     },
     "execution_count": 197,
     "metadata": {},
     "output_type": "execute_result"
    }
   ],
   "source": [
    "np.log(448451)/np.log(2)"
   ]
  },
  {
   "cell_type": "code",
   "execution_count": 207,
   "metadata": {},
   "outputs": [],
   "source": [
    "import Levenshtein"
   ]
  },
  {
   "cell_type": "code",
   "execution_count": 211,
   "metadata": {},
   "outputs": [
    {
     "data": {
      "application/vnd.jupyter.widget-view+json": {
       "model_id": "",
       "version_major": 2,
       "version_minor": 0
      },
      "text/plain": [
       "HBox(children=(FloatProgress(value=0.0, max=1.0), HTML(value='')))"
      ]
     },
     "metadata": {},
     "output_type": "display_data"
    },
    {
     "data": {
      "text/html": [
       "<div>\n",
       "<style scoped>\n",
       "    .dataframe tbody tr th:only-of-type {\n",
       "        vertical-align: middle;\n",
       "    }\n",
       "\n",
       "    .dataframe tbody tr th {\n",
       "        vertical-align: top;\n",
       "    }\n",
       "\n",
       "    .dataframe thead th {\n",
       "        text-align: right;\n",
       "    }\n",
       "</style>\n",
       "<table border=\"1\" class=\"dataframe\">\n",
       "  <thead>\n",
       "    <tr style=\"text-align: right;\">\n",
       "      <th></th>\n",
       "      <th>target_num</th>\n",
       "      <th>beam_idx</th>\n",
       "      <th>log_prob</th>\n",
       "      <th>pred_factor_list</th>\n",
       "      <th>product</th>\n",
       "      <th>correct_product</th>\n",
       "      <th>correct_factorization</th>\n",
       "      <th>target_is_prime</th>\n",
       "      <th>input_string</th>\n",
       "      <th>pred_list</th>\n",
       "      <th>pred_str</th>\n",
       "      <th>target_str</th>\n",
       "      <th>target_factor_list</th>\n",
       "      <th>n_target_factors</th>\n",
       "      <th>n_pred_factors</th>\n",
       "      <th>num_prime_factors_pred</th>\n",
       "      <th>percent_prime_factors_pred</th>\n",
       "      <th>pred_same_as_target</th>\n",
       "      <th>min_target_prime_factor_if_composite</th>\n",
       "      <th>lev_dist</th>\n",
       "    </tr>\n",
       "  </thead>\n",
       "  <tbody>\n",
       "    <tr>\n",
       "      <th>0</th>\n",
       "      <td>444841</td>\n",
       "      <td>0</td>\n",
       "      <td>-2.526956</td>\n",
       "      <td>[60001]</td>\n",
       "      <td>60001</td>\n",
       "      <td>False</td>\n",
       "      <td>False</td>\n",
       "      <td>True</td>\n",
       "      <td>[1, 8, 4, 7, 1]</td>\n",
       "      <td>[[4, 8, 4, 1]]</td>\n",
       "      <td>&gt; 4 8 4 1 . _ _ _ _ _ _</td>\n",
       "      <td>&gt; 1 8 4 7 1 .</td>\n",
       "      <td>[444841]</td>\n",
       "      <td>1</td>\n",
       "      <td>1</td>\n",
       "      <td>0</td>\n",
       "      <td>0.0</td>\n",
       "      <td>False</td>\n",
       "      <td>-1</td>\n",
       "      <td>3</td>\n",
       "    </tr>\n",
       "    <tr>\n",
       "      <th>1</th>\n",
       "      <td>444841</td>\n",
       "      <td>1</td>\n",
       "      <td>-3.367818</td>\n",
       "      <td>[60007]</td>\n",
       "      <td>60007</td>\n",
       "      <td>False</td>\n",
       "      <td>False</td>\n",
       "      <td>True</td>\n",
       "      <td>[1, 8, 4, 7, 1]</td>\n",
       "      <td>[[4, 8, 4, 7]]</td>\n",
       "      <td>&gt; 4 8 4 7 . _ _ _ _ _ _</td>\n",
       "      <td>&gt; 1 8 4 7 1 .</td>\n",
       "      <td>[444841]</td>\n",
       "      <td>1</td>\n",
       "      <td>1</td>\n",
       "      <td>0</td>\n",
       "      <td>0.0</td>\n",
       "      <td>False</td>\n",
       "      <td>-1</td>\n",
       "      <td>3</td>\n",
       "    </tr>\n",
       "    <tr>\n",
       "      <th>2</th>\n",
       "      <td>444841</td>\n",
       "      <td>2</td>\n",
       "      <td>-4.399067</td>\n",
       "      <td>[239713]</td>\n",
       "      <td>239713</td>\n",
       "      <td>False</td>\n",
       "      <td>False</td>\n",
       "      <td>True</td>\n",
       "      <td>[1, 8, 4, 7, 1]</td>\n",
       "      <td>[[17, 8, 4, 1]]</td>\n",
       "      <td>&gt; 17 8 4 1 . _ _ _ _ _ _</td>\n",
       "      <td>&gt; 1 8 4 7 1 .</td>\n",
       "      <td>[444841]</td>\n",
       "      <td>1</td>\n",
       "      <td>1</td>\n",
       "      <td>1</td>\n",
       "      <td>1.0</td>\n",
       "      <td>False</td>\n",
       "      <td>-1</td>\n",
       "      <td>3</td>\n",
       "    </tr>\n",
       "    <tr>\n",
       "      <th>3</th>\n",
       "      <td>444841</td>\n",
       "      <td>3</td>\n",
       "      <td>-4.577717</td>\n",
       "      <td>[239719]</td>\n",
       "      <td>239719</td>\n",
       "      <td>False</td>\n",
       "      <td>False</td>\n",
       "      <td>True</td>\n",
       "      <td>[1, 8, 4, 7, 1]</td>\n",
       "      <td>[[17, 8, 4, 7]]</td>\n",
       "      <td>&gt; 17 8 4 7 . _ _ _ _ _ _</td>\n",
       "      <td>&gt; 1 8 4 7 1 .</td>\n",
       "      <td>[444841]</td>\n",
       "      <td>1</td>\n",
       "      <td>1</td>\n",
       "      <td>0</td>\n",
       "      <td>0.0</td>\n",
       "      <td>False</td>\n",
       "      <td>-1</td>\n",
       "      <td>3</td>\n",
       "    </tr>\n",
       "    <tr>\n",
       "      <th>4</th>\n",
       "      <td>444841</td>\n",
       "      <td>4</td>\n",
       "      <td>-5.635875</td>\n",
       "      <td>[5, 29, 673]</td>\n",
       "      <td>97585</td>\n",
       "      <td>False</td>\n",
       "      <td>False</td>\n",
       "      <td>True</td>\n",
       "      <td>[1, 8, 4, 7, 1]</td>\n",
       "      <td>[[5], [1, 5], [1, 4, 1]]</td>\n",
       "      <td>&gt; 5 x 1 5 x 1 4 1 . _ _</td>\n",
       "      <td>&gt; 1 8 4 7 1 .</td>\n",
       "      <td>[444841]</td>\n",
       "      <td>1</td>\n",
       "      <td>3</td>\n",
       "      <td>3</td>\n",
       "      <td>1.0</td>\n",
       "      <td>False</td>\n",
       "      <td>-1</td>\n",
       "      <td>9</td>\n",
       "    </tr>\n",
       "    <tr>\n",
       "      <th>5</th>\n",
       "      <td>444841</td>\n",
       "      <td>5</td>\n",
       "      <td>-5.928322</td>\n",
       "      <td>[5, 43, 353]</td>\n",
       "      <td>75895</td>\n",
       "      <td>False</td>\n",
       "      <td>False</td>\n",
       "      <td>True</td>\n",
       "      <td>[1, 8, 4, 7, 1]</td>\n",
       "      <td>[[5], [1, 19], [14, 17]]</td>\n",
       "      <td>&gt; 5 x 1 19 x 14 17 . _ _ _</td>\n",
       "      <td>&gt; 1 8 4 7 1 .</td>\n",
       "      <td>[444841]</td>\n",
       "      <td>1</td>\n",
       "      <td>3</td>\n",
       "      <td>3</td>\n",
       "      <td>1.0</td>\n",
       "      <td>False</td>\n",
       "      <td>-1</td>\n",
       "      <td>10</td>\n",
       "    </tr>\n",
       "    <tr>\n",
       "      <th>6</th>\n",
       "      <td>444841</td>\n",
       "      <td>6</td>\n",
       "      <td>-6.758257</td>\n",
       "      <td>[5, 5, 7, 7, 83]</td>\n",
       "      <td>101675</td>\n",
       "      <td>False</td>\n",
       "      <td>False</td>\n",
       "      <td>True</td>\n",
       "      <td>[1, 8, 4, 7, 1]</td>\n",
       "      <td>[[5], [5], [7], [7], [3, 11]]</td>\n",
       "      <td>&gt; 5 x 5 x 7 x 7 x 3 11 .</td>\n",
       "      <td>&gt; 1 8 4 7 1 .</td>\n",
       "      <td>[444841]</td>\n",
       "      <td>1</td>\n",
       "      <td>5</td>\n",
       "      <td>5</td>\n",
       "      <td>1.0</td>\n",
       "      <td>False</td>\n",
       "      <td>-1</td>\n",
       "      <td>14</td>\n",
       "    </tr>\n",
       "    <tr>\n",
       "      <th>7</th>\n",
       "      <td>444841</td>\n",
       "      <td>7</td>\n",
       "      <td>-6.775347</td>\n",
       "      <td>[5, 43, 311]</td>\n",
       "      <td>66865</td>\n",
       "      <td>False</td>\n",
       "      <td>False</td>\n",
       "      <td>True</td>\n",
       "      <td>[1, 8, 4, 7, 1]</td>\n",
       "      <td>[[5], [1, 19], [12, 23]]</td>\n",
       "      <td>&gt; 5 x 1 19 x 12 23 . _ _ _</td>\n",
       "      <td>&gt; 1 8 4 7 1 .</td>\n",
       "      <td>[444841]</td>\n",
       "      <td>1</td>\n",
       "      <td>3</td>\n",
       "      <td>3</td>\n",
       "      <td>1.0</td>\n",
       "      <td>False</td>\n",
       "      <td>-1</td>\n",
       "      <td>11</td>\n",
       "    </tr>\n",
       "    <tr>\n",
       "      <th>8</th>\n",
       "      <td>444841</td>\n",
       "      <td>8</td>\n",
       "      <td>-7.171434</td>\n",
       "      <td>[5, 5, 5, 5, 97]</td>\n",
       "      <td>60625</td>\n",
       "      <td>False</td>\n",
       "      <td>False</td>\n",
       "      <td>True</td>\n",
       "      <td>[1, 8, 4, 7, 1]</td>\n",
       "      <td>[[5], [5], [5], [5], [4, 1]]</td>\n",
       "      <td>&gt; 5 x 5 x 5 x 5 x 4 1 .</td>\n",
       "      <td>&gt; 1 8 4 7 1 .</td>\n",
       "      <td>[444841]</td>\n",
       "      <td>1</td>\n",
       "      <td>5</td>\n",
       "      <td>5</td>\n",
       "      <td>1.0</td>\n",
       "      <td>False</td>\n",
       "      <td>-1</td>\n",
       "      <td>14</td>\n",
       "    </tr>\n",
       "    <tr>\n",
       "      <th>9</th>\n",
       "      <td>444841</td>\n",
       "      <td>9</td>\n",
       "      <td>-8.371604</td>\n",
       "      <td>[5, 5, 5, 701]</td>\n",
       "      <td>87625</td>\n",
       "      <td>False</td>\n",
       "      <td>False</td>\n",
       "      <td>True</td>\n",
       "      <td>[1, 8, 4, 7, 1]</td>\n",
       "      <td>[[5], [5], [5], [1, 5, 5]]</td>\n",
       "      <td>&gt; 5 x 5 x 5 x 1 5 5 . _</td>\n",
       "      <td>&gt; 1 8 4 7 1 .</td>\n",
       "      <td>[444841]</td>\n",
       "      <td>1</td>\n",
       "      <td>4</td>\n",
       "      <td>4</td>\n",
       "      <td>1.0</td>\n",
       "      <td>False</td>\n",
       "      <td>-1</td>\n",
       "      <td>12</td>\n",
       "    </tr>\n",
       "  </tbody>\n",
       "</table>\n",
       "</div>"
      ],
      "text/plain": [
       "   target_num  beam_idx  log_prob  pred_factor_list  product  correct_product  \\\n",
       "0      444841         0 -2.526956           [60001]    60001            False   \n",
       "1      444841         1 -3.367818           [60007]    60007            False   \n",
       "2      444841         2 -4.399067          [239713]   239713            False   \n",
       "3      444841         3 -4.577717          [239719]   239719            False   \n",
       "4      444841         4 -5.635875      [5, 29, 673]    97585            False   \n",
       "5      444841         5 -5.928322      [5, 43, 353]    75895            False   \n",
       "6      444841         6 -6.758257  [5, 5, 7, 7, 83]   101675            False   \n",
       "7      444841         7 -6.775347      [5, 43, 311]    66865            False   \n",
       "8      444841         8 -7.171434  [5, 5, 5, 5, 97]    60625            False   \n",
       "9      444841         9 -8.371604    [5, 5, 5, 701]    87625            False   \n",
       "\n",
       "   correct_factorization  target_is_prime     input_string  \\\n",
       "0                  False             True  [1, 8, 4, 7, 1]   \n",
       "1                  False             True  [1, 8, 4, 7, 1]   \n",
       "2                  False             True  [1, 8, 4, 7, 1]   \n",
       "3                  False             True  [1, 8, 4, 7, 1]   \n",
       "4                  False             True  [1, 8, 4, 7, 1]   \n",
       "5                  False             True  [1, 8, 4, 7, 1]   \n",
       "6                  False             True  [1, 8, 4, 7, 1]   \n",
       "7                  False             True  [1, 8, 4, 7, 1]   \n",
       "8                  False             True  [1, 8, 4, 7, 1]   \n",
       "9                  False             True  [1, 8, 4, 7, 1]   \n",
       "\n",
       "                       pred_list                    pred_str     target_str  \\\n",
       "0                 [[4, 8, 4, 1]]     > 4 8 4 1 . _ _ _ _ _ _  > 1 8 4 7 1 .   \n",
       "1                 [[4, 8, 4, 7]]     > 4 8 4 7 . _ _ _ _ _ _  > 1 8 4 7 1 .   \n",
       "2                [[17, 8, 4, 1]]    > 17 8 4 1 . _ _ _ _ _ _  > 1 8 4 7 1 .   \n",
       "3                [[17, 8, 4, 7]]    > 17 8 4 7 . _ _ _ _ _ _  > 1 8 4 7 1 .   \n",
       "4       [[5], [1, 5], [1, 4, 1]]     > 5 x 1 5 x 1 4 1 . _ _  > 1 8 4 7 1 .   \n",
       "5       [[5], [1, 19], [14, 17]]  > 5 x 1 19 x 14 17 . _ _ _  > 1 8 4 7 1 .   \n",
       "6  [[5], [5], [7], [7], [3, 11]]    > 5 x 5 x 7 x 7 x 3 11 .  > 1 8 4 7 1 .   \n",
       "7       [[5], [1, 19], [12, 23]]  > 5 x 1 19 x 12 23 . _ _ _  > 1 8 4 7 1 .   \n",
       "8   [[5], [5], [5], [5], [4, 1]]     > 5 x 5 x 5 x 5 x 4 1 .  > 1 8 4 7 1 .   \n",
       "9     [[5], [5], [5], [1, 5, 5]]     > 5 x 5 x 5 x 1 5 5 . _  > 1 8 4 7 1 .   \n",
       "\n",
       "  target_factor_list  n_target_factors  n_pred_factors  \\\n",
       "0           [444841]                 1               1   \n",
       "1           [444841]                 1               1   \n",
       "2           [444841]                 1               1   \n",
       "3           [444841]                 1               1   \n",
       "4           [444841]                 1               3   \n",
       "5           [444841]                 1               3   \n",
       "6           [444841]                 1               5   \n",
       "7           [444841]                 1               3   \n",
       "8           [444841]                 1               5   \n",
       "9           [444841]                 1               4   \n",
       "\n",
       "   num_prime_factors_pred  percent_prime_factors_pred  pred_same_as_target  \\\n",
       "0                       0                         0.0                False   \n",
       "1                       0                         0.0                False   \n",
       "2                       1                         1.0                False   \n",
       "3                       0                         0.0                False   \n",
       "4                       3                         1.0                False   \n",
       "5                       3                         1.0                False   \n",
       "6                       5                         1.0                False   \n",
       "7                       3                         1.0                False   \n",
       "8                       5                         1.0                False   \n",
       "9                       4                         1.0                False   \n",
       "\n",
       "   min_target_prime_factor_if_composite  lev_dist  \n",
       "0                                    -1         3  \n",
       "1                                    -1         3  \n",
       "2                                    -1         3  \n",
       "3                                    -1         3  \n",
       "4                                    -1         9  \n",
       "5                                    -1        10  \n",
       "6                                    -1        14  \n",
       "7                                    -1        11  \n",
       "8                                    -1        14  \n",
       "9                                    -1        12  "
      ]
     },
     "execution_count": 211,
     "metadata": {},
     "output_type": "execute_result"
    }
   ],
   "source": [
    "num_df = metrics_utils.form_factor_df(model, t, device, args['data']['base'], np.array([444841]), args['model_args']['max_decode_size'], postprocess_minimal=False, n_beams = 10)\n",
    "num_df['lev_dist'] = num_df.apply(lambda x: Levenshtein.distance(x['pred_str'].replace(' _', ''), x['target_str']), axis=1)\n",
    "num_df"
   ]
  },
  {
   "cell_type": "code",
   "execution_count": null,
   "metadata": {},
   "outputs": [],
   "source": []
  },
  {
   "cell_type": "markdown",
   "metadata": {},
   "source": [
    "### how does it handle squares/cubes/...?"
   ]
  },
  {
   "cell_type": "code",
   "execution_count": 72,
   "metadata": {},
   "outputs": [],
   "source": [
    "max_num = 256\n",
    "squares = np.array(list(primerange(2, max_num)))**2\n",
    "cubes = np.array(list(primerange(2, max_num)))**3"
   ]
  },
  {
   "cell_type": "code",
   "execution_count": 73,
   "metadata": {},
   "outputs": [
    {
     "data": {
      "application/vnd.jupyter.widget-view+json": {
       "model_id": "",
       "version_major": 2,
       "version_minor": 0
      },
      "text/plain": [
       "HBox(children=(FloatProgress(value=0.0, max=54.0), HTML(value='')))"
      ]
     },
     "metadata": {},
     "output_type": "display_data"
    }
   ],
   "source": [
    "square_df = metrics_utils.form_factor_df(model, t, device, args['data']['base'], squares, args['model_args']['max_decode_size'], postprocess_minimal=True, n_beams = 10)"
   ]
  },
  {
   "cell_type": "code",
   "execution_count": 74,
   "metadata": {
    "scrolled": false
   },
   "outputs": [
    {
     "data": {
      "text/plain": [
       "0.6296296296296297"
      ]
     },
     "execution_count": 74,
     "metadata": {},
     "output_type": "execute_result"
    }
   ],
   "source": [
    "square_df[square_df['beam_idx']==0]['correct_factorization'].mean()"
   ]
  },
  {
   "cell_type": "code",
   "execution_count": 75,
   "metadata": {},
   "outputs": [
    {
     "data": {
      "application/vnd.jupyter.widget-view+json": {
       "model_id": "",
       "version_major": 2,
       "version_minor": 0
      },
      "text/plain": [
       "HBox(children=(FloatProgress(value=0.0, max=54.0), HTML(value='')))"
      ]
     },
     "metadata": {},
     "output_type": "display_data"
    }
   ],
   "source": [
    "cube_df = metrics_utils.form_factor_df(model, t, device, args['data']['base'], cubes, args['model_args']['max_decode_size'], postprocess_minimal=True, n_beams = 10)"
   ]
  },
  {
   "cell_type": "code",
   "execution_count": 76,
   "metadata": {},
   "outputs": [
    {
     "data": {
      "text/plain": [
       "0.18518518518518517"
      ]
     },
     "execution_count": 76,
     "metadata": {},
     "output_type": "execute_result"
    }
   ],
   "source": [
    "cube_df[cube_df['beam_idx']==0]['correct_factorization'].mean()"
   ]
  },
  {
   "cell_type": "markdown",
   "metadata": {},
   "source": [
    "### When encoding two different numbers, what are the cosine similarities of their representations?"
   ]
  },
  {
   "cell_type": "code",
   "execution_count": 200,
   "metadata": {},
   "outputs": [],
   "source": [
    "first_int = 16\n",
    "second_int = 32"
   ]
  },
  {
   "cell_type": "code",
   "execution_count": 201,
   "metadata": {},
   "outputs": [],
   "source": [
    "def get_reps_for_number(number):\n",
    "    tokens = t.encode(data_utils.form_input(number, args['data']['base']))\n",
    "    tens = torch.tensor(tokens).unsqueeze(0).to(device)\n",
    "    memory, _ = model.encode(tens)\n",
    "    return memory.squeeze().data.cpu().numpy(), tokens"
   ]
  },
  {
   "cell_type": "code",
   "execution_count": 202,
   "metadata": {},
   "outputs": [],
   "source": [
    "first_reps, first_tokens = get_reps_for_number(first_int)\n",
    "second_reps, second_tokens = get_reps_for_number(second_int)"
   ]
  },
  {
   "cell_type": "code",
   "execution_count": 203,
   "metadata": {},
   "outputs": [],
   "source": [
    "cs_sims = cosine_similarity(first_reps, second_reps)"
   ]
  },
  {
   "cell_type": "code",
   "execution_count": 204,
   "metadata": {},
   "outputs": [
    {
     "data": {
      "image/png": "[encoded data removed]",
      "text/plain": [
       "<Figure size 576x576 with 2 Axes>"
      ]
     },
     "metadata": {
      "needs_background": "light"
     },
     "output_type": "display_data"
    }
   ],
   "source": [
    "fig = plt.gcf()\n",
    "fig.set_size_inches(8,8)\n",
    "ax = plt.gca()\n",
    "plt.colorbar(ax.matshow(cs_sims), ax=ax)\n",
    "ax.set_xticks(np.arange(cs_sims.shape[1]))\n",
    "ax.set_yticks(np.arange(cs_sims.shape[0]))\n",
    "ax.set_xticklabels(t.decode(second_tokens, decode_special=True).split(' '))\n",
    "ax.set_yticklabels(t.decode(first_tokens, decode_special=True).split(' '))\n",
    "plt.show()"
   ]
  },
  {
   "cell_type": "markdown",
   "metadata": {},
   "source": [
    "# When the model gets it wrong, what is the probability of the right sequence?"
   ]
  },
  {
   "cell_type": "code",
   "execution_count": 276,
   "metadata": {},
   "outputs": [],
   "source": [
    "target_num = 277337"
   ]
  },
  {
   "cell_type": "code",
   "execution_count": 277,
   "metadata": {
    "scrolled": false
   },
   "outputs": [
    {
     "data": {
      "application/vnd.jupyter.widget-view+json": {
       "model_id": "",
       "version_major": 2,
       "version_minor": 0
      },
      "text/plain": [
       "HBox(children=(FloatProgress(value=0.0, max=1.0), HTML(value='')))"
      ]
     },
     "metadata": {},
     "output_type": "display_data"
    },
    {
     "data": {
      "text/html": [
       "<div>\n",
       "<style scoped>\n",
       "    .dataframe tbody tr th:only-of-type {\n",
       "        vertical-align: middle;\n",
       "    }\n",
       "\n",
       "    .dataframe tbody tr th {\n",
       "        vertical-align: top;\n",
       "    }\n",
       "\n",
       "    .dataframe thead th {\n",
       "        text-align: right;\n",
       "    }\n",
       "</style>\n",
       "<table border=\"1\" class=\"dataframe\">\n",
       "  <thead>\n",
       "    <tr style=\"text-align: right;\">\n",
       "      <th></th>\n",
       "      <th>target_num</th>\n",
       "      <th>beam_idx</th>\n",
       "      <th>log_prob</th>\n",
       "      <th>pred_factor_list</th>\n",
       "      <th>product</th>\n",
       "      <th>correct_product</th>\n",
       "      <th>correct_factorization</th>\n",
       "      <th>target_is_prime</th>\n",
       "      <th>input_string</th>\n",
       "      <th>pred_list</th>\n",
       "      <th>pred_str</th>\n",
       "      <th>target_str</th>\n",
       "      <th>target_factor_list</th>\n",
       "      <th>n_target_factors</th>\n",
       "      <th>n_pred_factors</th>\n",
       "      <th>num_prime_factors_pred</th>\n",
       "      <th>percent_prime_factors_pred</th>\n",
       "      <th>pred_same_as_target</th>\n",
       "      <th>min_target_prime_factor_if_composite</th>\n",
       "      <th>lev_dist</th>\n",
       "    </tr>\n",
       "  </thead>\n",
       "  <tbody>\n",
       "    <tr>\n",
       "      <th>0</th>\n",
       "      <td>277337</td>\n",
       "      <td>0</td>\n",
       "      <td>-3.147279</td>\n",
       "      <td>[5, 113, 341]</td>\n",
       "      <td>192665</td>\n",
       "      <td>False</td>\n",
       "      <td>False</td>\n",
       "      <td>False</td>\n",
       "      <td>[20, 1, 11, 17]</td>\n",
       "      <td>[[5], [4, 17], [14, 5]]</td>\n",
       "      <td>&gt; 5 x 4 17 x 14 5 . _ _</td>\n",
       "      <td>&gt; 19 7 x 1 0 23 .</td>\n",
       "      <td>[463, 599]</td>\n",
       "      <td>2</td>\n",
       "      <td>3</td>\n",
       "      <td>2</td>\n",
       "      <td>0.666667</td>\n",
       "      <td>False</td>\n",
       "      <td>463</td>\n",
       "      <td>10</td>\n",
       "    </tr>\n",
       "    <tr>\n",
       "      <th>1</th>\n",
       "      <td>277337</td>\n",
       "      <td>1</td>\n",
       "      <td>-3.211429</td>\n",
       "      <td>[5, 107, 527]</td>\n",
       "      <td>281945</td>\n",
       "      <td>False</td>\n",
       "      <td>False</td>\n",
       "      <td>False</td>\n",
       "      <td>[20, 1, 11, 17]</td>\n",
       "      <td>[[5], [4, 11], [21, 23]]</td>\n",
       "      <td>&gt; 5 x 4 11 x 21 23 . _ _</td>\n",
       "      <td>&gt; 19 7 x 1 0 23 .</td>\n",
       "      <td>[463, 599]</td>\n",
       "      <td>2</td>\n",
       "      <td>3</td>\n",
       "      <td>2</td>\n",
       "      <td>0.666667</td>\n",
       "      <td>False</td>\n",
       "      <td>463</td>\n",
       "      <td>9</td>\n",
       "    </tr>\n",
       "    <tr>\n",
       "      <th>2</th>\n",
       "      <td>277337</td>\n",
       "      <td>2</td>\n",
       "      <td>-3.589801</td>\n",
       "      <td>[5, 101, 401]</td>\n",
       "      <td>202505</td>\n",
       "      <td>False</td>\n",
       "      <td>False</td>\n",
       "      <td>False</td>\n",
       "      <td>[20, 1, 11, 17]</td>\n",
       "      <td>[[5], [4, 5], [16, 17]]</td>\n",
       "      <td>&gt; 5 x 4 5 x 16 17 . _ _</td>\n",
       "      <td>&gt; 19 7 x 1 0 23 .</td>\n",
       "      <td>[463, 599]</td>\n",
       "      <td>2</td>\n",
       "      <td>3</td>\n",
       "      <td>3</td>\n",
       "      <td>1.000000</td>\n",
       "      <td>False</td>\n",
       "      <td>463</td>\n",
       "      <td>10</td>\n",
       "    </tr>\n",
       "    <tr>\n",
       "      <th>3</th>\n",
       "      <td>277337</td>\n",
       "      <td>3</td>\n",
       "      <td>-3.629195</td>\n",
       "      <td>[5, 97, 421]</td>\n",
       "      <td>204185</td>\n",
       "      <td>False</td>\n",
       "      <td>False</td>\n",
       "      <td>False</td>\n",
       "      <td>[20, 1, 11, 17]</td>\n",
       "      <td>[[5], [4, 1], [17, 13]]</td>\n",
       "      <td>&gt; 5 x 4 1 x 17 13 . _ _</td>\n",
       "      <td>&gt; 19 7 x 1 0 23 .</td>\n",
       "      <td>[463, 599]</td>\n",
       "      <td>2</td>\n",
       "      <td>3</td>\n",
       "      <td>3</td>\n",
       "      <td>1.000000</td>\n",
       "      <td>False</td>\n",
       "      <td>463</td>\n",
       "      <td>9</td>\n",
       "    </tr>\n",
       "    <tr>\n",
       "      <th>4</th>\n",
       "      <td>277337</td>\n",
       "      <td>4</td>\n",
       "      <td>-3.711498</td>\n",
       "      <td>[17, 15433]</td>\n",
       "      <td>262361</td>\n",
       "      <td>False</td>\n",
       "      <td>False</td>\n",
       "      <td>False</td>\n",
       "      <td>[20, 1, 11, 17]</td>\n",
       "      <td>[[17], [1, 2, 19, 1]]</td>\n",
       "      <td>&gt; 17 x 1 2 19 1 . _ _ _</td>\n",
       "      <td>&gt; 19 7 x 1 0 23 .</td>\n",
       "      <td>[463, 599]</td>\n",
       "      <td>2</td>\n",
       "      <td>2</td>\n",
       "      <td>1</td>\n",
       "      <td>0.500000</td>\n",
       "      <td>False</td>\n",
       "      <td>463</td>\n",
       "      <td>7</td>\n",
       "    </tr>\n",
       "    <tr>\n",
       "      <th>5</th>\n",
       "      <td>277337</td>\n",
       "      <td>5</td>\n",
       "      <td>-3.869519</td>\n",
       "      <td>[11, 43, 553]</td>\n",
       "      <td>261569</td>\n",
       "      <td>False</td>\n",
       "      <td>False</td>\n",
       "      <td>False</td>\n",
       "      <td>[20, 1, 11, 17]</td>\n",
       "      <td>[[11], [1, 19], [23, 1]]</td>\n",
       "      <td>&gt; 11 x 1 19 x 23 1 . _ _</td>\n",
       "      <td>&gt; 19 7 x 1 0 23 .</td>\n",
       "      <td>[463, 599]</td>\n",
       "      <td>2</td>\n",
       "      <td>3</td>\n",
       "      <td>2</td>\n",
       "      <td>0.666667</td>\n",
       "      <td>False</td>\n",
       "      <td>463</td>\n",
       "      <td>7</td>\n",
       "    </tr>\n",
       "    <tr>\n",
       "      <th>6</th>\n",
       "      <td>277337</td>\n",
       "      <td>6</td>\n",
       "      <td>-3.960406</td>\n",
       "      <td>[23, 11983]</td>\n",
       "      <td>275609</td>\n",
       "      <td>False</td>\n",
       "      <td>False</td>\n",
       "      <td>False</td>\n",
       "      <td>[20, 1, 11, 17]</td>\n",
       "      <td>[[23], [20, 19, 7]]</td>\n",
       "      <td>&gt; 23 x 20 19 7 . _ _ _ _</td>\n",
       "      <td>&gt; 19 7 x 1 0 23 .</td>\n",
       "      <td>[463, 599]</td>\n",
       "      <td>2</td>\n",
       "      <td>2</td>\n",
       "      <td>1</td>\n",
       "      <td>0.500000</td>\n",
       "      <td>False</td>\n",
       "      <td>463</td>\n",
       "      <td>9</td>\n",
       "    </tr>\n",
       "    <tr>\n",
       "      <th>7</th>\n",
       "      <td>277337</td>\n",
       "      <td>7</td>\n",
       "      <td>-4.139458</td>\n",
       "      <td>[5, 109, 553]</td>\n",
       "      <td>301385</td>\n",
       "      <td>False</td>\n",
       "      <td>False</td>\n",
       "      <td>False</td>\n",
       "      <td>[20, 1, 11, 17]</td>\n",
       "      <td>[[5], [4, 13], [23, 1]]</td>\n",
       "      <td>&gt; 5 x 4 13 x 23 1 . _ _</td>\n",
       "      <td>&gt; 19 7 x 1 0 23 .</td>\n",
       "      <td>[463, 599]</td>\n",
       "      <td>2</td>\n",
       "      <td>3</td>\n",
       "      <td>2</td>\n",
       "      <td>0.666667</td>\n",
       "      <td>False</td>\n",
       "      <td>463</td>\n",
       "      <td>8</td>\n",
       "    </tr>\n",
       "    <tr>\n",
       "      <th>8</th>\n",
       "      <td>277337</td>\n",
       "      <td>8</td>\n",
       "      <td>-4.495574</td>\n",
       "      <td>[5, 109, 457]</td>\n",
       "      <td>249065</td>\n",
       "      <td>False</td>\n",
       "      <td>False</td>\n",
       "      <td>False</td>\n",
       "      <td>[20, 1, 11, 17]</td>\n",
       "      <td>[[5], [4, 13], [19, 1]]</td>\n",
       "      <td>&gt; 5 x 4 13 x 19 1 . _ _</td>\n",
       "      <td>&gt; 19 7 x 1 0 23 .</td>\n",
       "      <td>[463, 599]</td>\n",
       "      <td>2</td>\n",
       "      <td>3</td>\n",
       "      <td>3</td>\n",
       "      <td>1.000000</td>\n",
       "      <td>False</td>\n",
       "      <td>463</td>\n",
       "      <td>10</td>\n",
       "    </tr>\n",
       "    <tr>\n",
       "      <th>9</th>\n",
       "      <td>277337</td>\n",
       "      <td>9</td>\n",
       "      <td>-5.240434</td>\n",
       "      <td>[7, 7, 7, 743]</td>\n",
       "      <td>254849</td>\n",
       "      <td>False</td>\n",
       "      <td>False</td>\n",
       "      <td>False</td>\n",
       "      <td>[20, 1, 11, 17]</td>\n",
       "      <td>[[7], [7], [7], [1, 6, 23]]</td>\n",
       "      <td>&gt; 7 x 7 x 7 x 1 6 23 .</td>\n",
       "      <td>&gt; 19 7 x 1 0 23 .</td>\n",
       "      <td>[463, 599]</td>\n",
       "      <td>2</td>\n",
       "      <td>4</td>\n",
       "      <td>4</td>\n",
       "      <td>1.000000</td>\n",
       "      <td>False</td>\n",
       "      <td>463</td>\n",
       "      <td>8</td>\n",
       "    </tr>\n",
       "  </tbody>\n",
       "</table>\n",
       "</div>"
      ],
      "text/plain": [
       "   target_num  beam_idx  log_prob pred_factor_list  product  correct_product  \\\n",
       "0      277337         0 -3.147279    [5, 113, 341]   192665            False   \n",
       "1      277337         1 -3.211429    [5, 107, 527]   281945            False   \n",
       "2      277337         2 -3.589801    [5, 101, 401]   202505            False   \n",
       "3      277337         3 -3.629195     [5, 97, 421]   204185            False   \n",
       "4      277337         4 -3.711498      [17, 15433]   262361            False   \n",
       "5      277337         5 -3.869519    [11, 43, 553]   261569            False   \n",
       "6      277337         6 -3.960406      [23, 11983]   275609            False   \n",
       "7      277337         7 -4.139458    [5, 109, 553]   301385            False   \n",
       "8      277337         8 -4.495574    [5, 109, 457]   249065            False   \n",
       "9      277337         9 -5.240434   [7, 7, 7, 743]   254849            False   \n",
       "\n",
       "   correct_factorization  target_is_prime     input_string  \\\n",
       "0                  False            False  [20, 1, 11, 17]   \n",
       "1                  False            False  [20, 1, 11, 17]   \n",
       "2                  False            False  [20, 1, 11, 17]   \n",
       "3                  False            False  [20, 1, 11, 17]   \n",
       "4                  False            False  [20, 1, 11, 17]   \n",
       "5                  False            False  [20, 1, 11, 17]   \n",
       "6                  False            False  [20, 1, 11, 17]   \n",
       "7                  False            False  [20, 1, 11, 17]   \n",
       "8                  False            False  [20, 1, 11, 17]   \n",
       "9                  False            False  [20, 1, 11, 17]   \n",
       "\n",
       "                     pred_list                  pred_str         target_str  \\\n",
       "0      [[5], [4, 17], [14, 5]]   > 5 x 4 17 x 14 5 . _ _  > 19 7 x 1 0 23 .   \n",
       "1     [[5], [4, 11], [21, 23]]  > 5 x 4 11 x 21 23 . _ _  > 19 7 x 1 0 23 .   \n",
       "2      [[5], [4, 5], [16, 17]]   > 5 x 4 5 x 16 17 . _ _  > 19 7 x 1 0 23 .   \n",
       "3      [[5], [4, 1], [17, 13]]   > 5 x 4 1 x 17 13 . _ _  > 19 7 x 1 0 23 .   \n",
       "4        [[17], [1, 2, 19, 1]]   > 17 x 1 2 19 1 . _ _ _  > 19 7 x 1 0 23 .   \n",
       "5     [[11], [1, 19], [23, 1]]  > 11 x 1 19 x 23 1 . _ _  > 19 7 x 1 0 23 .   \n",
       "6          [[23], [20, 19, 7]]  > 23 x 20 19 7 . _ _ _ _  > 19 7 x 1 0 23 .   \n",
       "7      [[5], [4, 13], [23, 1]]   > 5 x 4 13 x 23 1 . _ _  > 19 7 x 1 0 23 .   \n",
       "8      [[5], [4, 13], [19, 1]]   > 5 x 4 13 x 19 1 . _ _  > 19 7 x 1 0 23 .   \n",
       "9  [[7], [7], [7], [1, 6, 23]]    > 7 x 7 x 7 x 1 6 23 .  > 19 7 x 1 0 23 .   \n",
       "\n",
       "  target_factor_list  n_target_factors  n_pred_factors  \\\n",
       "0         [463, 599]                 2               3   \n",
       "1         [463, 599]                 2               3   \n",
       "2         [463, 599]                 2               3   \n",
       "3         [463, 599]                 2               3   \n",
       "4         [463, 599]                 2               2   \n",
       "5         [463, 599]                 2               3   \n",
       "6         [463, 599]                 2               2   \n",
       "7         [463, 599]                 2               3   \n",
       "8         [463, 599]                 2               3   \n",
       "9         [463, 599]                 2               4   \n",
       "\n",
       "   num_prime_factors_pred  percent_prime_factors_pred  pred_same_as_target  \\\n",
       "0                       2                    0.666667                False   \n",
       "1                       2                    0.666667                False   \n",
       "2                       3                    1.000000                False   \n",
       "3                       3                    1.000000                False   \n",
       "4                       1                    0.500000                False   \n",
       "5                       2                    0.666667                False   \n",
       "6                       1                    0.500000                False   \n",
       "7                       2                    0.666667                False   \n",
       "8                       3                    1.000000                False   \n",
       "9                       4                    1.000000                False   \n",
       "\n",
       "   min_target_prime_factor_if_composite  lev_dist  \n",
       "0                                   463        10  \n",
       "1                                   463         9  \n",
       "2                                   463        10  \n",
       "3                                   463         9  \n",
       "4                                   463         7  \n",
       "5                                   463         7  \n",
       "6                                   463         9  \n",
       "7                                   463         8  \n",
       "8                                   463        10  \n",
       "9                                   463         8  "
      ]
     },
     "execution_count": 277,
     "metadata": {},
     "output_type": "execute_result"
    }
   ],
   "source": [
    "num_df = metrics_utils.form_factor_df(model, t, device, args['data']['base'], np.array([target_num]), args['model_args']['max_decode_size'], postprocess_minimal=False, n_beams = 10)\n",
    "num_df['lev_dist'] = num_df.apply(lambda x: Levenshtein.distance(x['pred_str'].replace(' _', ''), x['target_str']), axis=1)\n",
    "num_df"
   ]
  },
  {
   "cell_type": "code",
   "execution_count": 278,
   "metadata": {},
   "outputs": [
    {
     "data": {
      "text/plain": [
       "['>', 19, 7, 'x', 1, 0, 23, '.']"
      ]
     },
     "execution_count": 278,
     "metadata": {},
     "output_type": "execute_result"
    }
   ],
   "source": [
    "data_utils.form_label(target_num, args['data']['base'])"
   ]
  },
  {
   "cell_type": "code",
   "execution_count": 279,
   "metadata": {},
   "outputs": [],
   "source": [
    "def get_prob_of_factorization(number, factorization):\n",
    "    tokens = t.encode(data_utils.form_input(number, args['data']['base']))\n",
    "    tensor_input = torch.tensor(tokens).unsqueeze(0).to(device)\n",
    "    \n",
    "    factorization_input = torch.tensor(t.encode(factorization)).unsqueeze(0).to(device)\n",
    "    \n",
    "    model_output = torch.softmax(model(tensor_input, factorization_input).squeeze(0), dim=-1)\n",
    "    \n",
    "    probs = model_output[torch.arange(model_output.size(0)-1),factorization_input[0,1:]]\n",
    "    \n",
    "    return probs.log().sum()"
   ]
  },
  {
   "cell_type": "code",
   "execution_count": 280,
   "metadata": {},
   "outputs": [
    {
     "data": {
      "text/plain": [
       "tensor(-22.5835, device='cuda:0', grad_fn=<SumBackward0>)"
      ]
     },
     "execution_count": 280,
     "metadata": {},
     "output_type": "execute_result"
    }
   ],
   "source": [
    "get_prob_of_factorization(target_num, num_df.iloc[0]['target_str'].strip().split(' '))"
   ]
  },
  {
   "cell_type": "code",
   "execution_count": null,
   "metadata": {},
   "outputs": [],
   "source": []
  }
 ],
 "metadata": {
  "kernelspec": {
   "display_name": "Python 3",
   "language": "python",
   "name": "python3"
  },
  "language_info": {
   "codemirror_mode": {
    "name": "ipython",
    "version": 3
   },
   "file_extension": ".py",
   "mimetype": "text/x-python",
   "name": "python",
   "nbconvert_exporter": "python",
   "pygments_lexer": "ipython3",
   "version": "3.8.7"
  }
 },
 "nbformat": 4,
 "nbformat_minor": 4
}
