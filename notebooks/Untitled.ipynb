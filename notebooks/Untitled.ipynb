{
 "cells": [
  {
   "cell_type": "code",
   "execution_count": 1,
   "metadata": {},
   "outputs": [],
   "source": [
    "import numpy as np\n",
    "import sys\n",
    "sys.path.append('../src/PrimeFactorization')\n",
    "from PrimeFactorization import primeFactorize\n",
    "import copy\n",
    "from aks import aks\n",
    "import itertools\n",
    "import functools\n",
    "import math"
   ]
  },
  {
   "cell_type": "code",
   "execution_count": 2,
   "metadata": {},
   "outputs": [],
   "source": [
    "@functools.lru_cache(maxsize=1000)\n",
    "def is_prime(n, n_iter=1000):\n",
    "    d = 2\n",
    "    while d * d <= n:\n",
    "        if n % d == 0:\n",
    "            return False\n",
    "        d += 1\n",
    "    return n > 1"
   ]
  },
  {
   "cell_type": "code",
   "execution_count": 3,
   "metadata": {},
   "outputs": [],
   "source": [
    "# https://rosettacode.org/wiki/Miller%E2%80%93Rabin_primality_test\n",
    "def _try_composite(a, d, n, s):\n",
    "    if pow(a, d, n) == 1:\n",
    "        return False\n",
    "    for i in range(s):\n",
    "        if pow(a, 2**i * d, n) == n-1:\n",
    "            return False\n",
    "    return True # n  is definitely composite\n",
    "@functools.lru_cache(maxsize=1000)\n",
    "def is_prime(n, _precision_for_huge_n=16):\n",
    "    n=int(n)\n",
    "    if n < 2: return False\n",
    "    if n <= _known_primes[-1]:\n",
    "        if n in _known_primes:\n",
    "            return True\n",
    "    for p in _known_primes:\n",
    "        if n % p == 0:\n",
    "            return False\n",
    "    d, s = n - 1, 0\n",
    "    while not d % 2:\n",
    "        d, s = d >> 1, s + 1\n",
    "    # Returns exact according to http://primes.utm.edu/prove/prove2_3.html\n",
    "    if n < 1373653: \n",
    "        return not any(_try_composite(a, d, n, s) for a in (2, 3))\n",
    "    if n < 25326001: \n",
    "        return not any(_try_composite(a, d, n, s) for a in (2, 3, 5))\n",
    "    if n < 118670087467: \n",
    "        if n == 3215031751: \n",
    "            return False\n",
    "        return not any(_try_composite(a, d, n, s) for a in (2, 3, 5, 7))\n",
    "    if n < 2152302898747:\n",
    "        return not any(_try_composite(a, d, n, s) for a in (2, 3, 5, 7, 11))\n",
    "    if n < 3474749660383: \n",
    "        return not any(_try_composite(a, d, n, s) for a in (2, 3, 5, 7, 11, 13))\n",
    "    if n < 341550071728321:\n",
    "        return not any(_try_composite(a, d, n, s) for a in (2, 3, 5, 7, 11, 13, 17))\n",
    "    # otherwise\n",
    "    return not any(_try_composite(a, d, n, s) \n",
    "                for a in _known_primes[:_precision_for_huge_n])\n",
    "_known_primes = [2, 3]\n",
    "_known_primes += [x for x in range(5, 1000, 2) if is_prime(x)]\n",
    " "
   ]
  },
  {
   "cell_type": "code",
   "execution_count": 65,
   "metadata": {},
   "outputs": [],
   "source": [
    "def try_find_factor(number, scale=2, offset=0, verbose=False):\n",
    "    base = np.ceil(math.sqrt(number))\n",
    "    if verbose:\n",
    "        print('base, scale, offset: ', base, scale, offset)\n",
    "    shifted = base + offset\n",
    "    scaled = scale*shifted\n",
    "    \n",
    "    if verbose:\n",
    "        print('S, S\\': ', shifted, scaled)\n",
    "        print(\"shifted squared, scaled base squared: \",shifted**2, scaled**2)\n",
    "    \n",
    "    shifted_squared_mod_n = shifted**2 % number\n",
    "#     print('WARNING: EXPERIMENTAL ENABLED!!!!')\n",
    "    scaled_shifted_squared_mod_n = scaled**2 % number\n",
    "#     scaled_shifted_squared_mod_n = shifted_squared_mod_n * scale**2\n",
    "    \n",
    "    if verbose:\n",
    "        print('R, R\\': ', shifted_squared_mod_n, scaled_shifted_squared_mod_n)\n",
    "    \n",
    "    \n",
    "    first_term = shifted * scaled\n",
    "    second_term = math.sqrt(shifted_squared_mod_n * scaled_shifted_squared_mod_n)\n",
    "    \n",
    "    if verbose:\n",
    "        print('X, Y: ', first_term, second_term)\n",
    "        print('X**2 % N: ', first_term**2 % number)\n",
    "        print('Y**2 % N: ', second_term**2 % number)\n",
    "    \n",
    "    plus_term = first_term + second_term\n",
    "    minus_term = abs(first_term - second_term)\n",
    "    \n",
    "    if verbose:\n",
    "        print('f+, f-: ', plus_term, minus_term)\n",
    "        # print('%.18f'%plus_term)\n",
    "    \n",
    "    gcd_1 = np.gcd(int(plus_term), number)\n",
    "    gcd_2 = np.gcd(int(minus_term), number)\n",
    "    if verbose:\n",
    "        print('gcds: ', gcd_1, gcd_2)\n",
    "        print('='*100)\n",
    "    \n",
    "    return gcd_1, gcd_2"
   ]
  },
  {
   "cell_type": "code",
   "execution_count": 66,
   "metadata": {},
   "outputs": [],
   "source": [
    "def valid_scale_offset(number, scale, offset):\n",
    "    base = np.ceil(math.sqrt(number))\n",
    "    shifted = (base + offset)**2\n",
    "    shifted_mod = shifted % number\n",
    "    scaled = shifted_mod * scale**2\n",
    "    return scaled // number == 0"
   ]
  },
  {
   "cell_type": "code",
   "execution_count": 72,
   "metadata": {
    "scrolled": false
   },
   "outputs": [
    {
     "name": "stdout",
     "output_type": "stream",
     "text": [
      "True\n",
      "base, scale, offset:  112.0 5 0\n",
      "S, S':  112.0 560.0\n",
      "shifted squared, scaled base squared:  12544.0 313600.0\n",
      "R, R':  199.0 4975.0\n",
      "X, Y:  62720.0 995.0\n",
      "X**2 % N:  2425.0\n",
      "Y**2 % N:  2425.0\n",
      "f+, f-:  63715.0 61725.0\n",
      "gcds:  5 12345\n",
      "====================================================================================================\n"
     ]
    }
   ],
   "source": [
    "number=12345\n",
    "scale=5\n",
    "offset=0\n",
    "valid_scale = valid_scale_offset(number,scale,offset)\n",
    "print(valid_scale)\n",
    "if valid_scale or True:\n",
    "    try_find_factor(number, scale, offset, verbose=True)"
   ]
  },
  {
   "cell_type": "code",
   "execution_count": 52,
   "metadata": {},
   "outputs": [
    {
     "data": {
      "text/plain": [
       "24690"
      ]
     },
     "execution_count": 52,
     "metadata": {},
     "output_type": "execute_result"
    }
   ],
   "source": [
    "12345*2"
   ]
  },
  {
   "cell_type": "code",
   "execution_count": 62,
   "metadata": {},
   "outputs": [],
   "source": [
    "def try_factor_term(number, max_offset, max_scale):\n",
    "    if max_scale > 0:\n",
    "        valid_scales = np.arange(2, min(max_scale, number))\n",
    "    else:\n",
    "        valid_scales = np.arange(2, number)\n",
    "        \n",
    "    if max_offset > 0:\n",
    "        valid_offsets = np.arange(min(max_offset, number))\n",
    "    else:\n",
    "        valid_offsets = np.arange(number)\n",
    "    \n",
    "    valid_scale_offsets = itertools.product(valid_scales, valid_offsets)\n",
    "    \n",
    "    base = np.ceil(math.sqrt(number))\n",
    "    if base**2==number:\n",
    "        return int(base)\n",
    "#     shifted = (base + valid_scale_offsets[:,1])**2\n",
    "#     shifted_mod = shifted % number\n",
    "#     scaled = shifted_mod * valid_scale_offsets[:,0]**2\n",
    "#     invalid = scaled // number > 0\n",
    "    \n",
    "#     valid_scale_offsets = valid_scale_offsets[~invalid]\n",
    "    \n",
    "    \n",
    "    for scale, offset in valid_scale_offsets:\n",
    "#         if not valid_scale_offset(number, scale, offset):\n",
    "#             continue\n",
    "        gcd1, gcd2 = try_find_factor(number, scale, offset)\n",
    "#         print(gcd1, gcd2)\n",
    "        if 1 < gcd1 < number:\n",
    "            print('Success!: number, base, scale, offset, factor: ', number, base, scale, offset, gcd1)\n",
    "            print('Was it valid?: ', valid_scale_offset(number, scale, offset))\n",
    "            #print('='*100)\n",
    "            return gcd1\n",
    "        if 1 < gcd2 < number:\n",
    "            print('Success!: number, base, scale, offset, factor: ', number, base, scale, offset, gcd2)\n",
    "            print('Was it valid?: ', valid_scale_offset(number, scale, offset))\n",
    "            #print('='*100)\n",
    "            return gcd2\n",
    "    raise ValueError('Algorithm Failed to Converge :( Try a larger scale or offset')"
   ]
  },
  {
   "cell_type": "code",
   "execution_count": 63,
   "metadata": {},
   "outputs": [],
   "source": [
    "def factor(number, max_offset, max_scale):\n",
    "    factors = [number]\n",
    "#     print(factors)\n",
    "    while not all([is_prime(n) for n in factors]):\n",
    "        new_factors = []\n",
    "        for f in factors:\n",
    "            if is_prime(f):\n",
    "                new_factors.append(f)\n",
    "                continue\n",
    "            new_factor = try_factor_term(f, max_offset, max_scale)\n",
    "            new_factors.append(new_factor)\n",
    "            new_factors.append(f//new_factor)\n",
    "        factors = new_factors\n",
    "    return sorted(factors)"
   ]
  },
  {
   "cell_type": "code",
   "execution_count": 64,
   "metadata": {
    "scrolled": false
   },
   "outputs": [
    {
     "name": "stdout",
     "output_type": "stream",
     "text": [
      "Success!: number, base, scale, offset, factor:  123456789123456789123456789123456789 3.513641830401283e+17 2 32 19\n",
      "Was it valid?:  True\n",
      "Success!: number, base, scale, offset, factor:  6497725743339831006497725743339831 8.060847190798142e+16 2 0 3\n",
      "Was it valid?:  True\n",
      "Success!: number, base, scale, offset, factor:  2165908581113277002165908581113277 4.6539322955037464e+16 2 4 77\n",
      "Was it valid?:  True\n",
      "Success!: number, base, scale, offset, factor:  77 9.0 2 2 11\n",
      "Was it valid?:  False\n",
      "Success!: number, base, scale, offset, factor:  28128682871601000028128682871601 5303648071997330.0 2 1 39\n",
      "Was it valid?:  True\n",
      "Success!: number, base, scale, offset, factor:  39 7.0 2 2 3\n",
      "Was it valid?:  True\n",
      "Success!: number, base, scale, offset, factor:  721248278759000000721248278759 849263374200843.0 2 44 101\n",
      "Was it valid?:  True\n",
      "Success!: number, base, scale, offset, factor:  7141072066920792086348992859 84504864161307.0 2 1164 3607\n",
      "Was it valid?:  True\n",
      "Success!: number, base, scale, offset, factor:  1979781554455445546534237 1407047104562.0 2 1048 3803\n",
      "Was it valid?:  True\n",
      "Success!: number, base, scale, offset, factor:  520584158415841584679 22816313428.0 2 288 9901\n",
      "Was it valid?:  True\n",
      "Success!: number, base, scale, offset, factor:  52578947421052579 229300998.0 9 8029 52579\n",
      "Was it valid?:  True\n",
      "Wall time: 714 ms\n"
     ]
    },
    {
     "data": {
      "text/plain": [
       "[3, 3, 7, 11, 13, 19, 101, 3607, 3803, 9901, 52579, 999999000001]"
      ]
     },
     "execution_count": 64,
     "metadata": {},
     "output_type": "execute_result"
    }
   ],
   "source": [
    "%%time\n",
    "factor(123456789123456789123456789123456789, 10000, 100)"
   ]
  },
  {
   "cell_type": "code",
   "execution_count": 43,
   "metadata": {},
   "outputs": [
    {
     "name": "stdout",
     "output_type": "stream",
     "text": [
      "Wall time: 31 ms\n"
     ]
    },
    {
     "data": {
      "text/plain": [
       "[3, 3, 3, 757, 3607, 3803, 440334654777631]"
      ]
     },
     "execution_count": 43,
     "metadata": {},
     "output_type": "execute_result"
    }
   ],
   "source": [
    "%%time\n",
    "factor(123456789123456789123456789, 1000, 100)"
   ]
  },
  {
   "cell_type": "code",
   "execution_count": null,
   "metadata": {},
   "outputs": [],
   "source": [
    "%%time\n",
    "primeFactorize(123456789)"
   ]
  },
  {
   "cell_type": "code",
   "execution_count": null,
   "metadata": {},
   "outputs": [],
   "source": [
    "np.log(123456789)/np.log(2)"
   ]
  },
  {
   "cell_type": "code",
   "execution_count": null,
   "metadata": {},
   "outputs": [],
   "source": []
  },
  {
   "cell_type": "code",
   "execution_count": null,
   "metadata": {},
   "outputs": [],
   "source": []
  },
  {
   "cell_type": "code",
   "execution_count": null,
   "metadata": {},
   "outputs": [],
   "source": []
  },
  {
   "cell_type": "code",
   "execution_count": null,
   "metadata": {},
   "outputs": [],
   "source": []
  }
 ],
 "metadata": {
  "kernelspec": {
   "display_name": "Python 3",
   "language": "python",
   "name": "python3"
  },
  "language_info": {
   "codemirror_mode": {
    "name": "ipython",
    "version": 3
   },
   "file_extension": ".py",
   "mimetype": "text/x-python",
   "name": "python",
   "nbconvert_exporter": "python",
   "pygments_lexer": "ipython3",
   "version": "3.8.7"
  }
 },
 "nbformat": 4,
 "nbformat_minor": 4
}
